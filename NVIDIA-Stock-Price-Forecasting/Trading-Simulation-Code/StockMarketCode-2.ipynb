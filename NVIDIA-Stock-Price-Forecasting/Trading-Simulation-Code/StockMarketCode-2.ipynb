{
  "cells": [
    {
      "cell_type": "markdown",
      "metadata": {
        "id": "qyPjRgpo1mRK"
      },
      "source": [
        "Stock Assignment Homework 5"
      ]
    },
    {
      "cell_type": "code",
      "execution_count": null,
      "metadata": {
        "id": "HuilUy7m1mRO"
      },
      "outputs": [],
      "source": [
        "import pandas as pd\n",
        "import matplotlib.pyplot as plt\n",
        "import seaborn as sns\n",
        "import numpy as np\n",
        "import warnings\n",
        "warnings.filterwarnings(\"ignore\")"
      ]
    },
    {
      "cell_type": "markdown",
      "metadata": {
        "id": "Zk7aiaHf1mRP"
      },
      "source": [
        "Question 1."
      ]
    },
    {
      "cell_type": "code",
      "execution_count": null,
      "metadata": {
        "id": "jQYWo8Bc1mRP",
        "outputId": "c8254511-cd90-40dd-b2cd-40a0b138a47b"
      },
      "outputs": [
        {
          "data": {
            "text/html": [
              "<div>\n",
              "<style scoped>\n",
              "    .dataframe tbody tr th:only-of-type {\n",
              "        vertical-align: middle;\n",
              "    }\n",
              "\n",
              "    .dataframe tbody tr th {\n",
              "        vertical-align: top;\n",
              "    }\n",
              "\n",
              "    .dataframe thead th {\n",
              "        text-align: right;\n",
              "    }\n",
              "</style>\n",
              "<table border=\"1\" class=\"dataframe\">\n",
              "  <thead>\n",
              "    <tr style=\"text-align: right;\">\n",
              "      <th></th>\n",
              "      <th>Year</th>\n",
              "      <th>Week_Number</th>\n",
              "      <th>mean_return</th>\n",
              "      <th>volatility</th>\n",
              "      <th>Label</th>\n",
              "    </tr>\n",
              "  </thead>\n",
              "  <tbody>\n",
              "    <tr>\n",
              "      <th>0</th>\n",
              "      <td>2020</td>\n",
              "      <td>0</td>\n",
              "      <td>0.1790</td>\n",
              "      <td>2.517300</td>\n",
              "      <td>green</td>\n",
              "    </tr>\n",
              "    <tr>\n",
              "      <th>1</th>\n",
              "      <td>2020</td>\n",
              "      <td>1</td>\n",
              "      <td>0.6902</td>\n",
              "      <td>0.443671</td>\n",
              "      <td>green</td>\n",
              "    </tr>\n",
              "    <tr>\n",
              "      <th>2</th>\n",
              "      <td>2020</td>\n",
              "      <td>2</td>\n",
              "      <td>0.4174</td>\n",
              "      <td>1.923896</td>\n",
              "      <td>red</td>\n",
              "    </tr>\n",
              "    <tr>\n",
              "      <th>3</th>\n",
              "      <td>2020</td>\n",
              "      <td>3</td>\n",
              "      <td>0.1240</td>\n",
              "      <td>1.014732</td>\n",
              "      <td>green</td>\n",
              "    </tr>\n",
              "    <tr>\n",
              "      <th>4</th>\n",
              "      <td>2020</td>\n",
              "      <td>4</td>\n",
              "      <td>-1.1110</td>\n",
              "      <td>3.027821</td>\n",
              "      <td>red</td>\n",
              "    </tr>\n",
              "  </tbody>\n",
              "</table>\n",
              "</div>"
            ],
            "text/plain": [
              "   Year  Week_Number  mean_return  volatility  Label\n",
              "0  2020            0       0.1790    2.517300  green\n",
              "1  2020            1       0.6902    0.443671  green\n",
              "2  2020            2       0.4174    1.923896    red\n",
              "3  2020            3       0.1240    1.014732  green\n",
              "4  2020            4      -1.1110    3.027821    red"
            ]
          },
          "execution_count": 3,
          "metadata": {},
          "output_type": "execute_result"
        }
      ],
      "source": [
        "#reading weekly dataset of NVDA\n",
        "df = pd.read_csv(\"/Volumes/GoogleDrive/My Drive/NVDA.csv\")\n",
        "\n",
        "#getting weekly data for year 1\n",
        "df_year_1 = pd.DataFrame()\n",
        "df_year_1 = df[df[\"Year\"] == 2020]\n",
        "#removing any invalid columns\n",
        "df_year_1 = df_year_1[df_year_1[\"Label\"] != \"undefined\"]\n",
        "df_year_1 = df_year_1.reset_index(drop=True)\n",
        "df_year_1.head()"
      ]
    },
    {
      "cell_type": "code",
      "execution_count": null,
      "metadata": {
        "id": "iPHxiiHJ1mRQ",
        "outputId": "587befed-a3f8-433a-8bee-0ad5ccad58aa"
      },
      "outputs": [
        {
          "data": {
            "text/plain": [
              "[<matplotlib.lines.Line2D at 0x149890220>]"
            ]
          },
          "execution_count": 7,
          "metadata": {},
          "output_type": "execute_result"
        },
        {
          "data": {
            "image/png": "[encoded data removed]",
            "text/plain": [
              "<Figure size 640x480 with 1 Axes>"
            ]
          },
          "metadata": {},
          "output_type": "display_data"
        }
      ],
      "source": [
        "#getting data for both classes or labels into seperate dataframes\n",
        "df_year_1_red = df_year_1[df_year_1[\"Label\"] == \"red\"]\n",
        "df_year_1_green = df_year_1[df_year_1[\"Label\"] == \"green\"]\n",
        "\n",
        "#equation below was found after many experimentation on slope and intercept values\n",
        "#y = -0.8*x+3.25\n",
        "\n",
        "#removing some points to get a clear linear seperation between classes by using line equation as dividing parameter\n",
        "df_year_1_red = df_year_1_red[df_year_1_red[\"volatility\"] > -0.8*df_year_1_red[\"mean_return\"]+3.25 ]\n",
        "df_year_1_green = df_year_1_green[df_year_1_green[\"volatility\"] < -0.8*df_year_1_green[\"mean_return\"] + 3.25 ]\n",
        "\n",
        "#putting reduced data back into dataframe for plotting\n",
        "df_year_1 = pd.concat([df_year_1_red,df_year_1_green])\n",
        "df_year_1 = df_year_1.reset_index(drop=True)\n",
        "\n",
        "#creating a scatterplot\n",
        "sns.scatterplot(x=\"mean_return\",y=\"volatility\",data=df_year_1,hue=\"Label\",palette=[\"r\",\"g\"])\n",
        "\n",
        "#creating line that seperates class labels\n",
        "x = np.linspace(-3,3)\n",
        "y = -0.8*x+3.25\n",
        "plt.plot(x, y, '-b', label='y=2x+1')"
      ]
    },
    {
      "cell_type": "code",
      "execution_count": null,
      "metadata": {
        "id": "dDEz8vnn1mRR"
      },
      "outputs": [],
      "source": [
        "#The equation of this line is y = -0.8*x+3.25"
      ]
    },
    {
      "cell_type": "markdown",
      "metadata": {
        "id": "F4xXXaFh1mRR"
      },
      "source": [
        "Question 2."
      ]
    },
    {
      "cell_type": "code",
      "execution_count": null,
      "metadata": {
        "id": "SwKhE3Z-1mRR",
        "outputId": "cc2d675f-7715-48b4-edab-146a6ad5f799"
      },
      "outputs": [
        {
          "data": {
            "text/html": [
              "<div>\n",
              "<style scoped>\n",
              "    .dataframe tbody tr th:only-of-type {\n",
              "        vertical-align: middle;\n",
              "    }\n",
              "\n",
              "    .dataframe tbody tr th {\n",
              "        vertical-align: top;\n",
              "    }\n",
              "\n",
              "    .dataframe thead th {\n",
              "        text-align: right;\n",
              "    }\n",
              "</style>\n",
              "<table border=\"1\" class=\"dataframe\">\n",
              "  <thead>\n",
              "    <tr style=\"text-align: right;\">\n",
              "      <th></th>\n",
              "      <th>Open</th>\n",
              "      <th>High</th>\n",
              "      <th>Low</th>\n",
              "      <th>Close</th>\n",
              "      <th>Adj Close</th>\n",
              "      <th>Volume</th>\n",
              "      <th>Return</th>\n",
              "      <th>Date</th>\n",
              "      <th>Week_Number</th>\n",
              "      <th>Year</th>\n",
              "      <th>Day</th>\n",
              "      <th>Weekday</th>\n",
              "      <th>mean_return</th>\n",
              "      <th>volatility</th>\n",
              "    </tr>\n",
              "  </thead>\n",
              "  <tbody>\n",
              "    <tr>\n",
              "      <th>0</th>\n",
              "      <td>131.042496</td>\n",
              "      <td>136.524994</td>\n",
              "      <td>129.625000</td>\n",
              "      <td>131.134995</td>\n",
              "      <td>130.931641</td>\n",
              "      <td>56064000</td>\n",
              "      <td>0.448</td>\n",
              "      <td>1/4/21</td>\n",
              "      <td>1</td>\n",
              "      <td>2021</td>\n",
              "      <td>4</td>\n",
              "      <td>Monday</td>\n",
              "      <td>0.4106</td>\n",
              "      <td>4.26435</td>\n",
              "    </tr>\n",
              "    <tr>\n",
              "      <th>1</th>\n",
              "      <td>130.997498</td>\n",
              "      <td>134.434998</td>\n",
              "      <td>130.869995</td>\n",
              "      <td>134.047501</td>\n",
              "      <td>133.839630</td>\n",
              "      <td>32276000</td>\n",
              "      <td>2.221</td>\n",
              "      <td>1/5/21</td>\n",
              "      <td>1</td>\n",
              "      <td>2021</td>\n",
              "      <td>5</td>\n",
              "      <td>Tuesday</td>\n",
              "      <td>0.4106</td>\n",
              "      <td>4.26435</td>\n",
              "    </tr>\n",
              "    <tr>\n",
              "      <th>2</th>\n",
              "      <td>132.225006</td>\n",
              "      <td>132.449997</td>\n",
              "      <td>125.860001</td>\n",
              "      <td>126.144997</td>\n",
              "      <td>125.949387</td>\n",
              "      <td>58042400</td>\n",
              "      <td>-5.895</td>\n",
              "      <td>1/6/21</td>\n",
              "      <td>1</td>\n",
              "      <td>2021</td>\n",
              "      <td>6</td>\n",
              "      <td>Wednesday</td>\n",
              "      <td>0.4106</td>\n",
              "      <td>4.26435</td>\n",
              "    </tr>\n",
              "    <tr>\n",
              "      <th>3</th>\n",
              "      <td>129.675003</td>\n",
              "      <td>133.777496</td>\n",
              "      <td>128.865005</td>\n",
              "      <td>133.440002</td>\n",
              "      <td>133.233093</td>\n",
              "      <td>46148000</td>\n",
              "      <td>5.783</td>\n",
              "      <td>1/7/21</td>\n",
              "      <td>1</td>\n",
              "      <td>2021</td>\n",
              "      <td>7</td>\n",
              "      <td>Thursday</td>\n",
              "      <td>0.4106</td>\n",
              "      <td>4.26435</td>\n",
              "    </tr>\n",
              "    <tr>\n",
              "      <th>4</th>\n",
              "      <td>133.625000</td>\n",
              "      <td>134.210007</td>\n",
              "      <td>130.419998</td>\n",
              "      <td>132.767502</td>\n",
              "      <td>132.561630</td>\n",
              "      <td>29252800</td>\n",
              "      <td>-0.504</td>\n",
              "      <td>1/8/21</td>\n",
              "      <td>1</td>\n",
              "      <td>2021</td>\n",
              "      <td>8</td>\n",
              "      <td>Friday</td>\n",
              "      <td>0.4106</td>\n",
              "      <td>4.26435</td>\n",
              "    </tr>\n",
              "  </tbody>\n",
              "</table>\n",
              "</div>"
            ],
            "text/plain": [
              "         Open        High         Low       Close   Adj Close    Volume  \\\n",
              "0  131.042496  136.524994  129.625000  131.134995  130.931641  56064000   \n",
              "1  130.997498  134.434998  130.869995  134.047501  133.839630  32276000   \n",
              "2  132.225006  132.449997  125.860001  126.144997  125.949387  58042400   \n",
              "3  129.675003  133.777496  128.865005  133.440002  133.233093  46148000   \n",
              "4  133.625000  134.210007  130.419998  132.767502  132.561630  29252800   \n",
              "\n",
              "   Return    Date  Week_Number  Year  Day    Weekday  mean_return  volatility  \n",
              "0   0.448  1/4/21            1  2021    4     Monday       0.4106     4.26435  \n",
              "1   2.221  1/5/21            1  2021    5    Tuesday       0.4106     4.26435  \n",
              "2  -5.895  1/6/21            1  2021    6  Wednesday       0.4106     4.26435  \n",
              "3   5.783  1/7/21            1  2021    7   Thursday       0.4106     4.26435  \n",
              "4  -0.504  1/8/21            1  2021    8     Friday       0.4106     4.26435  "
            ]
          },
          "execution_count": 12,
          "metadata": {},
          "output_type": "execute_result"
        }
      ],
      "source": [
        "df_2 = pd.read_csv(\"/Volumes/GoogleDrive/My Drive/NVDA_weekly_return_detailed.csv\")\n",
        "#getting data for year 2(2021)\n",
        "df_year_2 = df_2[df_2[\"Year\"] == 2021 ]\n",
        "df_year_2 = df_year_2.reset_index(drop=True)\n",
        "df_year_2.head()"
      ]
    },
    {
      "cell_type": "code",
      "execution_count": null,
      "metadata": {
        "id": "0fepnyPi1mRR",
        "outputId": "92e2f205-02b9-4bb5-8f26-6893ae9fb4a7"
      },
      "outputs": [
        {
          "data": {
            "text/html": [
              "<div>\n",
              "<style scoped>\n",
              "    .dataframe tbody tr th:only-of-type {\n",
              "        vertical-align: middle;\n",
              "    }\n",
              "\n",
              "    .dataframe tbody tr th {\n",
              "        vertical-align: top;\n",
              "    }\n",
              "\n",
              "    .dataframe thead th {\n",
              "        text-align: right;\n",
              "    }\n",
              "</style>\n",
              "<table border=\"1\" class=\"dataframe\">\n",
              "  <thead>\n",
              "    <tr style=\"text-align: right;\">\n",
              "      <th></th>\n",
              "      <th>Open</th>\n",
              "      <th>High</th>\n",
              "      <th>Low</th>\n",
              "      <th>Close</th>\n",
              "      <th>Adj Close</th>\n",
              "      <th>Volume</th>\n",
              "      <th>Return</th>\n",
              "      <th>Date</th>\n",
              "      <th>Week_Number</th>\n",
              "      <th>Year</th>\n",
              "      <th>Day</th>\n",
              "      <th>Weekday</th>\n",
              "      <th>mean_return</th>\n",
              "      <th>volatility</th>\n",
              "      <th>Label</th>\n",
              "    </tr>\n",
              "  </thead>\n",
              "  <tbody>\n",
              "    <tr>\n",
              "      <th>246</th>\n",
              "      <td>279.850006</td>\n",
              "      <td>289.220001</td>\n",
              "      <td>277.600006</td>\n",
              "      <td>278.010010</td>\n",
              "      <td>277.821350</td>\n",
              "      <td>71375800</td>\n",
              "      <td>-2.064</td>\n",
              "      <td>12/17/21</td>\n",
              "      <td>50</td>\n",
              "      <td>2021</td>\n",
              "      <td>17</td>\n",
              "      <td>Friday</td>\n",
              "      <td>-1.49980</td>\n",
              "      <td>5.942426</td>\n",
              "      <td>red</td>\n",
              "    </tr>\n",
              "    <tr>\n",
              "      <th>247</th>\n",
              "      <td>273.049988</td>\n",
              "      <td>281.440002</td>\n",
              "      <td>271.450012</td>\n",
              "      <td>277.190002</td>\n",
              "      <td>277.001892</td>\n",
              "      <td>46184700</td>\n",
              "      <td>-0.295</td>\n",
              "      <td>12/20/21</td>\n",
              "      <td>51</td>\n",
              "      <td>2021</td>\n",
              "      <td>20</td>\n",
              "      <td>Monday</td>\n",
              "      <td>1.63275</td>\n",
              "      <td>2.256175</td>\n",
              "      <td>red</td>\n",
              "    </tr>\n",
              "    <tr>\n",
              "      <th>248</th>\n",
              "      <td>283.739990</td>\n",
              "      <td>291.200012</td>\n",
              "      <td>274.010010</td>\n",
              "      <td>290.750000</td>\n",
              "      <td>290.552673</td>\n",
              "      <td>52438500</td>\n",
              "      <td>4.892</td>\n",
              "      <td>12/21/21</td>\n",
              "      <td>51</td>\n",
              "      <td>2021</td>\n",
              "      <td>21</td>\n",
              "      <td>Tuesday</td>\n",
              "      <td>1.63275</td>\n",
              "      <td>2.256175</td>\n",
              "      <td>red</td>\n",
              "    </tr>\n",
              "    <tr>\n",
              "      <th>249</th>\n",
              "      <td>288.910004</td>\n",
              "      <td>295.549988</td>\n",
              "      <td>284.489990</td>\n",
              "      <td>294.000000</td>\n",
              "      <td>293.800507</td>\n",
              "      <td>39518400</td>\n",
              "      <td>1.118</td>\n",
              "      <td>12/22/21</td>\n",
              "      <td>51</td>\n",
              "      <td>2021</td>\n",
              "      <td>22</td>\n",
              "      <td>Wednesday</td>\n",
              "      <td>1.63275</td>\n",
              "      <td>2.256175</td>\n",
              "      <td>red</td>\n",
              "    </tr>\n",
              "    <tr>\n",
              "      <th>250</th>\n",
              "      <td>297.549988</td>\n",
              "      <td>300.589996</td>\n",
              "      <td>294.309998</td>\n",
              "      <td>296.399994</td>\n",
              "      <td>296.198822</td>\n",
              "      <td>34302200</td>\n",
              "      <td>0.816</td>\n",
              "      <td>12/23/21</td>\n",
              "      <td>51</td>\n",
              "      <td>2021</td>\n",
              "      <td>23</td>\n",
              "      <td>Thursday</td>\n",
              "      <td>1.63275</td>\n",
              "      <td>2.256175</td>\n",
              "      <td>red</td>\n",
              "    </tr>\n",
              "  </tbody>\n",
              "</table>\n",
              "</div>"
            ],
            "text/plain": [
              "           Open        High         Low       Close   Adj Close    Volume  \\\n",
              "246  279.850006  289.220001  277.600006  278.010010  277.821350  71375800   \n",
              "247  273.049988  281.440002  271.450012  277.190002  277.001892  46184700   \n",
              "248  283.739990  291.200012  274.010010  290.750000  290.552673  52438500   \n",
              "249  288.910004  295.549988  284.489990  294.000000  293.800507  39518400   \n",
              "250  297.549988  300.589996  294.309998  296.399994  296.198822  34302200   \n",
              "\n",
              "     Return      Date  Week_Number  Year  Day    Weekday  mean_return  \\\n",
              "246  -2.064  12/17/21           50  2021   17     Friday     -1.49980   \n",
              "247  -0.295  12/20/21           51  2021   20     Monday      1.63275   \n",
              "248   4.892  12/21/21           51  2021   21    Tuesday      1.63275   \n",
              "249   1.118  12/22/21           51  2021   22  Wednesday      1.63275   \n",
              "250   0.816  12/23/21           51  2021   23   Thursday      1.63275   \n",
              "\n",
              "     volatility Label  \n",
              "246    5.942426   red  \n",
              "247    2.256175   red  \n",
              "248    2.256175   red  \n",
              "249    2.256175   red  \n",
              "250    2.256175   red  "
            ]
          },
          "execution_count": 45,
          "metadata": {},
          "output_type": "execute_result"
        }
      ],
      "source": [
        "#Assigning green labels to year 2 based on previously established linear relation y = -0.8x + 3.25\n",
        "df_year_2_green = df_year_2[df_year_2[\"volatility\"] < -0.8*df_year_2[\"mean_return\"] + 3.25 ]\n",
        "df_year_2_green[\"Label\"] = \"green\"\n",
        "\n",
        "#Assigning red labels to year 2 based on previously established linear relation y = -0.8x + 3.25\n",
        "df_year_2_red = df_year_2[df_year_2[\"volatility\"] > -0.8*df_year_2[\"mean_return\"] + 3.25 ]\n",
        "df_year_2_red[\"Label\"] = \"red\"\n",
        "\n",
        "df_year_2 = pd.concat([df_year_2_green,df_year_2_red],ignore_index=True)\n",
        "df_year_2.tail()"
      ]
    },
    {
      "cell_type": "markdown",
      "metadata": {
        "id": "_9iIDG1Z1mRR"
      },
      "source": [
        "Question 3."
      ]
    },
    {
      "cell_type": "code",
      "execution_count": null,
      "metadata": {
        "id": "_sEvITAB1mRR"
      },
      "outputs": [],
      "source": [
        "#function to carry out inertia trading strategy\n",
        "def inertia_trading_with_label(df):\n",
        "\n",
        "    principal = 100\n",
        "\n",
        "    #iterating through stock data for given year\n",
        "    for ind in df.index:\n",
        "\n",
        "        #when the day of the week has a green label we invest and additionally seeing if threshold found in previous assignment is satisfied\n",
        "        if (df[\"Label\"][ind] == \"green\") and  (abs( 100 * ((df['Close'][ind] - df['Open'][ind+1]) / df['Close'][ind] )) > 9.9):\n",
        "\n",
        "            ###############################################################\n",
        "\n",
        "            #buying shares with principal\n",
        "            shares_to_buy = principal/df[\"Open\"][ind]\n",
        "\n",
        "            #selling stock at the end of the day at its closing price\n",
        "            principal = shares_to_buy*df[\"Close\"][ind]\n",
        "\n",
        "            #################################################################\n",
        "\n",
        "        #when the day of the week has a red label we dont invest\n",
        "        else:\n",
        "\n",
        "            continue\n",
        "\n",
        "\n",
        "    return principal"
      ]
    },
    {
      "cell_type": "code",
      "execution_count": null,
      "metadata": {
        "id": "qPhvfomA1mRS",
        "outputId": "183f49ca-2f0a-426c-8a72-247207c2d7a7"
      },
      "outputs": [
        {
          "name": "stdout",
          "output_type": "stream",
          "text": [
            "The Amount of money after trading using my strategy: 99.2 dollars\n"
          ]
        }
      ],
      "source": [
        "result = inertia_trading_with_label(df_year_2)\n",
        "print(\"The Amount of money after trading using my strategy: \"+ str(round(result,2))+\" dollars\")"
      ]
    }
  ],
  "metadata": {
    "kernelspec": {
      "display_name": "Python 3.9.6 64-bit",
      "language": "python",
      "name": "python3"
    },
    "language_info": {
      "codemirror_mode": {
        "name": "ipython",
        "version": 3
      },
      "file_extension": ".py",
      "mimetype": "text/x-python",
      "name": "python",
      "nbconvert_exporter": "python",
      "pygments_lexer": "ipython3",
      "version": "3.9.6"
    },
    "orig_nbformat": 4,
    "vscode": {
      "interpreter": {
        "hash": "31f2aee4e71d21fbe5cf8b01ff0e069b9275f58929596ceb00d14d90e3e16cd6"
      }
    },
    "colab": {
      "provenance": []
    }
  },
  "nbformat": 4,
  "nbformat_minor": 0
}