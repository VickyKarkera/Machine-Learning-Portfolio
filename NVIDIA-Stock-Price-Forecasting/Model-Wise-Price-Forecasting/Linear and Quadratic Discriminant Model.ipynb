{
  "nbformat": 4,
  "nbformat_minor": 0,
  "metadata": {
    "colab": {
      "provenance": []
    },
    "kernelspec": {
      "name": "python3",
      "display_name": "Python 3"
    },
    "language_info": {
      "name": "python"
    }
  },
  "cells": [
    {
      "cell_type": "code",
      "execution_count": 9,
      "metadata": {
        "id": "Shx4lo04eqc3"
      },
      "outputs": [],
      "source": [
        "import pandas as pd\n",
        "import numpy as np\n",
        "from sklearn.metrics import accuracy_score, confusion_matrix, ConfusionMatrixDisplay\n",
        "from sklearn.discriminant_analysis import LinearDiscriminantAnalysis, QuadraticDiscriminantAnalysis\n"
      ]
    },
    {
      "cell_type": "code",
      "source": [
        "df = pd.read_csv(\"/content/drive/MyDrive/Data Science Eugene Pinsky/Homework_10/Linear Discriminant/data/NVDA_mean_volatility_labels.csv\")\n",
        "df.head()"
      ],
      "metadata": {
        "colab": {
          "base_uri": "https://localhost:8080/",
          "height": 204
        },
        "id": "orw88_phhoAn",
        "outputId": "860c11cb-14c5-4452-976d-197e9a38fb15"
      },
      "execution_count": 2,
      "outputs": [
        {
          "output_type": "execute_result",
          "data": {
            "text/plain": [
              "   Year  Week_Number  mean_return  volatility      Label\n",
              "0  2017            1      0.28275    2.110070  undefined\n",
              "1  2017            2      0.08460    2.299927  undefined\n",
              "2  2017            3      0.15750    2.164153  undefined\n",
              "3  2017            4      1.45160    0.704763  undefined\n",
              "4  2017            5      0.48560    2.413944  undefined"
            ],
            "text/html": [
              "\n",
              "  <div id=\"df-f87acb44-0281-4c2a-b39a-cb0545719219\">\n",
              "    <div class=\"colab-df-container\">\n",
              "      <div>\n",
              "<style scoped>\n",
              "    .dataframe tbody tr th:only-of-type {\n",
              "        vertical-align: middle;\n",
              "    }\n",
              "\n",
              "    .dataframe tbody tr th {\n",
              "        vertical-align: top;\n",
              "    }\n",
              "\n",
              "    .dataframe thead th {\n",
              "        text-align: right;\n",
              "    }\n",
              "</style>\n",
              "<table border=\"1\" class=\"dataframe\">\n",
              "  <thead>\n",
              "    <tr style=\"text-align: right;\">\n",
              "      <th></th>\n",
              "      <th>Year</th>\n",
              "      <th>Week_Number</th>\n",
              "      <th>mean_return</th>\n",
              "      <th>volatility</th>\n",
              "      <th>Label</th>\n",
              "    </tr>\n",
              "  </thead>\n",
              "  <tbody>\n",
              "    <tr>\n",
              "      <th>0</th>\n",
              "      <td>2017</td>\n",
              "      <td>1</td>\n",
              "      <td>0.28275</td>\n",
              "      <td>2.110070</td>\n",
              "      <td>undefined</td>\n",
              "    </tr>\n",
              "    <tr>\n",
              "      <th>1</th>\n",
              "      <td>2017</td>\n",
              "      <td>2</td>\n",
              "      <td>0.08460</td>\n",
              "      <td>2.299927</td>\n",
              "      <td>undefined</td>\n",
              "    </tr>\n",
              "    <tr>\n",
              "      <th>2</th>\n",
              "      <td>2017</td>\n",
              "      <td>3</td>\n",
              "      <td>0.15750</td>\n",
              "      <td>2.164153</td>\n",
              "      <td>undefined</td>\n",
              "    </tr>\n",
              "    <tr>\n",
              "      <th>3</th>\n",
              "      <td>2017</td>\n",
              "      <td>4</td>\n",
              "      <td>1.45160</td>\n",
              "      <td>0.704763</td>\n",
              "      <td>undefined</td>\n",
              "    </tr>\n",
              "    <tr>\n",
              "      <th>4</th>\n",
              "      <td>2017</td>\n",
              "      <td>5</td>\n",
              "      <td>0.48560</td>\n",
              "      <td>2.413944</td>\n",
              "      <td>undefined</td>\n",
              "    </tr>\n",
              "  </tbody>\n",
              "</table>\n",
              "</div>\n",
              "      <button class=\"colab-df-convert\" onclick=\"convertToInteractive('df-f87acb44-0281-4c2a-b39a-cb0545719219')\"\n",
              "              title=\"Convert this dataframe to an interactive table.\"\n",
              "              style=\"display:none;\">\n",
              "        \n",
              "  <svg xmlns=\"http://www.w3.org/2000/svg\" height=\"24px\"viewBox=\"0 0 24 24\"\n",
              "       width=\"24px\">\n",
              "    <path d=\"M0 0h24v24H0V0z\" fill=\"none\"/>\n",
              "    <path d=\"M18.56 5.44l.94 2.06.94-2.06 2.06-.94-2.06-.94-.94-2.06-.94 2.06-2.06.94zm-11 1L8.5 8.5l.94-2.06 2.06-.94-2.06-.94L8.5 2.5l-.94 2.06-2.06.94zm10 10l.94 2.06.94-2.06 2.06-.94-2.06-.94-.94-2.06-.94 2.06-2.06.94z\"/><path d=\"M17.41 7.96l-1.37-1.37c-.4-.4-.92-.59-1.43-.59-.52 0-1.04.2-1.43.59L10.3 9.45l-7.72 7.72c-.78.78-.78 2.05 0 2.83L4 21.41c.39.39.9.59 1.41.59.51 0 1.02-.2 1.41-.59l7.78-7.78 2.81-2.81c.8-.78.8-2.07 0-2.86zM5.41 20L4 18.59l7.72-7.72 1.47 1.35L5.41 20z\"/>\n",
              "  </svg>\n",
              "      </button>\n",
              "      \n",
              "  <style>\n",
              "    .colab-df-container {\n",
              "      display:flex;\n",
              "      flex-wrap:wrap;\n",
              "      gap: 12px;\n",
              "    }\n",
              "\n",
              "    .colab-df-convert {\n",
              "      background-color: #E8F0FE;\n",
              "      border: none;\n",
              "      border-radius: 50%;\n",
              "      cursor: pointer;\n",
              "      display: none;\n",
              "      fill: #1967D2;\n",
              "      height: 32px;\n",
              "      padding: 0 0 0 0;\n",
              "      width: 32px;\n",
              "    }\n",
              "\n",
              "    .colab-df-convert:hover {\n",
              "      background-color: #E2EBFA;\n",
              "      box-shadow: 0px 1px 2px rgba(60, 64, 67, 0.3), 0px 1px 3px 1px rgba(60, 64, 67, 0.15);\n",
              "      fill: #174EA6;\n",
              "    }\n",
              "\n",
              "    [theme=dark] .colab-df-convert {\n",
              "      background-color: #3B4455;\n",
              "      fill: #D2E3FC;\n",
              "    }\n",
              "\n",
              "    [theme=dark] .colab-df-convert:hover {\n",
              "      background-color: #434B5C;\n",
              "      box-shadow: 0px 1px 3px 1px rgba(0, 0, 0, 0.15);\n",
              "      filter: drop-shadow(0px 1px 2px rgba(0, 0, 0, 0.3));\n",
              "      fill: #FFFFFF;\n",
              "    }\n",
              "  </style>\n",
              "\n",
              "      <script>\n",
              "        const buttonEl =\n",
              "          document.querySelector('#df-f87acb44-0281-4c2a-b39a-cb0545719219 button.colab-df-convert');\n",
              "        buttonEl.style.display =\n",
              "          google.colab.kernel.accessAllowed ? 'block' : 'none';\n",
              "\n",
              "        async function convertToInteractive(key) {\n",
              "          const element = document.querySelector('#df-f87acb44-0281-4c2a-b39a-cb0545719219');\n",
              "          const dataTable =\n",
              "            await google.colab.kernel.invokeFunction('convertToInteractive',\n",
              "                                                     [key], {});\n",
              "          if (!dataTable) return;\n",
              "\n",
              "          const docLinkHtml = 'Like what you see? Visit the ' +\n",
              "            '<a target=\"_blank\" href=https://colab.research.google.com/notebooks/data_table.ipynb>data table notebook</a>'\n",
              "            + ' to learn more about interactive tables.';\n",
              "          element.innerHTML = '';\n",
              "          dataTable['output_type'] = 'display_data';\n",
              "          await google.colab.output.renderOutput(dataTable, element);\n",
              "          const docLink = document.createElement('div');\n",
              "          docLink.innerHTML = docLinkHtml;\n",
              "          element.appendChild(docLink);\n",
              "        }\n",
              "      </script>\n",
              "    </div>\n",
              "  </div>\n",
              "  "
            ]
          },
          "metadata": {},
          "execution_count": 2
        }
      ]
    },
    {
      "cell_type": "markdown",
      "source": [
        "Extracting data for both years."
      ],
      "metadata": {
        "id": "3GBPzZkkjpPb"
      }
    },
    {
      "cell_type": "code",
      "source": [
        "year_1_data = df[ df[\"Year\"] == 2020 ]\n",
        "year_1_data = year_1_data.reset_index(drop=True)\n",
        "\n",
        "year_2_data = df[ df[\"Year\"] == 2021 ]\n",
        "year_2_data = year_2_data.reset_index(drop=True)"
      ],
      "metadata": {
        "id": "ifJvgBMyh41q"
      },
      "execution_count": 3,
      "outputs": []
    },
    {
      "cell_type": "markdown",
      "source": [
        "Getting training data."
      ],
      "metadata": {
        "id": "E-wDvfyBjqHr"
      }
    },
    {
      "cell_type": "code",
      "source": [
        "X_train,y_train = year_1_data[[ \"Year\",\t\"Week_Number\",\t\"mean_return\", \"volatility\" ]] , year_1_data[[\"Label\"]]"
      ],
      "metadata": {
        "id": "UpPYZGe1jivV"
      },
      "execution_count": 11,
      "outputs": []
    },
    {
      "cell_type": "markdown",
      "source": [
        "Getting test data."
      ],
      "metadata": {
        "id": "oxXVm9_sjxKR"
      }
    },
    {
      "cell_type": "code",
      "source": [
        "X_test,y_test = year_2_data[[ \"Year\",\t\"Week_Number\",\t\"mean_return\", \"volatility\" ]] , year_2_data[[\"Label\"]]"
      ],
      "metadata": {
        "id": "JX1DKA8Sjxd5"
      },
      "execution_count": 12,
      "outputs": []
    },
    {
      "cell_type": "markdown",
      "source": [
        "Q1."
      ],
      "metadata": {
        "id": "yRYDXFIhj8Bf"
      }
    },
    {
      "cell_type": "markdown",
      "source": [
        "Linear Discriminant Analysis"
      ],
      "metadata": {
        "id": "v0HpY6WwARTq"
      }
    },
    {
      "cell_type": "code",
      "source": [
        "model_lda = LinearDiscriminantAnalysis()\n",
        "model_lda.fit(X_train[[\"mean_return\", \"volatility\"]],y_train.values.ravel())\n",
        "y_pred_lda = model_lda.predict( X_test[[\"mean_return\", \"volatility\"]] )"
      ],
      "metadata": {
        "id": "F65X_0Q3j8ha"
      },
      "execution_count": 19,
      "outputs": []
    },
    {
      "cell_type": "code",
      "source": [
        "model_lda.coef_[0]"
      ],
      "metadata": {
        "colab": {
          "base_uri": "https://localhost:8080/"
        },
        "id": "x7VviyexCwHR",
        "outputId": "280e784d-8b72-4a7f-c821-6316c115019c"
      },
      "execution_count": 26,
      "outputs": [
        {
          "output_type": "execute_result",
          "data": {
            "text/plain": [
              "array([-0.56209606,  0.10469777])"
            ]
          },
          "metadata": {},
          "execution_count": 26
        }
      ]
    },
    {
      "cell_type": "code",
      "source": [
        "model_lda.intercept_[0]"
      ],
      "metadata": {
        "colab": {
          "base_uri": "https://localhost:8080/"
        },
        "id": "kZ9uIPy4C041",
        "outputId": "d8a50f05-e2aa-48ca-9333-e73011023cb8"
      },
      "execution_count": 24,
      "outputs": [
        {
          "output_type": "execute_result",
          "data": {
            "text/plain": [
              "-0.24367423356844364"
            ]
          },
          "metadata": {},
          "execution_count": 24
        }
      ]
    },
    {
      "cell_type": "markdown",
      "source": [
        "The equation of linear discriminant decision boundary."
      ],
      "metadata": {
        "id": "mjCzFQDBEGXx"
      }
    },
    {
      "cell_type": "code",
      "source": [
        "print(\"The equation of the linear discriminant analysis decision boundary : (\" + str(round(model_lda.coef_[0][0],2)) + \") x1 + (\" + str(round(model_lda.coef_[0][1],2)) + \") x2 \" + str(round(model_lda.intercept_[0],2)) )"
      ],
      "metadata": {
        "colab": {
          "base_uri": "https://localhost:8080/"
        },
        "id": "xVZR-9mPGCSD",
        "outputId": "b45cf7c1-4941-486d-a01a-6b6105140c49"
      },
      "execution_count": 31,
      "outputs": [
        {
          "output_type": "stream",
          "name": "stdout",
          "text": [
            "The equation of the linear discriminant analysis decision boundary : (-0.56) x1 + (0.1) x2 -0.24\n"
          ]
        }
      ]
    },
    {
      "cell_type": "markdown",
      "source": [
        "Quadratic Discriminant Analysis"
      ],
      "metadata": {
        "id": "bdGXMv6qAUEQ"
      }
    },
    {
      "cell_type": "code",
      "source": [
        "model_qda = QuadraticDiscriminantAnalysis()\n",
        "model_qda.fit(X_train[[\"mean_return\", \"volatility\"]],y_train.values.ravel())\n",
        "y_pred_qda = model_qda.predict( X_test[[\"mean_return\", \"volatility\"]] )"
      ],
      "metadata": {
        "id": "0TxgBELd_3M0"
      },
      "execution_count": 32,
      "outputs": []
    },
    {
      "cell_type": "markdown",
      "source": [
        "### Q2."
      ],
      "metadata": {
        "id": "ihReqH4uLcqP"
      }
    },
    {
      "cell_type": "code",
      "source": [
        "def compute_accuracy(y_true,y_pred,model_name):\n",
        "  \n",
        "  #computing accuracy\n",
        "  accuracy = accuracy_score(y_true,y_pred)\n",
        "\n",
        "  accuracy_message = \"The accuracy of the \" + str(model_name) +\" model is : \" + str(round(accuracy * 100, 2)) + \" %.\"\n",
        "\n",
        "  print(accuracy_message)"
      ],
      "metadata": {
        "id": "2Lzz6T-qLfCn"
      },
      "execution_count": 33,
      "outputs": []
    },
    {
      "cell_type": "code",
      "source": [
        "compute_accuracy(y_test,y_pred_lda,\"Linear Discriminant Analysis\")"
      ],
      "metadata": {
        "colab": {
          "base_uri": "https://localhost:8080/"
        },
        "id": "xNs0HvsDMeoe",
        "outputId": "1cabe6c6-2895-439a-da2f-dbc59072a2f9"
      },
      "execution_count": 34,
      "outputs": [
        {
          "output_type": "stream",
          "name": "stdout",
          "text": [
            "The accuracy of the Linear Discriminant Analysis model is : 73.08 %.\n"
          ]
        }
      ]
    },
    {
      "cell_type": "code",
      "source": [
        "compute_accuracy(y_test,y_pred_qda,\"Quadratic Discriminant Analysis\")"
      ],
      "metadata": {
        "colab": {
          "base_uri": "https://localhost:8080/"
        },
        "id": "SOK7ipqAMe3T",
        "outputId": "39aebeb2-29f6-4f5e-a69a-a9bacb5d39d7"
      },
      "execution_count": 35,
      "outputs": [
        {
          "output_type": "stream",
          "name": "stdout",
          "text": [
            "The accuracy of the Quadratic Discriminant Analysis model is : 63.46 %.\n"
          ]
        }
      ]
    },
    {
      "cell_type": "markdown",
      "source": [
        "### Q3."
      ],
      "metadata": {
        "id": "cbin4tO7SvRJ"
      }
    },
    {
      "cell_type": "code",
      "source": [
        "def compute_conf_mat(y_true,y_pred):\n",
        "\n",
        "  #computing confusion matrix\n",
        "  conf_mat = confusion_matrix(y_true,y_pred)\n",
        "\n",
        "  #computing true positive rate and false negative rate\n",
        "  tn, fp, fn, tp = confusion_matrix(y_true,y_pred).ravel()\n",
        "  #calcultaing true positive rate\n",
        "  tpr = tp/(tp+fn)\n",
        "  #calcultaing true negative rate\n",
        "  tnr = tn/(fp+tn)\n",
        "\n",
        "  #displaying confusion matrix\n",
        "  ConfusionMatrixDisplay.from_predictions(y_true,y_pred)\n",
        "\n",
        "  return tpr,tnr"
      ],
      "metadata": {
        "id": "gk_X_o7LSwTw"
      },
      "execution_count": 36,
      "outputs": []
    },
    {
      "cell_type": "markdown",
      "source": [
        "Confusion matrix: Linear Discriminant Analysis."
      ],
      "metadata": {
        "id": "Hnf4ntCSTGaP"
      }
    },
    {
      "cell_type": "code",
      "source": [
        "tpr_lda,tnr_lda = compute_conf_mat(y_test,y_pred_lda)"
      ],
      "metadata": {
        "colab": {
          "base_uri": "https://localhost:8080/",
          "height": 279
        },
        "id": "8JCMm_IQS1BF",
        "outputId": "76f0c721-13c7-463d-867c-8e4898af43a8"
      },
      "execution_count": 37,
      "outputs": [
        {
          "output_type": "display_data",
          "data": {
            "text/plain": [
              "<Figure size 432x288 with 2 Axes>"
            ],
            "image/png": "[encoded data removed]"
          },
          "metadata": {
            "needs_background": "light"
          }
        }
      ]
    },
    {
      "cell_type": "markdown",
      "source": [
        "Confusion matrix: Quadratic Discriminant Analysis."
      ],
      "metadata": {
        "id": "j7NWc_93TLmX"
      }
    },
    {
      "cell_type": "code",
      "source": [
        "tpr_qda,tnr_qda = compute_conf_mat(y_test,y_pred_qda)"
      ],
      "metadata": {
        "colab": {
          "base_uri": "https://localhost:8080/",
          "height": 283
        },
        "id": "vjKCO1zNS_K5",
        "outputId": "18245735-0660-41cd-8215-492a4d2f004c"
      },
      "execution_count": 38,
      "outputs": [
        {
          "output_type": "display_data",
          "data": {
            "text/plain": [
              "<Figure size 432x288 with 2 Axes>"
            ],
            "image/png": "[encoded data removed]"
          },
          "metadata": {
            "needs_background": "light"
          }
        }
      ]
    },
    {
      "cell_type": "markdown",
      "source": [
        "### Q4."
      ],
      "metadata": {
        "id": "jK8K5GN3Tv80"
      }
    },
    {
      "cell_type": "code",
      "source": [
        "def print_tpr_tnr(tpr,tnr,model_name):\n",
        "\n",
        "  #printing true positive rate and true negative rate\n",
        "  tpr_message = \"The true positive rate for the \" +  str( model_name ) + \" model  is : \" + str(round(tpr*100,2)) +\" %.\"\n",
        "  tnr_message = \"The true negative rate for the \" +  str( model_name ) + \" model  is : \" + str(round(tnr*100,2)) +\" %.\"\n",
        "\n",
        "  print(tpr_message)\n",
        "  print(\"\\n\")\n",
        "  print(tnr_message)"
      ],
      "metadata": {
        "id": "vdxsnMvRT3v4"
      },
      "execution_count": 39,
      "outputs": []
    },
    {
      "cell_type": "markdown",
      "source": [
        "Linear Discriminant Analysis."
      ],
      "metadata": {
        "id": "5FBXqfpaUBKD"
      }
    },
    {
      "cell_type": "code",
      "source": [
        "print_tpr_tnr(tpr_lda,tnr_lda,\"Linear Discriminant Analysis\")"
      ],
      "metadata": {
        "colab": {
          "base_uri": "https://localhost:8080/"
        },
        "id": "A5rdoenDT9EQ",
        "outputId": "4b0aae45-5ece-4175-c6d8-8caa189abfe5"
      },
      "execution_count": 40,
      "outputs": [
        {
          "output_type": "stream",
          "name": "stdout",
          "text": [
            "The true positive rate for the Linear Discriminant Analysis model  is : 63.33 %.\n",
            "\n",
            "\n",
            "The true negative rate for the Linear Discriminant Analysis model  is : 86.36 %.\n"
          ]
        }
      ]
    },
    {
      "cell_type": "markdown",
      "source": [
        "Quadratic Discriminant Analysis."
      ],
      "metadata": {
        "id": "aQfNsmNJUBgC"
      }
    },
    {
      "cell_type": "code",
      "source": [
        "print_tpr_tnr(tpr_qda,tnr_qda,\"Quadratic Discriminant Analysis\")"
      ],
      "metadata": {
        "colab": {
          "base_uri": "https://localhost:8080/"
        },
        "id": "c1KgOV8EUBtq",
        "outputId": "cf3dac55-02a2-48d8-a092-208f4e34ca07"
      },
      "execution_count": 41,
      "outputs": [
        {
          "output_type": "stream",
          "name": "stdout",
          "text": [
            "The true positive rate for the Quadratic Discriminant Analysis model  is : 43.33 %.\n",
            "\n",
            "\n",
            "The true negative rate for the Quadratic Discriminant Analysis model  is : 90.91 %.\n"
          ]
        }
      ]
    },
    {
      "cell_type": "markdown",
      "source": [
        "### Q5."
      ],
      "metadata": {
        "id": "pAe2ZpxBUyJk"
      }
    },
    {
      "cell_type": "markdown",
      "source": [
        "Trading Strategies."
      ],
      "metadata": {
        "id": "u7I2dpBpVHE7"
      }
    },
    {
      "cell_type": "code",
      "source": [
        "#function to carry out inertia trading strategy\n",
        "def buy_and_hold(df,principal,end):\n",
        "\n",
        "    #quantity of shares bought at opening price\n",
        "    shares_bought = 0\n",
        "\n",
        "    #amount gained by selling stock at closing price\n",
        "    amount_gained = 0\n",
        "\n",
        "    #value achieved from selling stocks at closing price at the end of given period.\n",
        "    capital = 0 \n",
        "\n",
        "    #buying stocks at start opening price at the start of the year.\n",
        "    shares_bought = principal/df[\"Open\"][0]\n",
        "\n",
        "    #selling stock at its closing price\n",
        "    capital = shares_bought * df[\"Close\"][end]\n",
        "\n",
        "    return capital"
      ],
      "metadata": {
        "id": "1cgLpPs8US4X"
      },
      "execution_count": 42,
      "outputs": []
    },
    {
      "cell_type": "code",
      "source": [
        "#function to carry out buy with label weekly trading strategy\n",
        "def buy_with_labels(df,end):\n",
        "\n",
        "  #cash amount initially used to invest in stock market\n",
        "  initial_cash = 100\n",
        "\n",
        "  #quantity of shares bought at opening price\n",
        "  shares_bought = 0\n",
        "\n",
        "  #amount gained by selling stock at adjusted closing price\n",
        "  amount_gained = 0\n",
        "\n",
        "  #value achieved from selling stocks at closing price at the end of given period.\n",
        "  capital = 0 \n",
        "\n",
        "  #boolean variable to determine if . \n",
        "  invested = False\n",
        "\n",
        "  #iterating through dataframe\n",
        "  for index,row in df.iterrows():\n",
        " \n",
        "   #Finding first green week or green week after a red week ,and we dont have a position in market yet.\n",
        "    if df[\"Label\"][index] == \"green\" and invested ==False :\n",
        "      \n",
        "      #buying shares equal to the amount of cash we hold currently \n",
        "      shares_bought = initial_cash / df[\"Open\"][index]\n",
        "      \n",
        "      #as we have bought shares equal in evaluation to our cash initial cash = 0\n",
        "      initial_cash = 0\n",
        "\n",
        "      #we have a position in the market\n",
        "      invested = True\n",
        "\n",
        "    #Finding red week where we dont have a position\n",
        "    elif df[\"Label\"][index] == \"red\" and invested ==False :\n",
        "      \n",
        "      #we do nothing\n",
        "      continue\n",
        "\n",
        "    #conditions if we have put money in the market\n",
        "\n",
        "    #check to see we are not at the last day of trading.\n",
        "    if index!= end:\n",
        "\n",
        "      #if next week is red and current week is green\n",
        "      if invested == True and df[\"Label\"][index] == \"green\" and df[\"Label\"][index+1] == \"red\":\n",
        "\n",
        "        #selling stock at adjusted closing price at the end of the week\n",
        "        initial_cash += df[\"Adj Close\"][index] * shares_bought\n",
        "        \n",
        "        #all shares are sold\n",
        "        shares_bought = 0\n",
        "        \n",
        "        #we are no longer invested in the market.\n",
        "        invested = False\n",
        "\n",
        "      #if current week is green and (next week/next day) is green \n",
        "      elif invested == True and df[\"Label\"][index] == \"green\" and df[\"Label\"][index+1] == \"green\":\n",
        "\n",
        "        #do nothing\n",
        "        continue\n",
        "\n",
        "    #if we end our trading period while being invested in the market\n",
        "    if index == end and invested == True:\n",
        "        \n",
        "        #selling stock at adjusted closing price at the end of the week\n",
        "        initial_cash += df[\"Adj Close\"][index] * shares_bought\n",
        "        \n",
        "        #all shares are sold\n",
        "        shares_bought = 0\n",
        "\n",
        "        #we are no longer invested in the market.\n",
        "        invested = False\n",
        "  \n",
        "  #returning the updated cash\n",
        "  return initial_cash"
      ],
      "metadata": {
        "id": "bnJf6DwSVLPq"
      },
      "execution_count": 43,
      "outputs": []
    },
    {
      "cell_type": "markdown",
      "source": [
        "function to combine weekly predictions to daily data, to use for trading."
      ],
      "metadata": {
        "id": "OrImptBrZe_y"
      }
    },
    {
      "cell_type": "code",
      "source": [
        "def label_daily_data(daily_data,weekly_data,weekly_labels):\n",
        "  \n",
        "  #weekly_data holds weekly data for year 2, weekly_labels holds predictions from Gaussian Naive Bayes model.\n",
        "  weekly_data = pd.concat([weekly_data,pd.DataFrame(weekly_labels)],axis=1)\n",
        "  \n",
        "  #renaming columns so that Label column can be changed from default(0) to Label.\n",
        "  weekly_data.columns = [\"Year\", \"Week_Number\",\t\"mean_return\",\t\"volatility\",\t\"Label\"]\n",
        "\n",
        "  daily_data = pd.merge(daily_data,weekly_data[[\"Week_Number\",\"Label\"]],on=\"Week_Number\")\n",
        "\n",
        "  return daily_data"
      ],
      "metadata": {
        "id": "LBHDr-7iVWWD"
      },
      "execution_count": 44,
      "outputs": []
    },
    {
      "cell_type": "code",
      "source": [
        "df_daily = pd.read_csv(\"/content/drive/MyDrive/Data Science Eugene Pinsky/Homework_10/Linear Discriminant/data/NVDA.csv\")\n",
        "\n",
        "year_2_data_daily = df_daily[ df_daily[\"Year\"] == 2021 ]\n",
        "\n",
        "year_2_data_daily = year_2_data_daily.reset_index(drop=True)\n",
        "\n",
        "year_2_data_daily.head()"
      ],
      "metadata": {
        "colab": {
          "base_uri": "https://localhost:8080/",
          "height": 204
        },
        "id": "HnGmKkrdVW4U",
        "outputId": "0c0e07ea-d0f3-40fe-a916-62d2481ce9c2"
      },
      "execution_count": 45,
      "outputs": [
        {
          "output_type": "execute_result",
          "data": {
            "text/plain": [
              "                        Date  Year  Month  Day    Weekday  Week_Number  \\\n",
              "0  2021-01-04 00:00:00-05:00  2021      1    4     Monday            1   \n",
              "1  2021-01-05 00:00:00-05:00  2021      1    5    Tuesday            1   \n",
              "2  2021-01-06 00:00:00-05:00  2021      1    6  Wednesday            1   \n",
              "3  2021-01-07 00:00:00-05:00  2021      1    7   Thursday            1   \n",
              "4  2021-01-08 00:00:00-05:00  2021      1    8     Friday            1   \n",
              "\n",
              "  Year_Week    Open    High     Low   Close    Volume  Adj Close    Return  \\\n",
              "0   2021-01  131.04  136.52  129.62  131.13  56064000     130.93  0.004481   \n",
              "1   2021-01  131.00  134.43  130.87  134.05  32276000     133.84  0.022210   \n",
              "2   2021-01  132.23  132.45  125.86  126.14  58042400     125.95 -0.058953   \n",
              "3   2021-01  129.68  133.78  128.87  133.44  46148000     133.23  0.057830   \n",
              "4   2021-01  133.62  134.21  130.42  132.77  29252800     132.56 -0.005040   \n",
              "\n",
              "     Short_MA   Long_MA  \n",
              "0  131.436429  132.4336  \n",
              "1  131.505000  132.4432  \n",
              "2  130.972857  132.2492  \n",
              "3  131.045000  132.2904  \n",
              "4  130.998571  132.2672  "
            ],
            "text/html": [
              "\n",
              "  <div id=\"df-f2d15500-beb7-4863-a37a-fe128a39c36b\">\n",
              "    <div class=\"colab-df-container\">\n",
              "      <div>\n",
              "<style scoped>\n",
              "    .dataframe tbody tr th:only-of-type {\n",
              "        vertical-align: middle;\n",
              "    }\n",
              "\n",
              "    .dataframe tbody tr th {\n",
              "        vertical-align: top;\n",
              "    }\n",
              "\n",
              "    .dataframe thead th {\n",
              "        text-align: right;\n",
              "    }\n",
              "</style>\n",
              "<table border=\"1\" class=\"dataframe\">\n",
              "  <thead>\n",
              "    <tr style=\"text-align: right;\">\n",
              "      <th></th>\n",
              "      <th>Date</th>\n",
              "      <th>Year</th>\n",
              "      <th>Month</th>\n",
              "      <th>Day</th>\n",
              "      <th>Weekday</th>\n",
              "      <th>Week_Number</th>\n",
              "      <th>Year_Week</th>\n",
              "      <th>Open</th>\n",
              "      <th>High</th>\n",
              "      <th>Low</th>\n",
              "      <th>Close</th>\n",
              "      <th>Volume</th>\n",
              "      <th>Adj Close</th>\n",
              "      <th>Return</th>\n",
              "      <th>Short_MA</th>\n",
              "      <th>Long_MA</th>\n",
              "    </tr>\n",
              "  </thead>\n",
              "  <tbody>\n",
              "    <tr>\n",
              "      <th>0</th>\n",
              "      <td>2021-01-04 00:00:00-05:00</td>\n",
              "      <td>2021</td>\n",
              "      <td>1</td>\n",
              "      <td>4</td>\n",
              "      <td>Monday</td>\n",
              "      <td>1</td>\n",
              "      <td>2021-01</td>\n",
              "      <td>131.04</td>\n",
              "      <td>136.52</td>\n",
              "      <td>129.62</td>\n",
              "      <td>131.13</td>\n",
              "      <td>56064000</td>\n",
              "      <td>130.93</td>\n",
              "      <td>0.004481</td>\n",
              "      <td>131.436429</td>\n",
              "      <td>132.4336</td>\n",
              "    </tr>\n",
              "    <tr>\n",
              "      <th>1</th>\n",
              "      <td>2021-01-05 00:00:00-05:00</td>\n",
              "      <td>2021</td>\n",
              "      <td>1</td>\n",
              "      <td>5</td>\n",
              "      <td>Tuesday</td>\n",
              "      <td>1</td>\n",
              "      <td>2021-01</td>\n",
              "      <td>131.00</td>\n",
              "      <td>134.43</td>\n",
              "      <td>130.87</td>\n",
              "      <td>134.05</td>\n",
              "      <td>32276000</td>\n",
              "      <td>133.84</td>\n",
              "      <td>0.022210</td>\n",
              "      <td>131.505000</td>\n",
              "      <td>132.4432</td>\n",
              "    </tr>\n",
              "    <tr>\n",
              "      <th>2</th>\n",
              "      <td>2021-01-06 00:00:00-05:00</td>\n",
              "      <td>2021</td>\n",
              "      <td>1</td>\n",
              "      <td>6</td>\n",
              "      <td>Wednesday</td>\n",
              "      <td>1</td>\n",
              "      <td>2021-01</td>\n",
              "      <td>132.23</td>\n",
              "      <td>132.45</td>\n",
              "      <td>125.86</td>\n",
              "      <td>126.14</td>\n",
              "      <td>58042400</td>\n",
              "      <td>125.95</td>\n",
              "      <td>-0.058953</td>\n",
              "      <td>130.972857</td>\n",
              "      <td>132.2492</td>\n",
              "    </tr>\n",
              "    <tr>\n",
              "      <th>3</th>\n",
              "      <td>2021-01-07 00:00:00-05:00</td>\n",
              "      <td>2021</td>\n",
              "      <td>1</td>\n",
              "      <td>7</td>\n",
              "      <td>Thursday</td>\n",
              "      <td>1</td>\n",
              "      <td>2021-01</td>\n",
              "      <td>129.68</td>\n",
              "      <td>133.78</td>\n",
              "      <td>128.87</td>\n",
              "      <td>133.44</td>\n",
              "      <td>46148000</td>\n",
              "      <td>133.23</td>\n",
              "      <td>0.057830</td>\n",
              "      <td>131.045000</td>\n",
              "      <td>132.2904</td>\n",
              "    </tr>\n",
              "    <tr>\n",
              "      <th>4</th>\n",
              "      <td>2021-01-08 00:00:00-05:00</td>\n",
              "      <td>2021</td>\n",
              "      <td>1</td>\n",
              "      <td>8</td>\n",
              "      <td>Friday</td>\n",
              "      <td>1</td>\n",
              "      <td>2021-01</td>\n",
              "      <td>133.62</td>\n",
              "      <td>134.21</td>\n",
              "      <td>130.42</td>\n",
              "      <td>132.77</td>\n",
              "      <td>29252800</td>\n",
              "      <td>132.56</td>\n",
              "      <td>-0.005040</td>\n",
              "      <td>130.998571</td>\n",
              "      <td>132.2672</td>\n",
              "    </tr>\n",
              "  </tbody>\n",
              "</table>\n",
              "</div>\n",
              "      <button class=\"colab-df-convert\" onclick=\"convertToInteractive('df-f2d15500-beb7-4863-a37a-fe128a39c36b')\"\n",
              "              title=\"Convert this dataframe to an interactive table.\"\n",
              "              style=\"display:none;\">\n",
              "        \n",
              "  <svg xmlns=\"http://www.w3.org/2000/svg\" height=\"24px\"viewBox=\"0 0 24 24\"\n",
              "       width=\"24px\">\n",
              "    <path d=\"M0 0h24v24H0V0z\" fill=\"none\"/>\n",
              "    <path d=\"M18.56 5.44l.94 2.06.94-2.06 2.06-.94-2.06-.94-.94-2.06-.94 2.06-2.06.94zm-11 1L8.5 8.5l.94-2.06 2.06-.94-2.06-.94L8.5 2.5l-.94 2.06-2.06.94zm10 10l.94 2.06.94-2.06 2.06-.94-2.06-.94-.94-2.06-.94 2.06-2.06.94z\"/><path d=\"M17.41 7.96l-1.37-1.37c-.4-.4-.92-.59-1.43-.59-.52 0-1.04.2-1.43.59L10.3 9.45l-7.72 7.72c-.78.78-.78 2.05 0 2.83L4 21.41c.39.39.9.59 1.41.59.51 0 1.02-.2 1.41-.59l7.78-7.78 2.81-2.81c.8-.78.8-2.07 0-2.86zM5.41 20L4 18.59l7.72-7.72 1.47 1.35L5.41 20z\"/>\n",
              "  </svg>\n",
              "      </button>\n",
              "      \n",
              "  <style>\n",
              "    .colab-df-container {\n",
              "      display:flex;\n",
              "      flex-wrap:wrap;\n",
              "      gap: 12px;\n",
              "    }\n",
              "\n",
              "    .colab-df-convert {\n",
              "      background-color: #E8F0FE;\n",
              "      border: none;\n",
              "      border-radius: 50%;\n",
              "      cursor: pointer;\n",
              "      display: none;\n",
              "      fill: #1967D2;\n",
              "      height: 32px;\n",
              "      padding: 0 0 0 0;\n",
              "      width: 32px;\n",
              "    }\n",
              "\n",
              "    .colab-df-convert:hover {\n",
              "      background-color: #E2EBFA;\n",
              "      box-shadow: 0px 1px 2px rgba(60, 64, 67, 0.3), 0px 1px 3px 1px rgba(60, 64, 67, 0.15);\n",
              "      fill: #174EA6;\n",
              "    }\n",
              "\n",
              "    [theme=dark] .colab-df-convert {\n",
              "      background-color: #3B4455;\n",
              "      fill: #D2E3FC;\n",
              "    }\n",
              "\n",
              "    [theme=dark] .colab-df-convert:hover {\n",
              "      background-color: #434B5C;\n",
              "      box-shadow: 0px 1px 3px 1px rgba(0, 0, 0, 0.15);\n",
              "      filter: drop-shadow(0px 1px 2px rgba(0, 0, 0, 0.3));\n",
              "      fill: #FFFFFF;\n",
              "    }\n",
              "  </style>\n",
              "\n",
              "      <script>\n",
              "        const buttonEl =\n",
              "          document.querySelector('#df-f2d15500-beb7-4863-a37a-fe128a39c36b button.colab-df-convert');\n",
              "        buttonEl.style.display =\n",
              "          google.colab.kernel.accessAllowed ? 'block' : 'none';\n",
              "\n",
              "        async function convertToInteractive(key) {\n",
              "          const element = document.querySelector('#df-f2d15500-beb7-4863-a37a-fe128a39c36b');\n",
              "          const dataTable =\n",
              "            await google.colab.kernel.invokeFunction('convertToInteractive',\n",
              "                                                     [key], {});\n",
              "          if (!dataTable) return;\n",
              "\n",
              "          const docLinkHtml = 'Like what you see? Visit the ' +\n",
              "            '<a target=\"_blank\" href=https://colab.research.google.com/notebooks/data_table.ipynb>data table notebook</a>'\n",
              "            + ' to learn more about interactive tables.';\n",
              "          element.innerHTML = '';\n",
              "          dataTable['output_type'] = 'display_data';\n",
              "          await google.colab.output.renderOutput(dataTable, element);\n",
              "          const docLink = document.createElement('div');\n",
              "          docLink.innerHTML = docLinkHtml;\n",
              "          element.appendChild(docLink);\n",
              "        }\n",
              "      </script>\n",
              "    </div>\n",
              "  </div>\n",
              "  "
            ]
          },
          "metadata": {},
          "execution_count": 45
        }
      ]
    },
    {
      "cell_type": "markdown",
      "source": [
        "Buy and Hold"
      ],
      "metadata": {
        "id": "63OK0bzPXLcD"
      }
    },
    {
      "cell_type": "code",
      "source": [
        "capital = buy_and_hold(year_2_data_daily,100,len(year_2_data_daily)-1)\n",
        "print(\"The capital from investing 100 dollars in buy and hold is as follows: \" + str(round(capital,2)))"
      ],
      "metadata": {
        "colab": {
          "base_uri": "https://localhost:8080/"
        },
        "id": "dpKyrOWHXN7z",
        "outputId": "3cd379a9-788e-45dd-9f4a-ed4e777177db"
      },
      "execution_count": 53,
      "outputs": [
        {
          "output_type": "stream",
          "name": "stdout",
          "text": [
            "The capital from investing 100 dollars in buy and hold is as follows: 225.78\n"
          ]
        }
      ]
    },
    {
      "cell_type": "markdown",
      "source": [
        "Buy with labels: Linear Discriminant Analysis "
      ],
      "metadata": {
        "id": "4BDeDDmqWFig"
      }
    },
    {
      "cell_type": "markdown",
      "source": [
        "\n",
        "\n",
        "> merging labelled weekly data with daily data.\n",
        "\n"
      ],
      "metadata": {
        "id": "yrJCsOmTZN6M"
      }
    },
    {
      "cell_type": "code",
      "source": [
        "year_2_data_daily = label_daily_data(year_2_data_daily,X_test,y_pred_lda)\n",
        "year_2_data_daily.head()"
      ],
      "metadata": {
        "colab": {
          "base_uri": "https://localhost:8080/",
          "height": 204
        },
        "id": "6mjHcX3LVoh0",
        "outputId": "c3eb41eb-bbbd-4f8b-b51a-dddecf3d435a"
      },
      "execution_count": 46,
      "outputs": [
        {
          "output_type": "execute_result",
          "data": {
            "text/plain": [
              "                        Date  Year  Month  Day    Weekday  Week_Number  \\\n",
              "0  2021-01-04 00:00:00-05:00  2021      1    4     Monday            1   \n",
              "1  2021-01-05 00:00:00-05:00  2021      1    5    Tuesday            1   \n",
              "2  2021-01-06 00:00:00-05:00  2021      1    6  Wednesday            1   \n",
              "3  2021-01-07 00:00:00-05:00  2021      1    7   Thursday            1   \n",
              "4  2021-01-08 00:00:00-05:00  2021      1    8     Friday            1   \n",
              "\n",
              "  Year_Week    Open    High     Low   Close    Volume  Adj Close    Return  \\\n",
              "0   2021-01  131.04  136.52  129.62  131.13  56064000     130.93  0.004481   \n",
              "1   2021-01  131.00  134.43  130.87  134.05  32276000     133.84  0.022210   \n",
              "2   2021-01  132.23  132.45  125.86  126.14  58042400     125.95 -0.058953   \n",
              "3   2021-01  129.68  133.78  128.87  133.44  46148000     133.23  0.057830   \n",
              "4   2021-01  133.62  134.21  130.42  132.77  29252800     132.56 -0.005040   \n",
              "\n",
              "     Short_MA   Long_MA  Label  \n",
              "0  131.436429  132.4336  green  \n",
              "1  131.505000  132.4432  green  \n",
              "2  130.972857  132.2492  green  \n",
              "3  131.045000  132.2904  green  \n",
              "4  130.998571  132.2672  green  "
            ],
            "text/html": [
              "\n",
              "  <div id=\"df-b47d512c-bea7-4f2a-b81d-a65c90bfad97\">\n",
              "    <div class=\"colab-df-container\">\n",
              "      <div>\n",
              "<style scoped>\n",
              "    .dataframe tbody tr th:only-of-type {\n",
              "        vertical-align: middle;\n",
              "    }\n",
              "\n",
              "    .dataframe tbody tr th {\n",
              "        vertical-align: top;\n",
              "    }\n",
              "\n",
              "    .dataframe thead th {\n",
              "        text-align: right;\n",
              "    }\n",
              "</style>\n",
              "<table border=\"1\" class=\"dataframe\">\n",
              "  <thead>\n",
              "    <tr style=\"text-align: right;\">\n",
              "      <th></th>\n",
              "      <th>Date</th>\n",
              "      <th>Year</th>\n",
              "      <th>Month</th>\n",
              "      <th>Day</th>\n",
              "      <th>Weekday</th>\n",
              "      <th>Week_Number</th>\n",
              "      <th>Year_Week</th>\n",
              "      <th>Open</th>\n",
              "      <th>High</th>\n",
              "      <th>Low</th>\n",
              "      <th>Close</th>\n",
              "      <th>Volume</th>\n",
              "      <th>Adj Close</th>\n",
              "      <th>Return</th>\n",
              "      <th>Short_MA</th>\n",
              "      <th>Long_MA</th>\n",
              "      <th>Label</th>\n",
              "    </tr>\n",
              "  </thead>\n",
              "  <tbody>\n",
              "    <tr>\n",
              "      <th>0</th>\n",
              "      <td>2021-01-04 00:00:00-05:00</td>\n",
              "      <td>2021</td>\n",
              "      <td>1</td>\n",
              "      <td>4</td>\n",
              "      <td>Monday</td>\n",
              "      <td>1</td>\n",
              "      <td>2021-01</td>\n",
              "      <td>131.04</td>\n",
              "      <td>136.52</td>\n",
              "      <td>129.62</td>\n",
              "      <td>131.13</td>\n",
              "      <td>56064000</td>\n",
              "      <td>130.93</td>\n",
              "      <td>0.004481</td>\n",
              "      <td>131.436429</td>\n",
              "      <td>132.4336</td>\n",
              "      <td>green</td>\n",
              "    </tr>\n",
              "    <tr>\n",
              "      <th>1</th>\n",
              "      <td>2021-01-05 00:00:00-05:00</td>\n",
              "      <td>2021</td>\n",
              "      <td>1</td>\n",
              "      <td>5</td>\n",
              "      <td>Tuesday</td>\n",
              "      <td>1</td>\n",
              "      <td>2021-01</td>\n",
              "      <td>131.00</td>\n",
              "      <td>134.43</td>\n",
              "      <td>130.87</td>\n",
              "      <td>134.05</td>\n",
              "      <td>32276000</td>\n",
              "      <td>133.84</td>\n",
              "      <td>0.022210</td>\n",
              "      <td>131.505000</td>\n",
              "      <td>132.4432</td>\n",
              "      <td>green</td>\n",
              "    </tr>\n",
              "    <tr>\n",
              "      <th>2</th>\n",
              "      <td>2021-01-06 00:00:00-05:00</td>\n",
              "      <td>2021</td>\n",
              "      <td>1</td>\n",
              "      <td>6</td>\n",
              "      <td>Wednesday</td>\n",
              "      <td>1</td>\n",
              "      <td>2021-01</td>\n",
              "      <td>132.23</td>\n",
              "      <td>132.45</td>\n",
              "      <td>125.86</td>\n",
              "      <td>126.14</td>\n",
              "      <td>58042400</td>\n",
              "      <td>125.95</td>\n",
              "      <td>-0.058953</td>\n",
              "      <td>130.972857</td>\n",
              "      <td>132.2492</td>\n",
              "      <td>green</td>\n",
              "    </tr>\n",
              "    <tr>\n",
              "      <th>3</th>\n",
              "      <td>2021-01-07 00:00:00-05:00</td>\n",
              "      <td>2021</td>\n",
              "      <td>1</td>\n",
              "      <td>7</td>\n",
              "      <td>Thursday</td>\n",
              "      <td>1</td>\n",
              "      <td>2021-01</td>\n",
              "      <td>129.68</td>\n",
              "      <td>133.78</td>\n",
              "      <td>128.87</td>\n",
              "      <td>133.44</td>\n",
              "      <td>46148000</td>\n",
              "      <td>133.23</td>\n",
              "      <td>0.057830</td>\n",
              "      <td>131.045000</td>\n",
              "      <td>132.2904</td>\n",
              "      <td>green</td>\n",
              "    </tr>\n",
              "    <tr>\n",
              "      <th>4</th>\n",
              "      <td>2021-01-08 00:00:00-05:00</td>\n",
              "      <td>2021</td>\n",
              "      <td>1</td>\n",
              "      <td>8</td>\n",
              "      <td>Friday</td>\n",
              "      <td>1</td>\n",
              "      <td>2021-01</td>\n",
              "      <td>133.62</td>\n",
              "      <td>134.21</td>\n",
              "      <td>130.42</td>\n",
              "      <td>132.77</td>\n",
              "      <td>29252800</td>\n",
              "      <td>132.56</td>\n",
              "      <td>-0.005040</td>\n",
              "      <td>130.998571</td>\n",
              "      <td>132.2672</td>\n",
              "      <td>green</td>\n",
              "    </tr>\n",
              "  </tbody>\n",
              "</table>\n",
              "</div>\n",
              "      <button class=\"colab-df-convert\" onclick=\"convertToInteractive('df-b47d512c-bea7-4f2a-b81d-a65c90bfad97')\"\n",
              "              title=\"Convert this dataframe to an interactive table.\"\n",
              "              style=\"display:none;\">\n",
              "        \n",
              "  <svg xmlns=\"http://www.w3.org/2000/svg\" height=\"24px\"viewBox=\"0 0 24 24\"\n",
              "       width=\"24px\">\n",
              "    <path d=\"M0 0h24v24H0V0z\" fill=\"none\"/>\n",
              "    <path d=\"M18.56 5.44l.94 2.06.94-2.06 2.06-.94-2.06-.94-.94-2.06-.94 2.06-2.06.94zm-11 1L8.5 8.5l.94-2.06 2.06-.94-2.06-.94L8.5 2.5l-.94 2.06-2.06.94zm10 10l.94 2.06.94-2.06 2.06-.94-2.06-.94-.94-2.06-.94 2.06-2.06.94z\"/><path d=\"M17.41 7.96l-1.37-1.37c-.4-.4-.92-.59-1.43-.59-.52 0-1.04.2-1.43.59L10.3 9.45l-7.72 7.72c-.78.78-.78 2.05 0 2.83L4 21.41c.39.39.9.59 1.41.59.51 0 1.02-.2 1.41-.59l7.78-7.78 2.81-2.81c.8-.78.8-2.07 0-2.86zM5.41 20L4 18.59l7.72-7.72 1.47 1.35L5.41 20z\"/>\n",
              "  </svg>\n",
              "      </button>\n",
              "      \n",
              "  <style>\n",
              "    .colab-df-container {\n",
              "      display:flex;\n",
              "      flex-wrap:wrap;\n",
              "      gap: 12px;\n",
              "    }\n",
              "\n",
              "    .colab-df-convert {\n",
              "      background-color: #E8F0FE;\n",
              "      border: none;\n",
              "      border-radius: 50%;\n",
              "      cursor: pointer;\n",
              "      display: none;\n",
              "      fill: #1967D2;\n",
              "      height: 32px;\n",
              "      padding: 0 0 0 0;\n",
              "      width: 32px;\n",
              "    }\n",
              "\n",
              "    .colab-df-convert:hover {\n",
              "      background-color: #E2EBFA;\n",
              "      box-shadow: 0px 1px 2px rgba(60, 64, 67, 0.3), 0px 1px 3px 1px rgba(60, 64, 67, 0.15);\n",
              "      fill: #174EA6;\n",
              "    }\n",
              "\n",
              "    [theme=dark] .colab-df-convert {\n",
              "      background-color: #3B4455;\n",
              "      fill: #D2E3FC;\n",
              "    }\n",
              "\n",
              "    [theme=dark] .colab-df-convert:hover {\n",
              "      background-color: #434B5C;\n",
              "      box-shadow: 0px 1px 3px 1px rgba(0, 0, 0, 0.15);\n",
              "      filter: drop-shadow(0px 1px 2px rgba(0, 0, 0, 0.3));\n",
              "      fill: #FFFFFF;\n",
              "    }\n",
              "  </style>\n",
              "\n",
              "      <script>\n",
              "        const buttonEl =\n",
              "          document.querySelector('#df-b47d512c-bea7-4f2a-b81d-a65c90bfad97 button.colab-df-convert');\n",
              "        buttonEl.style.display =\n",
              "          google.colab.kernel.accessAllowed ? 'block' : 'none';\n",
              "\n",
              "        async function convertToInteractive(key) {\n",
              "          const element = document.querySelector('#df-b47d512c-bea7-4f2a-b81d-a65c90bfad97');\n",
              "          const dataTable =\n",
              "            await google.colab.kernel.invokeFunction('convertToInteractive',\n",
              "                                                     [key], {});\n",
              "          if (!dataTable) return;\n",
              "\n",
              "          const docLinkHtml = 'Like what you see? Visit the ' +\n",
              "            '<a target=\"_blank\" href=https://colab.research.google.com/notebooks/data_table.ipynb>data table notebook</a>'\n",
              "            + ' to learn more about interactive tables.';\n",
              "          element.innerHTML = '';\n",
              "          dataTable['output_type'] = 'display_data';\n",
              "          await google.colab.output.renderOutput(dataTable, element);\n",
              "          const docLink = document.createElement('div');\n",
              "          docLink.innerHTML = docLinkHtml;\n",
              "          element.appendChild(docLink);\n",
              "        }\n",
              "      </script>\n",
              "    </div>\n",
              "  </div>\n",
              "  "
            ]
          },
          "metadata": {},
          "execution_count": 46
        }
      ]
    },
    {
      "cell_type": "code",
      "source": [
        "#return on investment\n",
        "roi = buy_with_labels(year_2_data_daily,len(year_2_data_daily)-1)\n",
        "print(\"The cash with us after investing using buy with labels strategy is: \"+str(round(roi,2)))"
      ],
      "metadata": {
        "colab": {
          "base_uri": "https://localhost:8080/"
        },
        "id": "5i0BRZYhWL8Y",
        "outputId": "a22a09d2-2d79-4277-9449-0f607cf43a69"
      },
      "execution_count": 47,
      "outputs": [
        {
          "output_type": "stream",
          "name": "stdout",
          "text": [
            "The cash with us after investing using buy with labels strategy is: 519.94\n"
          ]
        }
      ]
    },
    {
      "cell_type": "markdown",
      "source": [
        "Buy with labels: Quadratic Discriminant Analysis."
      ],
      "metadata": {
        "id": "YrWQ-1BiWIYL"
      }
    },
    {
      "cell_type": "code",
      "source": [
        "df_daily = pd.read_csv(\"/content/drive/MyDrive/Data Science Eugene Pinsky/Homework_10/Linear Discriminant/data/NVDA.csv\")\n",
        "\n",
        "year_2_data_daily = df_daily[ df_daily[\"Year\"] == 2021 ]\n",
        "\n",
        "year_2_data_daily = year_2_data_daily.reset_index(drop=True)\n",
        "\n",
        "year_2_data_daily.head()"
      ],
      "metadata": {
        "colab": {
          "base_uri": "https://localhost:8080/",
          "height": 204
        },
        "id": "CsdeQczEWv_z",
        "outputId": "03f5e1cb-6dff-4572-f64d-fe7fd8a10280"
      },
      "execution_count": 50,
      "outputs": [
        {
          "output_type": "execute_result",
          "data": {
            "text/plain": [
              "                        Date  Year  Month  Day    Weekday  Week_Number  \\\n",
              "0  2021-01-04 00:00:00-05:00  2021      1    4     Monday            1   \n",
              "1  2021-01-05 00:00:00-05:00  2021      1    5    Tuesday            1   \n",
              "2  2021-01-06 00:00:00-05:00  2021      1    6  Wednesday            1   \n",
              "3  2021-01-07 00:00:00-05:00  2021      1    7   Thursday            1   \n",
              "4  2021-01-08 00:00:00-05:00  2021      1    8     Friday            1   \n",
              "\n",
              "  Year_Week    Open    High     Low   Close    Volume  Adj Close    Return  \\\n",
              "0   2021-01  131.04  136.52  129.62  131.13  56064000     130.93  0.004481   \n",
              "1   2021-01  131.00  134.43  130.87  134.05  32276000     133.84  0.022210   \n",
              "2   2021-01  132.23  132.45  125.86  126.14  58042400     125.95 -0.058953   \n",
              "3   2021-01  129.68  133.78  128.87  133.44  46148000     133.23  0.057830   \n",
              "4   2021-01  133.62  134.21  130.42  132.77  29252800     132.56 -0.005040   \n",
              "\n",
              "     Short_MA   Long_MA  \n",
              "0  131.436429  132.4336  \n",
              "1  131.505000  132.4432  \n",
              "2  130.972857  132.2492  \n",
              "3  131.045000  132.2904  \n",
              "4  130.998571  132.2672  "
            ],
            "text/html": [
              "\n",
              "  <div id=\"df-67220ae6-a6b4-48ed-baf2-5acba8d95740\">\n",
              "    <div class=\"colab-df-container\">\n",
              "      <div>\n",
              "<style scoped>\n",
              "    .dataframe tbody tr th:only-of-type {\n",
              "        vertical-align: middle;\n",
              "    }\n",
              "\n",
              "    .dataframe tbody tr th {\n",
              "        vertical-align: top;\n",
              "    }\n",
              "\n",
              "    .dataframe thead th {\n",
              "        text-align: right;\n",
              "    }\n",
              "</style>\n",
              "<table border=\"1\" class=\"dataframe\">\n",
              "  <thead>\n",
              "    <tr style=\"text-align: right;\">\n",
              "      <th></th>\n",
              "      <th>Date</th>\n",
              "      <th>Year</th>\n",
              "      <th>Month</th>\n",
              "      <th>Day</th>\n",
              "      <th>Weekday</th>\n",
              "      <th>Week_Number</th>\n",
              "      <th>Year_Week</th>\n",
              "      <th>Open</th>\n",
              "      <th>High</th>\n",
              "      <th>Low</th>\n",
              "      <th>Close</th>\n",
              "      <th>Volume</th>\n",
              "      <th>Adj Close</th>\n",
              "      <th>Return</th>\n",
              "      <th>Short_MA</th>\n",
              "      <th>Long_MA</th>\n",
              "    </tr>\n",
              "  </thead>\n",
              "  <tbody>\n",
              "    <tr>\n",
              "      <th>0</th>\n",
              "      <td>2021-01-04 00:00:00-05:00</td>\n",
              "      <td>2021</td>\n",
              "      <td>1</td>\n",
              "      <td>4</td>\n",
              "      <td>Monday</td>\n",
              "      <td>1</td>\n",
              "      <td>2021-01</td>\n",
              "      <td>131.04</td>\n",
              "      <td>136.52</td>\n",
              "      <td>129.62</td>\n",
              "      <td>131.13</td>\n",
              "      <td>56064000</td>\n",
              "      <td>130.93</td>\n",
              "      <td>0.004481</td>\n",
              "      <td>131.436429</td>\n",
              "      <td>132.4336</td>\n",
              "    </tr>\n",
              "    <tr>\n",
              "      <th>1</th>\n",
              "      <td>2021-01-05 00:00:00-05:00</td>\n",
              "      <td>2021</td>\n",
              "      <td>1</td>\n",
              "      <td>5</td>\n",
              "      <td>Tuesday</td>\n",
              "      <td>1</td>\n",
              "      <td>2021-01</td>\n",
              "      <td>131.00</td>\n",
              "      <td>134.43</td>\n",
              "      <td>130.87</td>\n",
              "      <td>134.05</td>\n",
              "      <td>32276000</td>\n",
              "      <td>133.84</td>\n",
              "      <td>0.022210</td>\n",
              "      <td>131.505000</td>\n",
              "      <td>132.4432</td>\n",
              "    </tr>\n",
              "    <tr>\n",
              "      <th>2</th>\n",
              "      <td>2021-01-06 00:00:00-05:00</td>\n",
              "      <td>2021</td>\n",
              "      <td>1</td>\n",
              "      <td>6</td>\n",
              "      <td>Wednesday</td>\n",
              "      <td>1</td>\n",
              "      <td>2021-01</td>\n",
              "      <td>132.23</td>\n",
              "      <td>132.45</td>\n",
              "      <td>125.86</td>\n",
              "      <td>126.14</td>\n",
              "      <td>58042400</td>\n",
              "      <td>125.95</td>\n",
              "      <td>-0.058953</td>\n",
              "      <td>130.972857</td>\n",
              "      <td>132.2492</td>\n",
              "    </tr>\n",
              "    <tr>\n",
              "      <th>3</th>\n",
              "      <td>2021-01-07 00:00:00-05:00</td>\n",
              "      <td>2021</td>\n",
              "      <td>1</td>\n",
              "      <td>7</td>\n",
              "      <td>Thursday</td>\n",
              "      <td>1</td>\n",
              "      <td>2021-01</td>\n",
              "      <td>129.68</td>\n",
              "      <td>133.78</td>\n",
              "      <td>128.87</td>\n",
              "      <td>133.44</td>\n",
              "      <td>46148000</td>\n",
              "      <td>133.23</td>\n",
              "      <td>0.057830</td>\n",
              "      <td>131.045000</td>\n",
              "      <td>132.2904</td>\n",
              "    </tr>\n",
              "    <tr>\n",
              "      <th>4</th>\n",
              "      <td>2021-01-08 00:00:00-05:00</td>\n",
              "      <td>2021</td>\n",
              "      <td>1</td>\n",
              "      <td>8</td>\n",
              "      <td>Friday</td>\n",
              "      <td>1</td>\n",
              "      <td>2021-01</td>\n",
              "      <td>133.62</td>\n",
              "      <td>134.21</td>\n",
              "      <td>130.42</td>\n",
              "      <td>132.77</td>\n",
              "      <td>29252800</td>\n",
              "      <td>132.56</td>\n",
              "      <td>-0.005040</td>\n",
              "      <td>130.998571</td>\n",
              "      <td>132.2672</td>\n",
              "    </tr>\n",
              "  </tbody>\n",
              "</table>\n",
              "</div>\n",
              "      <button class=\"colab-df-convert\" onclick=\"convertToInteractive('df-67220ae6-a6b4-48ed-baf2-5acba8d95740')\"\n",
              "              title=\"Convert this dataframe to an interactive table.\"\n",
              "              style=\"display:none;\">\n",
              "        \n",
              "  <svg xmlns=\"http://www.w3.org/2000/svg\" height=\"24px\"viewBox=\"0 0 24 24\"\n",
              "       width=\"24px\">\n",
              "    <path d=\"M0 0h24v24H0V0z\" fill=\"none\"/>\n",
              "    <path d=\"M18.56 5.44l.94 2.06.94-2.06 2.06-.94-2.06-.94-.94-2.06-.94 2.06-2.06.94zm-11 1L8.5 8.5l.94-2.06 2.06-.94-2.06-.94L8.5 2.5l-.94 2.06-2.06.94zm10 10l.94 2.06.94-2.06 2.06-.94-2.06-.94-.94-2.06-.94 2.06-2.06.94z\"/><path d=\"M17.41 7.96l-1.37-1.37c-.4-.4-.92-.59-1.43-.59-.52 0-1.04.2-1.43.59L10.3 9.45l-7.72 7.72c-.78.78-.78 2.05 0 2.83L4 21.41c.39.39.9.59 1.41.59.51 0 1.02-.2 1.41-.59l7.78-7.78 2.81-2.81c.8-.78.8-2.07 0-2.86zM5.41 20L4 18.59l7.72-7.72 1.47 1.35L5.41 20z\"/>\n",
              "  </svg>\n",
              "      </button>\n",
              "      \n",
              "  <style>\n",
              "    .colab-df-container {\n",
              "      display:flex;\n",
              "      flex-wrap:wrap;\n",
              "      gap: 12px;\n",
              "    }\n",
              "\n",
              "    .colab-df-convert {\n",
              "      background-color: #E8F0FE;\n",
              "      border: none;\n",
              "      border-radius: 50%;\n",
              "      cursor: pointer;\n",
              "      display: none;\n",
              "      fill: #1967D2;\n",
              "      height: 32px;\n",
              "      padding: 0 0 0 0;\n",
              "      width: 32px;\n",
              "    }\n",
              "\n",
              "    .colab-df-convert:hover {\n",
              "      background-color: #E2EBFA;\n",
              "      box-shadow: 0px 1px 2px rgba(60, 64, 67, 0.3), 0px 1px 3px 1px rgba(60, 64, 67, 0.15);\n",
              "      fill: #174EA6;\n",
              "    }\n",
              "\n",
              "    [theme=dark] .colab-df-convert {\n",
              "      background-color: #3B4455;\n",
              "      fill: #D2E3FC;\n",
              "    }\n",
              "\n",
              "    [theme=dark] .colab-df-convert:hover {\n",
              "      background-color: #434B5C;\n",
              "      box-shadow: 0px 1px 3px 1px rgba(0, 0, 0, 0.15);\n",
              "      filter: drop-shadow(0px 1px 2px rgba(0, 0, 0, 0.3));\n",
              "      fill: #FFFFFF;\n",
              "    }\n",
              "  </style>\n",
              "\n",
              "      <script>\n",
              "        const buttonEl =\n",
              "          document.querySelector('#df-67220ae6-a6b4-48ed-baf2-5acba8d95740 button.colab-df-convert');\n",
              "        buttonEl.style.display =\n",
              "          google.colab.kernel.accessAllowed ? 'block' : 'none';\n",
              "\n",
              "        async function convertToInteractive(key) {\n",
              "          const element = document.querySelector('#df-67220ae6-a6b4-48ed-baf2-5acba8d95740');\n",
              "          const dataTable =\n",
              "            await google.colab.kernel.invokeFunction('convertToInteractive',\n",
              "                                                     [key], {});\n",
              "          if (!dataTable) return;\n",
              "\n",
              "          const docLinkHtml = 'Like what you see? Visit the ' +\n",
              "            '<a target=\"_blank\" href=https://colab.research.google.com/notebooks/data_table.ipynb>data table notebook</a>'\n",
              "            + ' to learn more about interactive tables.';\n",
              "          element.innerHTML = '';\n",
              "          dataTable['output_type'] = 'display_data';\n",
              "          await google.colab.output.renderOutput(dataTable, element);\n",
              "          const docLink = document.createElement('div');\n",
              "          docLink.innerHTML = docLinkHtml;\n",
              "          element.appendChild(docLink);\n",
              "        }\n",
              "      </script>\n",
              "    </div>\n",
              "  </div>\n",
              "  "
            ]
          },
          "metadata": {},
          "execution_count": 50
        }
      ]
    },
    {
      "cell_type": "markdown",
      "source": [
        "\n",
        "\n",
        "> merging labelled weekly data with daily data.\n",
        "\n"
      ],
      "metadata": {
        "id": "gH960MtHZSvd"
      }
    },
    {
      "cell_type": "code",
      "source": [
        "year_2_data_daily = label_daily_data(year_2_data_daily,X_test,y_pred_qda)\n",
        "year_2_data_daily.head()"
      ],
      "metadata": {
        "colab": {
          "base_uri": "https://localhost:8080/",
          "height": 204
        },
        "id": "kVVxIqCxWK3a",
        "outputId": "ea1529c9-bfa6-4633-eade-2af385700301"
      },
      "execution_count": 51,
      "outputs": [
        {
          "output_type": "execute_result",
          "data": {
            "text/plain": [
              "                        Date  Year  Month  Day    Weekday  Week_Number  \\\n",
              "0  2021-01-04 00:00:00-05:00  2021      1    4     Monday            1   \n",
              "1  2021-01-05 00:00:00-05:00  2021      1    5    Tuesday            1   \n",
              "2  2021-01-06 00:00:00-05:00  2021      1    6  Wednesday            1   \n",
              "3  2021-01-07 00:00:00-05:00  2021      1    7   Thursday            1   \n",
              "4  2021-01-08 00:00:00-05:00  2021      1    8     Friday            1   \n",
              "\n",
              "  Year_Week    Open    High     Low   Close    Volume  Adj Close    Return  \\\n",
              "0   2021-01  131.04  136.52  129.62  131.13  56064000     130.93  0.004481   \n",
              "1   2021-01  131.00  134.43  130.87  134.05  32276000     133.84  0.022210   \n",
              "2   2021-01  132.23  132.45  125.86  126.14  58042400     125.95 -0.058953   \n",
              "3   2021-01  129.68  133.78  128.87  133.44  46148000     133.23  0.057830   \n",
              "4   2021-01  133.62  134.21  130.42  132.77  29252800     132.56 -0.005040   \n",
              "\n",
              "     Short_MA   Long_MA  Label  \n",
              "0  131.436429  132.4336  green  \n",
              "1  131.505000  132.4432  green  \n",
              "2  130.972857  132.2492  green  \n",
              "3  131.045000  132.2904  green  \n",
              "4  130.998571  132.2672  green  "
            ],
            "text/html": [
              "\n",
              "  <div id=\"df-e873174f-53ef-4f5a-80d5-9fa13eb54d71\">\n",
              "    <div class=\"colab-df-container\">\n",
              "      <div>\n",
              "<style scoped>\n",
              "    .dataframe tbody tr th:only-of-type {\n",
              "        vertical-align: middle;\n",
              "    }\n",
              "\n",
              "    .dataframe tbody tr th {\n",
              "        vertical-align: top;\n",
              "    }\n",
              "\n",
              "    .dataframe thead th {\n",
              "        text-align: right;\n",
              "    }\n",
              "</style>\n",
              "<table border=\"1\" class=\"dataframe\">\n",
              "  <thead>\n",
              "    <tr style=\"text-align: right;\">\n",
              "      <th></th>\n",
              "      <th>Date</th>\n",
              "      <th>Year</th>\n",
              "      <th>Month</th>\n",
              "      <th>Day</th>\n",
              "      <th>Weekday</th>\n",
              "      <th>Week_Number</th>\n",
              "      <th>Year_Week</th>\n",
              "      <th>Open</th>\n",
              "      <th>High</th>\n",
              "      <th>Low</th>\n",
              "      <th>Close</th>\n",
              "      <th>Volume</th>\n",
              "      <th>Adj Close</th>\n",
              "      <th>Return</th>\n",
              "      <th>Short_MA</th>\n",
              "      <th>Long_MA</th>\n",
              "      <th>Label</th>\n",
              "    </tr>\n",
              "  </thead>\n",
              "  <tbody>\n",
              "    <tr>\n",
              "      <th>0</th>\n",
              "      <td>2021-01-04 00:00:00-05:00</td>\n",
              "      <td>2021</td>\n",
              "      <td>1</td>\n",
              "      <td>4</td>\n",
              "      <td>Monday</td>\n",
              "      <td>1</td>\n",
              "      <td>2021-01</td>\n",
              "      <td>131.04</td>\n",
              "      <td>136.52</td>\n",
              "      <td>129.62</td>\n",
              "      <td>131.13</td>\n",
              "      <td>56064000</td>\n",
              "      <td>130.93</td>\n",
              "      <td>0.004481</td>\n",
              "      <td>131.436429</td>\n",
              "      <td>132.4336</td>\n",
              "      <td>green</td>\n",
              "    </tr>\n",
              "    <tr>\n",
              "      <th>1</th>\n",
              "      <td>2021-01-05 00:00:00-05:00</td>\n",
              "      <td>2021</td>\n",
              "      <td>1</td>\n",
              "      <td>5</td>\n",
              "      <td>Tuesday</td>\n",
              "      <td>1</td>\n",
              "      <td>2021-01</td>\n",
              "      <td>131.00</td>\n",
              "      <td>134.43</td>\n",
              "      <td>130.87</td>\n",
              "      <td>134.05</td>\n",
              "      <td>32276000</td>\n",
              "      <td>133.84</td>\n",
              "      <td>0.022210</td>\n",
              "      <td>131.505000</td>\n",
              "      <td>132.4432</td>\n",
              "      <td>green</td>\n",
              "    </tr>\n",
              "    <tr>\n",
              "      <th>2</th>\n",
              "      <td>2021-01-06 00:00:00-05:00</td>\n",
              "      <td>2021</td>\n",
              "      <td>1</td>\n",
              "      <td>6</td>\n",
              "      <td>Wednesday</td>\n",
              "      <td>1</td>\n",
              "      <td>2021-01</td>\n",
              "      <td>132.23</td>\n",
              "      <td>132.45</td>\n",
              "      <td>125.86</td>\n",
              "      <td>126.14</td>\n",
              "      <td>58042400</td>\n",
              "      <td>125.95</td>\n",
              "      <td>-0.058953</td>\n",
              "      <td>130.972857</td>\n",
              "      <td>132.2492</td>\n",
              "      <td>green</td>\n",
              "    </tr>\n",
              "    <tr>\n",
              "      <th>3</th>\n",
              "      <td>2021-01-07 00:00:00-05:00</td>\n",
              "      <td>2021</td>\n",
              "      <td>1</td>\n",
              "      <td>7</td>\n",
              "      <td>Thursday</td>\n",
              "      <td>1</td>\n",
              "      <td>2021-01</td>\n",
              "      <td>129.68</td>\n",
              "      <td>133.78</td>\n",
              "      <td>128.87</td>\n",
              "      <td>133.44</td>\n",
              "      <td>46148000</td>\n",
              "      <td>133.23</td>\n",
              "      <td>0.057830</td>\n",
              "      <td>131.045000</td>\n",
              "      <td>132.2904</td>\n",
              "      <td>green</td>\n",
              "    </tr>\n",
              "    <tr>\n",
              "      <th>4</th>\n",
              "      <td>2021-01-08 00:00:00-05:00</td>\n",
              "      <td>2021</td>\n",
              "      <td>1</td>\n",
              "      <td>8</td>\n",
              "      <td>Friday</td>\n",
              "      <td>1</td>\n",
              "      <td>2021-01</td>\n",
              "      <td>133.62</td>\n",
              "      <td>134.21</td>\n",
              "      <td>130.42</td>\n",
              "      <td>132.77</td>\n",
              "      <td>29252800</td>\n",
              "      <td>132.56</td>\n",
              "      <td>-0.005040</td>\n",
              "      <td>130.998571</td>\n",
              "      <td>132.2672</td>\n",
              "      <td>green</td>\n",
              "    </tr>\n",
              "  </tbody>\n",
              "</table>\n",
              "</div>\n",
              "      <button class=\"colab-df-convert\" onclick=\"convertToInteractive('df-e873174f-53ef-4f5a-80d5-9fa13eb54d71')\"\n",
              "              title=\"Convert this dataframe to an interactive table.\"\n",
              "              style=\"display:none;\">\n",
              "        \n",
              "  <svg xmlns=\"http://www.w3.org/2000/svg\" height=\"24px\"viewBox=\"0 0 24 24\"\n",
              "       width=\"24px\">\n",
              "    <path d=\"M0 0h24v24H0V0z\" fill=\"none\"/>\n",
              "    <path d=\"M18.56 5.44l.94 2.06.94-2.06 2.06-.94-2.06-.94-.94-2.06-.94 2.06-2.06.94zm-11 1L8.5 8.5l.94-2.06 2.06-.94-2.06-.94L8.5 2.5l-.94 2.06-2.06.94zm10 10l.94 2.06.94-2.06 2.06-.94-2.06-.94-.94-2.06-.94 2.06-2.06.94z\"/><path d=\"M17.41 7.96l-1.37-1.37c-.4-.4-.92-.59-1.43-.59-.52 0-1.04.2-1.43.59L10.3 9.45l-7.72 7.72c-.78.78-.78 2.05 0 2.83L4 21.41c.39.39.9.59 1.41.59.51 0 1.02-.2 1.41-.59l7.78-7.78 2.81-2.81c.8-.78.8-2.07 0-2.86zM5.41 20L4 18.59l7.72-7.72 1.47 1.35L5.41 20z\"/>\n",
              "  </svg>\n",
              "      </button>\n",
              "      \n",
              "  <style>\n",
              "    .colab-df-container {\n",
              "      display:flex;\n",
              "      flex-wrap:wrap;\n",
              "      gap: 12px;\n",
              "    }\n",
              "\n",
              "    .colab-df-convert {\n",
              "      background-color: #E8F0FE;\n",
              "      border: none;\n",
              "      border-radius: 50%;\n",
              "      cursor: pointer;\n",
              "      display: none;\n",
              "      fill: #1967D2;\n",
              "      height: 32px;\n",
              "      padding: 0 0 0 0;\n",
              "      width: 32px;\n",
              "    }\n",
              "\n",
              "    .colab-df-convert:hover {\n",
              "      background-color: #E2EBFA;\n",
              "      box-shadow: 0px 1px 2px rgba(60, 64, 67, 0.3), 0px 1px 3px 1px rgba(60, 64, 67, 0.15);\n",
              "      fill: #174EA6;\n",
              "    }\n",
              "\n",
              "    [theme=dark] .colab-df-convert {\n",
              "      background-color: #3B4455;\n",
              "      fill: #D2E3FC;\n",
              "    }\n",
              "\n",
              "    [theme=dark] .colab-df-convert:hover {\n",
              "      background-color: #434B5C;\n",
              "      box-shadow: 0px 1px 3px 1px rgba(0, 0, 0, 0.15);\n",
              "      filter: drop-shadow(0px 1px 2px rgba(0, 0, 0, 0.3));\n",
              "      fill: #FFFFFF;\n",
              "    }\n",
              "  </style>\n",
              "\n",
              "      <script>\n",
              "        const buttonEl =\n",
              "          document.querySelector('#df-e873174f-53ef-4f5a-80d5-9fa13eb54d71 button.colab-df-convert');\n",
              "        buttonEl.style.display =\n",
              "          google.colab.kernel.accessAllowed ? 'block' : 'none';\n",
              "\n",
              "        async function convertToInteractive(key) {\n",
              "          const element = document.querySelector('#df-e873174f-53ef-4f5a-80d5-9fa13eb54d71');\n",
              "          const dataTable =\n",
              "            await google.colab.kernel.invokeFunction('convertToInteractive',\n",
              "                                                     [key], {});\n",
              "          if (!dataTable) return;\n",
              "\n",
              "          const docLinkHtml = 'Like what you see? Visit the ' +\n",
              "            '<a target=\"_blank\" href=https://colab.research.google.com/notebooks/data_table.ipynb>data table notebook</a>'\n",
              "            + ' to learn more about interactive tables.';\n",
              "          element.innerHTML = '';\n",
              "          dataTable['output_type'] = 'display_data';\n",
              "          await google.colab.output.renderOutput(dataTable, element);\n",
              "          const docLink = document.createElement('div');\n",
              "          docLink.innerHTML = docLinkHtml;\n",
              "          element.appendChild(docLink);\n",
              "        }\n",
              "      </script>\n",
              "    </div>\n",
              "  </div>\n",
              "  "
            ]
          },
          "metadata": {},
          "execution_count": 51
        }
      ]
    },
    {
      "cell_type": "code",
      "source": [
        "#return on investment\n",
        "roi = buy_with_labels(year_2_data_daily,len(year_2_data_daily)-1)\n",
        "print(\"The cash with us after investing using buy with labels strategy is: \"+str(round(roi,2)))"
      ],
      "metadata": {
        "colab": {
          "base_uri": "https://localhost:8080/"
        },
        "id": "EIvHaANxWMX-",
        "outputId": "c5e70437-5ad6-4fe5-ff1e-9090402c587c"
      },
      "execution_count": 52,
      "outputs": [
        {
          "output_type": "stream",
          "name": "stdout",
          "text": [
            "The cash with us after investing using buy with labels strategy is: 389.42\n"
          ]
        }
      ]
    }
  ]
}