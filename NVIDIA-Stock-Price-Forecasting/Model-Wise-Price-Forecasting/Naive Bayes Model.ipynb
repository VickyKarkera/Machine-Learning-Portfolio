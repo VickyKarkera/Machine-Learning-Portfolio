{
  "nbformat": 4,
  "nbformat_minor": 0,
  "metadata": {
    "colab": {
      "provenance": []
    },
    "kernelspec": {
      "name": "python3",
      "display_name": "Python 3"
    },
    "language_info": {
      "name": "python"
    }
  },
  "cells": [
    {
      "cell_type": "code",
      "execution_count": 1,
      "metadata": {
        "id": "5kq4lN0kjhDG"
      },
      "outputs": [],
      "source": [
        "import pandas as pd\n",
        "import numpy as np\n",
        "from sklearn.metrics import accuracy_score, confusion_matrix, ConfusionMatrixDisplay\n",
        "from sklearn.naive_bayes import GaussianNB"
      ]
    },
    {
      "cell_type": "code",
      "source": [
        "df = pd.read_csv(\"/content/drive/MyDrive/Data Science Eugene Pinsky/Homework_10/Naive bayesian /NVDA_mean_volatility_labels.csv\")\n",
        "df.head()"
      ],
      "metadata": {
        "colab": {
          "base_uri": "https://localhost:8080/",
          "height": 204
        },
        "id": "2jc6bPQwAbj8",
        "outputId": "b83f7d5d-fc55-4db5-a20c-700dc60c2e7b"
      },
      "execution_count": 2,
      "outputs": [
        {
          "output_type": "execute_result",
          "data": {
            "text/plain": [
              "   Year  Week_Number  mean_return  volatility      Label\n",
              "0  2017            1      0.28275    2.110070  undefined\n",
              "1  2017            2      0.08460    2.299927  undefined\n",
              "2  2017            3      0.15750    2.164153  undefined\n",
              "3  2017            4      1.45160    0.704763  undefined\n",
              "4  2017            5      0.48560    2.413944  undefined"
            ],
            "text/html": [
              "\n",
              "  <div id=\"df-6862e1b7-cc66-4c2b-a405-738491c1a8d0\">\n",
              "    <div class=\"colab-df-container\">\n",
              "      <div>\n",
              "<style scoped>\n",
              "    .dataframe tbody tr th:only-of-type {\n",
              "        vertical-align: middle;\n",
              "    }\n",
              "\n",
              "    .dataframe tbody tr th {\n",
              "        vertical-align: top;\n",
              "    }\n",
              "\n",
              "    .dataframe thead th {\n",
              "        text-align: right;\n",
              "    }\n",
              "</style>\n",
              "<table border=\"1\" class=\"dataframe\">\n",
              "  <thead>\n",
              "    <tr style=\"text-align: right;\">\n",
              "      <th></th>\n",
              "      <th>Year</th>\n",
              "      <th>Week_Number</th>\n",
              "      <th>mean_return</th>\n",
              "      <th>volatility</th>\n",
              "      <th>Label</th>\n",
              "    </tr>\n",
              "  </thead>\n",
              "  <tbody>\n",
              "    <tr>\n",
              "      <th>0</th>\n",
              "      <td>2017</td>\n",
              "      <td>1</td>\n",
              "      <td>0.28275</td>\n",
              "      <td>2.110070</td>\n",
              "      <td>undefined</td>\n",
              "    </tr>\n",
              "    <tr>\n",
              "      <th>1</th>\n",
              "      <td>2017</td>\n",
              "      <td>2</td>\n",
              "      <td>0.08460</td>\n",
              "      <td>2.299927</td>\n",
              "      <td>undefined</td>\n",
              "    </tr>\n",
              "    <tr>\n",
              "      <th>2</th>\n",
              "      <td>2017</td>\n",
              "      <td>3</td>\n",
              "      <td>0.15750</td>\n",
              "      <td>2.164153</td>\n",
              "      <td>undefined</td>\n",
              "    </tr>\n",
              "    <tr>\n",
              "      <th>3</th>\n",
              "      <td>2017</td>\n",
              "      <td>4</td>\n",
              "      <td>1.45160</td>\n",
              "      <td>0.704763</td>\n",
              "      <td>undefined</td>\n",
              "    </tr>\n",
              "    <tr>\n",
              "      <th>4</th>\n",
              "      <td>2017</td>\n",
              "      <td>5</td>\n",
              "      <td>0.48560</td>\n",
              "      <td>2.413944</td>\n",
              "      <td>undefined</td>\n",
              "    </tr>\n",
              "  </tbody>\n",
              "</table>\n",
              "</div>\n",
              "      <button class=\"colab-df-convert\" onclick=\"convertToInteractive('df-6862e1b7-cc66-4c2b-a405-738491c1a8d0')\"\n",
              "              title=\"Convert this dataframe to an interactive table.\"\n",
              "              style=\"display:none;\">\n",
              "        \n",
              "  <svg xmlns=\"http://www.w3.org/2000/svg\" height=\"24px\"viewBox=\"0 0 24 24\"\n",
              "       width=\"24px\">\n",
              "    <path d=\"M0 0h24v24H0V0z\" fill=\"none\"/>\n",
              "    <path d=\"M18.56 5.44l.94 2.06.94-2.06 2.06-.94-2.06-.94-.94-2.06-.94 2.06-2.06.94zm-11 1L8.5 8.5l.94-2.06 2.06-.94-2.06-.94L8.5 2.5l-.94 2.06-2.06.94zm10 10l.94 2.06.94-2.06 2.06-.94-2.06-.94-.94-2.06-.94 2.06-2.06.94z\"/><path d=\"M17.41 7.96l-1.37-1.37c-.4-.4-.92-.59-1.43-.59-.52 0-1.04.2-1.43.59L10.3 9.45l-7.72 7.72c-.78.78-.78 2.05 0 2.83L4 21.41c.39.39.9.59 1.41.59.51 0 1.02-.2 1.41-.59l7.78-7.78 2.81-2.81c.8-.78.8-2.07 0-2.86zM5.41 20L4 18.59l7.72-7.72 1.47 1.35L5.41 20z\"/>\n",
              "  </svg>\n",
              "      </button>\n",
              "      \n",
              "  <style>\n",
              "    .colab-df-container {\n",
              "      display:flex;\n",
              "      flex-wrap:wrap;\n",
              "      gap: 12px;\n",
              "    }\n",
              "\n",
              "    .colab-df-convert {\n",
              "      background-color: #E8F0FE;\n",
              "      border: none;\n",
              "      border-radius: 50%;\n",
              "      cursor: pointer;\n",
              "      display: none;\n",
              "      fill: #1967D2;\n",
              "      height: 32px;\n",
              "      padding: 0 0 0 0;\n",
              "      width: 32px;\n",
              "    }\n",
              "\n",
              "    .colab-df-convert:hover {\n",
              "      background-color: #E2EBFA;\n",
              "      box-shadow: 0px 1px 2px rgba(60, 64, 67, 0.3), 0px 1px 3px 1px rgba(60, 64, 67, 0.15);\n",
              "      fill: #174EA6;\n",
              "    }\n",
              "\n",
              "    [theme=dark] .colab-df-convert {\n",
              "      background-color: #3B4455;\n",
              "      fill: #D2E3FC;\n",
              "    }\n",
              "\n",
              "    [theme=dark] .colab-df-convert:hover {\n",
              "      background-color: #434B5C;\n",
              "      box-shadow: 0px 1px 3px 1px rgba(0, 0, 0, 0.15);\n",
              "      filter: drop-shadow(0px 1px 2px rgba(0, 0, 0, 0.3));\n",
              "      fill: #FFFFFF;\n",
              "    }\n",
              "  </style>\n",
              "\n",
              "      <script>\n",
              "        const buttonEl =\n",
              "          document.querySelector('#df-6862e1b7-cc66-4c2b-a405-738491c1a8d0 button.colab-df-convert');\n",
              "        buttonEl.style.display =\n",
              "          google.colab.kernel.accessAllowed ? 'block' : 'none';\n",
              "\n",
              "        async function convertToInteractive(key) {\n",
              "          const element = document.querySelector('#df-6862e1b7-cc66-4c2b-a405-738491c1a8d0');\n",
              "          const dataTable =\n",
              "            await google.colab.kernel.invokeFunction('convertToInteractive',\n",
              "                                                     [key], {});\n",
              "          if (!dataTable) return;\n",
              "\n",
              "          const docLinkHtml = 'Like what you see? Visit the ' +\n",
              "            '<a target=\"_blank\" href=https://colab.research.google.com/notebooks/data_table.ipynb>data table notebook</a>'\n",
              "            + ' to learn more about interactive tables.';\n",
              "          element.innerHTML = '';\n",
              "          dataTable['output_type'] = 'display_data';\n",
              "          await google.colab.output.renderOutput(dataTable, element);\n",
              "          const docLink = document.createElement('div');\n",
              "          docLink.innerHTML = docLinkHtml;\n",
              "          element.appendChild(docLink);\n",
              "        }\n",
              "      </script>\n",
              "    </div>\n",
              "  </div>\n",
              "  "
            ]
          },
          "metadata": {},
          "execution_count": 2
        }
      ]
    },
    {
      "cell_type": "markdown",
      "source": [
        "Extracting data for both years."
      ],
      "metadata": {
        "id": "TuGZU7CzFjnO"
      }
    },
    {
      "cell_type": "code",
      "source": [
        "year_1_data = df[ df[\"Year\"] == 2020 ]\n",
        "year_1_data = year_1_data.reset_index(drop=True)\n",
        "\n",
        "year_2_data = df[ df[\"Year\"] == 2021 ]\n",
        "year_2_data = year_2_data.reset_index(drop=True)"
      ],
      "metadata": {
        "id": "irAut433FaQb"
      },
      "execution_count": 3,
      "outputs": []
    },
    {
      "cell_type": "markdown",
      "source": [
        "Getting training data."
      ],
      "metadata": {
        "id": "zq8cw9PtFnLl"
      }
    },
    {
      "cell_type": "code",
      "source": [
        "X_train,y_train = year_1_data[[ \"Year\",\t\"Week_Number\",\t\"mean_return\", \"volatility\" ]] , year_1_data[[\"Label\"]]"
      ],
      "metadata": {
        "id": "btfMy_k_FmWb"
      },
      "execution_count": 4,
      "outputs": []
    },
    {
      "cell_type": "markdown",
      "source": [
        "Getting test data."
      ],
      "metadata": {
        "id": "rvqGwWZmFpDT"
      }
    },
    {
      "cell_type": "code",
      "source": [
        "X_test,y_test = year_2_data[[ \"Year\",\t\"Week_Number\",\t\"mean_return\", \"volatility\" ]] , year_2_data[[\"Label\"]]"
      ],
      "metadata": {
        "id": "XfO00cdqFmo4"
      },
      "execution_count": 5,
      "outputs": []
    },
    {
      "cell_type": "markdown",
      "source": [
        "Helper functions."
      ],
      "metadata": {
        "id": "PTrv9AMObTmO"
      }
    },
    {
      "cell_type": "code",
      "source": [
        "def compute_accuracy(y_true,y_pred,model_name):\n",
        "  \n",
        "  #computing accuracy\n",
        "  accuracy = accuracy_score(y_true,y_pred)\n",
        "\n",
        "  accuracy_message = \"The accuracy of the \" + str(model_name) +\" model is : \" + str(round(accuracy * 100, 2)) + \" %.\"\n",
        "\n",
        "  print(accuracy_message)"
      ],
      "metadata": {
        "id": "ALTvCCrtDUFK"
      },
      "execution_count": 6,
      "outputs": []
    },
    {
      "cell_type": "code",
      "source": [
        "def compute_conf_mat(y_true,y_pred):\n",
        "\n",
        "  #computing confusion matrix\n",
        "  conf_mat = confusion_matrix(y_true,y_pred)\n",
        "\n",
        "  #computing true positive rate and false negative rate\n",
        "  tn, fp, fn, tp = confusion_matrix(y_true,y_pred).ravel()\n",
        "  #calcultaing true positive rate\n",
        "  tpr = tp/(tp+fn)\n",
        "  #calcultaing true negative rate\n",
        "  tnr = tn/(fp+tn)\n",
        "\n",
        "  #displaying confusion matrix\n",
        "  ConfusionMatrixDisplay.from_predictions(y_true,y_pred)\n",
        "\n",
        "  return tpr,tnr"
      ],
      "metadata": {
        "id": "o-8qvNGqDhcb"
      },
      "execution_count": 7,
      "outputs": []
    },
    {
      "cell_type": "code",
      "source": [
        "def print_tpr_tnr(tpr,tnr,model_name):\n",
        "\n",
        "  #printing true positive rate and true negative rate\n",
        "  tpr_message = \"The true positive rate for the \" +  str( model_name ) + \" model  is : \" + str(round(tpr*100,2)) +\" %.\"\n",
        "  tnr_message = \"The true negative rate for the \" +  str( model_name ) + \" model  is : \" + str(round(tnr*100,2)) +\" %.\"\n",
        "\n",
        "  print(tpr_message)\n",
        "  print(\"\\n\")\n",
        "  print(tnr_message)"
      ],
      "metadata": {
        "id": "Psk0rRqqDnVs"
      },
      "execution_count": 8,
      "outputs": []
    },
    {
      "cell_type": "markdown",
      "source": [
        "### Q1."
      ],
      "metadata": {
        "id": "Q9g-NlGJbFJP"
      }
    },
    {
      "cell_type": "code",
      "source": [
        "model = GaussianNB()\n",
        "model.fit(X_train[[\"mean_return\", \"volatility\"]],y_train.values.ravel())\n",
        "y_pred = model.predict( X_test[[\"mean_return\", \"volatility\"]] )\n",
        "\n",
        "compute_accuracy(y_test,y_pred,\"Gaussian Naive Bayes\")"
      ],
      "metadata": {
        "colab": {
          "base_uri": "https://localhost:8080/"
        },
        "id": "npPodQDWGjsL",
        "outputId": "9b42de6c-2117-4d2a-9471-5da071f31e3f"
      },
      "execution_count": 9,
      "outputs": [
        {
          "output_type": "stream",
          "name": "stdout",
          "text": [
            "The accuracy of the Gaussian Naive Bayes model is : 61.54 %.\n"
          ]
        }
      ]
    },
    {
      "cell_type": "markdown",
      "source": [
        "### Q2."
      ],
      "metadata": {
        "id": "Ups9zeMpbKMS"
      }
    },
    {
      "cell_type": "code",
      "source": [
        "tpr,tnr= compute_conf_mat(y_test,y_pred)"
      ],
      "metadata": {
        "colab": {
          "base_uri": "https://localhost:8080/",
          "height": 283
        },
        "id": "JqEpAICJHLim",
        "outputId": "a185ec9d-aa68-492f-f84b-d63295157680"
      },
      "execution_count": 10,
      "outputs": [
        {
          "output_type": "display_data",
          "data": {
            "text/plain": [
              "<Figure size 432x288 with 2 Axes>"
            ],
            "image/png": "[encoded data removed]"
          },
          "metadata": {
            "needs_background": "light"
          }
        }
      ]
    },
    {
      "cell_type": "markdown",
      "source": [
        "### Q3."
      ],
      "metadata": {
        "id": "krjZjhvTbL4q"
      }
    },
    {
      "cell_type": "code",
      "source": [
        "print_tpr_tnr(tpr,tnr,\"Gaussian Naive Bayes\")"
      ],
      "metadata": {
        "colab": {
          "base_uri": "https://localhost:8080/"
        },
        "id": "GSEaBceMHwbY",
        "outputId": "8c0dd41b-2e03-4e3c-d172-3fad44fdaa4a"
      },
      "execution_count": 11,
      "outputs": [
        {
          "output_type": "stream",
          "name": "stdout",
          "text": [
            "The true positive rate for the Gaussian Naive Bayes model  is : 40.0 %.\n",
            "\n",
            "\n",
            "The true negative rate for the Gaussian Naive Bayes model  is : 90.91 %.\n"
          ]
        }
      ]
    },
    {
      "cell_type": "markdown",
      "source": [
        "### Q4."
      ],
      "metadata": {
        "id": "GeekvRT0bNpq"
      }
    },
    {
      "cell_type": "markdown",
      "source": [
        "Trading Strategies"
      ],
      "metadata": {
        "id": "6aCidkcCQS_h"
      }
    },
    {
      "cell_type": "code",
      "source": [
        "#function to carry out inertia trading strategy\n",
        "def buy_and_hold(df,principal,end):\n",
        "\n",
        "    #quantity of shares bought at opening price\n",
        "    shares_bought = 0\n",
        "\n",
        "    #amount gained by selling stock at closing price\n",
        "    amount_gained = 0\n",
        "\n",
        "    #value achieved from selling stocks at closing price at the end of given period.\n",
        "    capital = 0 \n",
        "\n",
        "    #buying stocks at start opening price at the start of the year.\n",
        "    shares_bought = principal/df[\"Open\"][0]\n",
        "\n",
        "    #selling stock at its closing price\n",
        "    capital = shares_bought * df[\"Close\"][end]\n",
        "\n",
        "    return capital"
      ],
      "metadata": {
        "id": "AF0bcBSJQVAA"
      },
      "execution_count": 12,
      "outputs": []
    },
    {
      "cell_type": "code",
      "source": [
        "#function to carry out buy with label weekly trading strategy\n",
        "def buy_with_labels(df,end):\n",
        "\n",
        "  #cash amount initially used to invest in stock market\n",
        "  initial_cash = 100\n",
        "\n",
        "  #quantity of shares bought at opening price\n",
        "  shares_bought = 0\n",
        "\n",
        "  #amount gained by selling stock at adjusted closing price\n",
        "  amount_gained = 0\n",
        "\n",
        "  #value achieved from selling stocks at closing price at the end of given period.\n",
        "  capital = 0 \n",
        "\n",
        "  #boolean variable to determine if . \n",
        "  invested = False\n",
        "\n",
        "  #iterating through dataframe\n",
        "  for index,row in df.iterrows():\n",
        " \n",
        "   #Finding first green week or green week after a red week ,and we dont have a position in market yet.\n",
        "    if df[\"Label\"][index] == \"green\" and invested ==False :\n",
        "      \n",
        "      #buying shares equal to the amount of cash we hold currently \n",
        "      shares_bought = initial_cash / df[\"Open\"][index]\n",
        "      \n",
        "      #as we have bought shares equal in evaluation to our cash initial cash = 0\n",
        "      initial_cash = 0\n",
        "\n",
        "      #we have a position in the market\n",
        "      invested = True\n",
        "\n",
        "    #Finding red week where we dont have a position\n",
        "    elif df[\"Label\"][index] == \"red\" and invested ==False :\n",
        "      \n",
        "      #we do nothing\n",
        "      continue\n",
        "\n",
        "    #conditions if we have put money in the market\n",
        "\n",
        "    #check to see we are not at the last day of trading.\n",
        "    if index!= end:\n",
        "\n",
        "      #if next week is red and current week is green\n",
        "      if invested == True and df[\"Label\"][index] == \"green\" and df[\"Label\"][index+1] == \"red\":\n",
        "\n",
        "        #selling stock at adjusted closing price at the end of the week\n",
        "        initial_cash += df[\"Adj Close\"][index] * shares_bought\n",
        "        \n",
        "        #all shares are sold\n",
        "        shares_bought = 0\n",
        "        \n",
        "        #we are no longer invested in the market.\n",
        "        invested = False\n",
        "\n",
        "      #if current week is green and (next week/next day) is green \n",
        "      elif invested == True and df[\"Label\"][index] == \"green\" and df[\"Label\"][index+1] == \"green\":\n",
        "\n",
        "        #do nothing\n",
        "        continue\n",
        "\n",
        "    #if we end our trading period while being invested in the market\n",
        "    if index == end and invested == True:\n",
        "        \n",
        "        #selling stock at adjusted closing price at the end of the week\n",
        "        initial_cash += df[\"Adj Close\"][index] * shares_bought\n",
        "        \n",
        "        #all shares are sold\n",
        "        shares_bought = 0\n",
        "\n",
        "        #we are no longer invested in the market.\n",
        "        invested = False\n",
        "  \n",
        "  #returning the updated cash\n",
        "  return initial_cash"
      ],
      "metadata": {
        "id": "jqTG81xlQgjY"
      },
      "execution_count": 13,
      "outputs": []
    },
    {
      "cell_type": "markdown",
      "source": [
        "Getting daily data."
      ],
      "metadata": {
        "id": "W64euVJxR740"
      }
    },
    {
      "cell_type": "markdown",
      "source": [
        "function to combine weekly predictions to daily data, to use for trading."
      ],
      "metadata": {
        "id": "uNQRsNbmXwxr"
      }
    },
    {
      "cell_type": "code",
      "source": [
        "def label_daily_data(daily_data,weekly_data,weekly_labels):\n",
        "  \n",
        "  #weekly_data holds weekly data for year 2, weekly_labels holds predictions from Gaussian Naive Bayes model.\n",
        "  weekly_data = pd.concat([weekly_data,pd.DataFrame(weekly_labels)],axis=1)\n",
        "  \n",
        "  #renaming columns so that Label column can be changed from default(0) to Label.\n",
        "  weekly_data.columns = [\"Year\", \"Week_Number\",\t\"mean_return\",\t\"volatility\",\t\"Label\"]\n",
        "\n",
        "  daily_data = pd.merge(daily_data,weekly_data[[\"Week_Number\",\"Label\"]],on=\"Week_Number\")\n",
        "\n",
        "  return daily_data\n"
      ],
      "metadata": {
        "id": "M4jvqD4DWAuL"
      },
      "execution_count": 14,
      "outputs": []
    },
    {
      "cell_type": "code",
      "source": [
        "df_daily = pd.read_csv(\"/content/drive/MyDrive/Data Science Eugene Pinsky/Homework_10/Naive bayesian /NVDA.csv\")\n",
        "\n",
        "year_2_data_daily = df_daily[ df_daily[\"Year\"] == 2021 ]\n",
        "\n",
        "year_2_data_daily = year_2_data_daily.reset_index(drop=True)\n",
        "\n",
        "year_2_data_daily.head()"
      ],
      "metadata": {
        "colab": {
          "base_uri": "https://localhost:8080/",
          "height": 204
        },
        "id": "qJtQ0qASRcpF",
        "outputId": "20104c7a-f1fc-43a3-f4ba-e6fb2822b535"
      },
      "execution_count": 15,
      "outputs": [
        {
          "output_type": "execute_result",
          "data": {
            "text/plain": [
              "                        Date  Year  Month  Day    Weekday  Week_Number  \\\n",
              "0  2021-01-04 00:00:00-05:00  2021      1    4     Monday            1   \n",
              "1  2021-01-05 00:00:00-05:00  2021      1    5    Tuesday            1   \n",
              "2  2021-01-06 00:00:00-05:00  2021      1    6  Wednesday            1   \n",
              "3  2021-01-07 00:00:00-05:00  2021      1    7   Thursday            1   \n",
              "4  2021-01-08 00:00:00-05:00  2021      1    8     Friday            1   \n",
              "\n",
              "  Year_Week    Open    High     Low   Close    Volume  Adj Close    Return  \\\n",
              "0   2021-01  131.04  136.52  129.62  131.13  56064000     130.93  0.004481   \n",
              "1   2021-01  131.00  134.43  130.87  134.05  32276000     133.84  0.022210   \n",
              "2   2021-01  132.23  132.45  125.86  126.14  58042400     125.95 -0.058953   \n",
              "3   2021-01  129.68  133.78  128.87  133.44  46148000     133.23  0.057830   \n",
              "4   2021-01  133.62  134.21  130.42  132.77  29252800     132.56 -0.005040   \n",
              "\n",
              "     Short_MA   Long_MA  \n",
              "0  131.436429  132.4336  \n",
              "1  131.505000  132.4432  \n",
              "2  130.972857  132.2492  \n",
              "3  131.045000  132.2904  \n",
              "4  130.998571  132.2672  "
            ],
            "text/html": [
              "\n",
              "  <div id=\"df-2e8b1d14-abb5-4a22-bfc0-7b5b3a9e5a9b\">\n",
              "    <div class=\"colab-df-container\">\n",
              "      <div>\n",
              "<style scoped>\n",
              "    .dataframe tbody tr th:only-of-type {\n",
              "        vertical-align: middle;\n",
              "    }\n",
              "\n",
              "    .dataframe tbody tr th {\n",
              "        vertical-align: top;\n",
              "    }\n",
              "\n",
              "    .dataframe thead th {\n",
              "        text-align: right;\n",
              "    }\n",
              "</style>\n",
              "<table border=\"1\" class=\"dataframe\">\n",
              "  <thead>\n",
              "    <tr style=\"text-align: right;\">\n",
              "      <th></th>\n",
              "      <th>Date</th>\n",
              "      <th>Year</th>\n",
              "      <th>Month</th>\n",
              "      <th>Day</th>\n",
              "      <th>Weekday</th>\n",
              "      <th>Week_Number</th>\n",
              "      <th>Year_Week</th>\n",
              "      <th>Open</th>\n",
              "      <th>High</th>\n",
              "      <th>Low</th>\n",
              "      <th>Close</th>\n",
              "      <th>Volume</th>\n",
              "      <th>Adj Close</th>\n",
              "      <th>Return</th>\n",
              "      <th>Short_MA</th>\n",
              "      <th>Long_MA</th>\n",
              "    </tr>\n",
              "  </thead>\n",
              "  <tbody>\n",
              "    <tr>\n",
              "      <th>0</th>\n",
              "      <td>2021-01-04 00:00:00-05:00</td>\n",
              "      <td>2021</td>\n",
              "      <td>1</td>\n",
              "      <td>4</td>\n",
              "      <td>Monday</td>\n",
              "      <td>1</td>\n",
              "      <td>2021-01</td>\n",
              "      <td>131.04</td>\n",
              "      <td>136.52</td>\n",
              "      <td>129.62</td>\n",
              "      <td>131.13</td>\n",
              "      <td>56064000</td>\n",
              "      <td>130.93</td>\n",
              "      <td>0.004481</td>\n",
              "      <td>131.436429</td>\n",
              "      <td>132.4336</td>\n",
              "    </tr>\n",
              "    <tr>\n",
              "      <th>1</th>\n",
              "      <td>2021-01-05 00:00:00-05:00</td>\n",
              "      <td>2021</td>\n",
              "      <td>1</td>\n",
              "      <td>5</td>\n",
              "      <td>Tuesday</td>\n",
              "      <td>1</td>\n",
              "      <td>2021-01</td>\n",
              "      <td>131.00</td>\n",
              "      <td>134.43</td>\n",
              "      <td>130.87</td>\n",
              "      <td>134.05</td>\n",
              "      <td>32276000</td>\n",
              "      <td>133.84</td>\n",
              "      <td>0.022210</td>\n",
              "      <td>131.505000</td>\n",
              "      <td>132.4432</td>\n",
              "    </tr>\n",
              "    <tr>\n",
              "      <th>2</th>\n",
              "      <td>2021-01-06 00:00:00-05:00</td>\n",
              "      <td>2021</td>\n",
              "      <td>1</td>\n",
              "      <td>6</td>\n",
              "      <td>Wednesday</td>\n",
              "      <td>1</td>\n",
              "      <td>2021-01</td>\n",
              "      <td>132.23</td>\n",
              "      <td>132.45</td>\n",
              "      <td>125.86</td>\n",
              "      <td>126.14</td>\n",
              "      <td>58042400</td>\n",
              "      <td>125.95</td>\n",
              "      <td>-0.058953</td>\n",
              "      <td>130.972857</td>\n",
              "      <td>132.2492</td>\n",
              "    </tr>\n",
              "    <tr>\n",
              "      <th>3</th>\n",
              "      <td>2021-01-07 00:00:00-05:00</td>\n",
              "      <td>2021</td>\n",
              "      <td>1</td>\n",
              "      <td>7</td>\n",
              "      <td>Thursday</td>\n",
              "      <td>1</td>\n",
              "      <td>2021-01</td>\n",
              "      <td>129.68</td>\n",
              "      <td>133.78</td>\n",
              "      <td>128.87</td>\n",
              "      <td>133.44</td>\n",
              "      <td>46148000</td>\n",
              "      <td>133.23</td>\n",
              "      <td>0.057830</td>\n",
              "      <td>131.045000</td>\n",
              "      <td>132.2904</td>\n",
              "    </tr>\n",
              "    <tr>\n",
              "      <th>4</th>\n",
              "      <td>2021-01-08 00:00:00-05:00</td>\n",
              "      <td>2021</td>\n",
              "      <td>1</td>\n",
              "      <td>8</td>\n",
              "      <td>Friday</td>\n",
              "      <td>1</td>\n",
              "      <td>2021-01</td>\n",
              "      <td>133.62</td>\n",
              "      <td>134.21</td>\n",
              "      <td>130.42</td>\n",
              "      <td>132.77</td>\n",
              "      <td>29252800</td>\n",
              "      <td>132.56</td>\n",
              "      <td>-0.005040</td>\n",
              "      <td>130.998571</td>\n",
              "      <td>132.2672</td>\n",
              "    </tr>\n",
              "  </tbody>\n",
              "</table>\n",
              "</div>\n",
              "      <button class=\"colab-df-convert\" onclick=\"convertToInteractive('df-2e8b1d14-abb5-4a22-bfc0-7b5b3a9e5a9b')\"\n",
              "              title=\"Convert this dataframe to an interactive table.\"\n",
              "              style=\"display:none;\">\n",
              "        \n",
              "  <svg xmlns=\"http://www.w3.org/2000/svg\" height=\"24px\"viewBox=\"0 0 24 24\"\n",
              "       width=\"24px\">\n",
              "    <path d=\"M0 0h24v24H0V0z\" fill=\"none\"/>\n",
              "    <path d=\"M18.56 5.44l.94 2.06.94-2.06 2.06-.94-2.06-.94-.94-2.06-.94 2.06-2.06.94zm-11 1L8.5 8.5l.94-2.06 2.06-.94-2.06-.94L8.5 2.5l-.94 2.06-2.06.94zm10 10l.94 2.06.94-2.06 2.06-.94-2.06-.94-.94-2.06-.94 2.06-2.06.94z\"/><path d=\"M17.41 7.96l-1.37-1.37c-.4-.4-.92-.59-1.43-.59-.52 0-1.04.2-1.43.59L10.3 9.45l-7.72 7.72c-.78.78-.78 2.05 0 2.83L4 21.41c.39.39.9.59 1.41.59.51 0 1.02-.2 1.41-.59l7.78-7.78 2.81-2.81c.8-.78.8-2.07 0-2.86zM5.41 20L4 18.59l7.72-7.72 1.47 1.35L5.41 20z\"/>\n",
              "  </svg>\n",
              "      </button>\n",
              "      \n",
              "  <style>\n",
              "    .colab-df-container {\n",
              "      display:flex;\n",
              "      flex-wrap:wrap;\n",
              "      gap: 12px;\n",
              "    }\n",
              "\n",
              "    .colab-df-convert {\n",
              "      background-color: #E8F0FE;\n",
              "      border: none;\n",
              "      border-radius: 50%;\n",
              "      cursor: pointer;\n",
              "      display: none;\n",
              "      fill: #1967D2;\n",
              "      height: 32px;\n",
              "      padding: 0 0 0 0;\n",
              "      width: 32px;\n",
              "    }\n",
              "\n",
              "    .colab-df-convert:hover {\n",
              "      background-color: #E2EBFA;\n",
              "      box-shadow: 0px 1px 2px rgba(60, 64, 67, 0.3), 0px 1px 3px 1px rgba(60, 64, 67, 0.15);\n",
              "      fill: #174EA6;\n",
              "    }\n",
              "\n",
              "    [theme=dark] .colab-df-convert {\n",
              "      background-color: #3B4455;\n",
              "      fill: #D2E3FC;\n",
              "    }\n",
              "\n",
              "    [theme=dark] .colab-df-convert:hover {\n",
              "      background-color: #434B5C;\n",
              "      box-shadow: 0px 1px 3px 1px rgba(0, 0, 0, 0.15);\n",
              "      filter: drop-shadow(0px 1px 2px rgba(0, 0, 0, 0.3));\n",
              "      fill: #FFFFFF;\n",
              "    }\n",
              "  </style>\n",
              "\n",
              "      <script>\n",
              "        const buttonEl =\n",
              "          document.querySelector('#df-2e8b1d14-abb5-4a22-bfc0-7b5b3a9e5a9b button.colab-df-convert');\n",
              "        buttonEl.style.display =\n",
              "          google.colab.kernel.accessAllowed ? 'block' : 'none';\n",
              "\n",
              "        async function convertToInteractive(key) {\n",
              "          const element = document.querySelector('#df-2e8b1d14-abb5-4a22-bfc0-7b5b3a9e5a9b');\n",
              "          const dataTable =\n",
              "            await google.colab.kernel.invokeFunction('convertToInteractive',\n",
              "                                                     [key], {});\n",
              "          if (!dataTable) return;\n",
              "\n",
              "          const docLinkHtml = 'Like what you see? Visit the ' +\n",
              "            '<a target=\"_blank\" href=https://colab.research.google.com/notebooks/data_table.ipynb>data table notebook</a>'\n",
              "            + ' to learn more about interactive tables.';\n",
              "          element.innerHTML = '';\n",
              "          dataTable['output_type'] = 'display_data';\n",
              "          await google.colab.output.renderOutput(dataTable, element);\n",
              "          const docLink = document.createElement('div');\n",
              "          docLink.innerHTML = docLinkHtml;\n",
              "          element.appendChild(docLink);\n",
              "        }\n",
              "      </script>\n",
              "    </div>\n",
              "  </div>\n",
              "  "
            ]
          },
          "metadata": {},
          "execution_count": 15
        }
      ]
    },
    {
      "cell_type": "markdown",
      "source": [
        "merging labelled weekly data with daily data."
      ],
      "metadata": {
        "id": "gJtxcNOPYMDC"
      }
    },
    {
      "cell_type": "code",
      "source": [
        "year_2_data_daily = label_daily_data(year_2_data_daily,X_test,y_pred)\n",
        "year_2_data_daily.head()"
      ],
      "metadata": {
        "colab": {
          "base_uri": "https://localhost:8080/",
          "height": 204
        },
        "id": "WwAQ3L6WTVno",
        "outputId": "af753f24-1eb7-4c67-87dc-723cacdd7c14"
      },
      "execution_count": 16,
      "outputs": [
        {
          "output_type": "execute_result",
          "data": {
            "text/plain": [
              "                        Date  Year  Month  Day    Weekday  Week_Number  \\\n",
              "0  2021-01-04 00:00:00-05:00  2021      1    4     Monday            1   \n",
              "1  2021-01-05 00:00:00-05:00  2021      1    5    Tuesday            1   \n",
              "2  2021-01-06 00:00:00-05:00  2021      1    6  Wednesday            1   \n",
              "3  2021-01-07 00:00:00-05:00  2021      1    7   Thursday            1   \n",
              "4  2021-01-08 00:00:00-05:00  2021      1    8     Friday            1   \n",
              "\n",
              "  Year_Week    Open    High     Low   Close    Volume  Adj Close    Return  \\\n",
              "0   2021-01  131.04  136.52  129.62  131.13  56064000     130.93  0.004481   \n",
              "1   2021-01  131.00  134.43  130.87  134.05  32276000     133.84  0.022210   \n",
              "2   2021-01  132.23  132.45  125.86  126.14  58042400     125.95 -0.058953   \n",
              "3   2021-01  129.68  133.78  128.87  133.44  46148000     133.23  0.057830   \n",
              "4   2021-01  133.62  134.21  130.42  132.77  29252800     132.56 -0.005040   \n",
              "\n",
              "     Short_MA   Long_MA  Label  \n",
              "0  131.436429  132.4336  green  \n",
              "1  131.505000  132.4432  green  \n",
              "2  130.972857  132.2492  green  \n",
              "3  131.045000  132.2904  green  \n",
              "4  130.998571  132.2672  green  "
            ],
            "text/html": [
              "\n",
              "  <div id=\"df-707c19f1-bd05-455a-bdaa-e022747b830d\">\n",
              "    <div class=\"colab-df-container\">\n",
              "      <div>\n",
              "<style scoped>\n",
              "    .dataframe tbody tr th:only-of-type {\n",
              "        vertical-align: middle;\n",
              "    }\n",
              "\n",
              "    .dataframe tbody tr th {\n",
              "        vertical-align: top;\n",
              "    }\n",
              "\n",
              "    .dataframe thead th {\n",
              "        text-align: right;\n",
              "    }\n",
              "</style>\n",
              "<table border=\"1\" class=\"dataframe\">\n",
              "  <thead>\n",
              "    <tr style=\"text-align: right;\">\n",
              "      <th></th>\n",
              "      <th>Date</th>\n",
              "      <th>Year</th>\n",
              "      <th>Month</th>\n",
              "      <th>Day</th>\n",
              "      <th>Weekday</th>\n",
              "      <th>Week_Number</th>\n",
              "      <th>Year_Week</th>\n",
              "      <th>Open</th>\n",
              "      <th>High</th>\n",
              "      <th>Low</th>\n",
              "      <th>Close</th>\n",
              "      <th>Volume</th>\n",
              "      <th>Adj Close</th>\n",
              "      <th>Return</th>\n",
              "      <th>Short_MA</th>\n",
              "      <th>Long_MA</th>\n",
              "      <th>Label</th>\n",
              "    </tr>\n",
              "  </thead>\n",
              "  <tbody>\n",
              "    <tr>\n",
              "      <th>0</th>\n",
              "      <td>2021-01-04 00:00:00-05:00</td>\n",
              "      <td>2021</td>\n",
              "      <td>1</td>\n",
              "      <td>4</td>\n",
              "      <td>Monday</td>\n",
              "      <td>1</td>\n",
              "      <td>2021-01</td>\n",
              "      <td>131.04</td>\n",
              "      <td>136.52</td>\n",
              "      <td>129.62</td>\n",
              "      <td>131.13</td>\n",
              "      <td>56064000</td>\n",
              "      <td>130.93</td>\n",
              "      <td>0.004481</td>\n",
              "      <td>131.436429</td>\n",
              "      <td>132.4336</td>\n",
              "      <td>green</td>\n",
              "    </tr>\n",
              "    <tr>\n",
              "      <th>1</th>\n",
              "      <td>2021-01-05 00:00:00-05:00</td>\n",
              "      <td>2021</td>\n",
              "      <td>1</td>\n",
              "      <td>5</td>\n",
              "      <td>Tuesday</td>\n",
              "      <td>1</td>\n",
              "      <td>2021-01</td>\n",
              "      <td>131.00</td>\n",
              "      <td>134.43</td>\n",
              "      <td>130.87</td>\n",
              "      <td>134.05</td>\n",
              "      <td>32276000</td>\n",
              "      <td>133.84</td>\n",
              "      <td>0.022210</td>\n",
              "      <td>131.505000</td>\n",
              "      <td>132.4432</td>\n",
              "      <td>green</td>\n",
              "    </tr>\n",
              "    <tr>\n",
              "      <th>2</th>\n",
              "      <td>2021-01-06 00:00:00-05:00</td>\n",
              "      <td>2021</td>\n",
              "      <td>1</td>\n",
              "      <td>6</td>\n",
              "      <td>Wednesday</td>\n",
              "      <td>1</td>\n",
              "      <td>2021-01</td>\n",
              "      <td>132.23</td>\n",
              "      <td>132.45</td>\n",
              "      <td>125.86</td>\n",
              "      <td>126.14</td>\n",
              "      <td>58042400</td>\n",
              "      <td>125.95</td>\n",
              "      <td>-0.058953</td>\n",
              "      <td>130.972857</td>\n",
              "      <td>132.2492</td>\n",
              "      <td>green</td>\n",
              "    </tr>\n",
              "    <tr>\n",
              "      <th>3</th>\n",
              "      <td>2021-01-07 00:00:00-05:00</td>\n",
              "      <td>2021</td>\n",
              "      <td>1</td>\n",
              "      <td>7</td>\n",
              "      <td>Thursday</td>\n",
              "      <td>1</td>\n",
              "      <td>2021-01</td>\n",
              "      <td>129.68</td>\n",
              "      <td>133.78</td>\n",
              "      <td>128.87</td>\n",
              "      <td>133.44</td>\n",
              "      <td>46148000</td>\n",
              "      <td>133.23</td>\n",
              "      <td>0.057830</td>\n",
              "      <td>131.045000</td>\n",
              "      <td>132.2904</td>\n",
              "      <td>green</td>\n",
              "    </tr>\n",
              "    <tr>\n",
              "      <th>4</th>\n",
              "      <td>2021-01-08 00:00:00-05:00</td>\n",
              "      <td>2021</td>\n",
              "      <td>1</td>\n",
              "      <td>8</td>\n",
              "      <td>Friday</td>\n",
              "      <td>1</td>\n",
              "      <td>2021-01</td>\n",
              "      <td>133.62</td>\n",
              "      <td>134.21</td>\n",
              "      <td>130.42</td>\n",
              "      <td>132.77</td>\n",
              "      <td>29252800</td>\n",
              "      <td>132.56</td>\n",
              "      <td>-0.005040</td>\n",
              "      <td>130.998571</td>\n",
              "      <td>132.2672</td>\n",
              "      <td>green</td>\n",
              "    </tr>\n",
              "  </tbody>\n",
              "</table>\n",
              "</div>\n",
              "      <button class=\"colab-df-convert\" onclick=\"convertToInteractive('df-707c19f1-bd05-455a-bdaa-e022747b830d')\"\n",
              "              title=\"Convert this dataframe to an interactive table.\"\n",
              "              style=\"display:none;\">\n",
              "        \n",
              "  <svg xmlns=\"http://www.w3.org/2000/svg\" height=\"24px\"viewBox=\"0 0 24 24\"\n",
              "       width=\"24px\">\n",
              "    <path d=\"M0 0h24v24H0V0z\" fill=\"none\"/>\n",
              "    <path d=\"M18.56 5.44l.94 2.06.94-2.06 2.06-.94-2.06-.94-.94-2.06-.94 2.06-2.06.94zm-11 1L8.5 8.5l.94-2.06 2.06-.94-2.06-.94L8.5 2.5l-.94 2.06-2.06.94zm10 10l.94 2.06.94-2.06 2.06-.94-2.06-.94-.94-2.06-.94 2.06-2.06.94z\"/><path d=\"M17.41 7.96l-1.37-1.37c-.4-.4-.92-.59-1.43-.59-.52 0-1.04.2-1.43.59L10.3 9.45l-7.72 7.72c-.78.78-.78 2.05 0 2.83L4 21.41c.39.39.9.59 1.41.59.51 0 1.02-.2 1.41-.59l7.78-7.78 2.81-2.81c.8-.78.8-2.07 0-2.86zM5.41 20L4 18.59l7.72-7.72 1.47 1.35L5.41 20z\"/>\n",
              "  </svg>\n",
              "      </button>\n",
              "      \n",
              "  <style>\n",
              "    .colab-df-container {\n",
              "      display:flex;\n",
              "      flex-wrap:wrap;\n",
              "      gap: 12px;\n",
              "    }\n",
              "\n",
              "    .colab-df-convert {\n",
              "      background-color: #E8F0FE;\n",
              "      border: none;\n",
              "      border-radius: 50%;\n",
              "      cursor: pointer;\n",
              "      display: none;\n",
              "      fill: #1967D2;\n",
              "      height: 32px;\n",
              "      padding: 0 0 0 0;\n",
              "      width: 32px;\n",
              "    }\n",
              "\n",
              "    .colab-df-convert:hover {\n",
              "      background-color: #E2EBFA;\n",
              "      box-shadow: 0px 1px 2px rgba(60, 64, 67, 0.3), 0px 1px 3px 1px rgba(60, 64, 67, 0.15);\n",
              "      fill: #174EA6;\n",
              "    }\n",
              "\n",
              "    [theme=dark] .colab-df-convert {\n",
              "      background-color: #3B4455;\n",
              "      fill: #D2E3FC;\n",
              "    }\n",
              "\n",
              "    [theme=dark] .colab-df-convert:hover {\n",
              "      background-color: #434B5C;\n",
              "      box-shadow: 0px 1px 3px 1px rgba(0, 0, 0, 0.15);\n",
              "      filter: drop-shadow(0px 1px 2px rgba(0, 0, 0, 0.3));\n",
              "      fill: #FFFFFF;\n",
              "    }\n",
              "  </style>\n",
              "\n",
              "      <script>\n",
              "        const buttonEl =\n",
              "          document.querySelector('#df-707c19f1-bd05-455a-bdaa-e022747b830d button.colab-df-convert');\n",
              "        buttonEl.style.display =\n",
              "          google.colab.kernel.accessAllowed ? 'block' : 'none';\n",
              "\n",
              "        async function convertToInteractive(key) {\n",
              "          const element = document.querySelector('#df-707c19f1-bd05-455a-bdaa-e022747b830d');\n",
              "          const dataTable =\n",
              "            await google.colab.kernel.invokeFunction('convertToInteractive',\n",
              "                                                     [key], {});\n",
              "          if (!dataTable) return;\n",
              "\n",
              "          const docLinkHtml = 'Like what you see? Visit the ' +\n",
              "            '<a target=\"_blank\" href=https://colab.research.google.com/notebooks/data_table.ipynb>data table notebook</a>'\n",
              "            + ' to learn more about interactive tables.';\n",
              "          element.innerHTML = '';\n",
              "          dataTable['output_type'] = 'display_data';\n",
              "          await google.colab.output.renderOutput(dataTable, element);\n",
              "          const docLink = document.createElement('div');\n",
              "          docLink.innerHTML = docLinkHtml;\n",
              "          element.appendChild(docLink);\n",
              "        }\n",
              "      </script>\n",
              "    </div>\n",
              "  </div>\n",
              "  "
            ]
          },
          "metadata": {},
          "execution_count": 16
        }
      ]
    },
    {
      "cell_type": "markdown",
      "source": [
        "Trading using buy and hold and buy with labels."
      ],
      "metadata": {
        "id": "x2Sm5fbAZPkm"
      }
    },
    {
      "cell_type": "code",
      "source": [
        "capital = buy_and_hold(year_2_data_daily,100,len(year_2_data_daily)-1)\n",
        "print(\"The capital from investing 100 dollars in buy and hold is as follows: \" + str(round(capital,2)))"
      ],
      "metadata": {
        "colab": {
          "base_uri": "https://localhost:8080/"
        },
        "id": "2tyt29lvY8xk",
        "outputId": "9fbb78f3-c338-4d2a-f74f-d7bdb2b00cc0"
      },
      "execution_count": 17,
      "outputs": [
        {
          "output_type": "stream",
          "name": "stdout",
          "text": [
            "The capital from investing 100 dollars in buy and hold is as follows: 225.78\n"
          ]
        }
      ]
    },
    {
      "cell_type": "code",
      "source": [
        "#return on investment\n",
        "roi = buy_with_labels(year_2_data_daily,len(year_2_data_daily)-1)\n",
        "print(\"The cash with us after investing using buy with labels strategy is: \"+str(round(roi,2)))"
      ],
      "metadata": {
        "colab": {
          "base_uri": "https://localhost:8080/"
        },
        "id": "meO1LsSLZZBO",
        "outputId": "e50575a1-ef4b-48a4-b4ed-62ca074d8e28"
      },
      "execution_count": 18,
      "outputs": [
        {
          "output_type": "stream",
          "name": "stdout",
          "text": [
            "The cash with us after investing using buy with labels strategy is: 391.9\n"
          ]
        }
      ]
    }
  ]
}