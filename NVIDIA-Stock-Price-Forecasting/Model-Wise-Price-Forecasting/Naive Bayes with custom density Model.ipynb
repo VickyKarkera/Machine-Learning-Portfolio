{
  "nbformat": 4,
  "nbformat_minor": 0,
  "metadata": {
    "colab": {
      "provenance": []
    },
    "kernelspec": {
      "name": "python3",
      "display_name": "Python 3"
    },
    "language_info": {
      "name": "python"
    }
  },
  "cells": [
    {
      "cell_type": "code",
      "execution_count": 26,
      "metadata": {
        "id": "MhdF5U0Z6Awh"
      },
      "outputs": [],
      "source": [
        "import pandas as pd\n",
        "import numpy as np\n",
        "from scipy import stats\n",
        "from sklearn.metrics import accuracy_score, confusion_matrix, ConfusionMatrixDisplay"
      ]
    },
    {
      "cell_type": "code",
      "source": [
        "df = pd.read_csv(\"/content/drive/MyDrive/Data Science Eugene Pinsky/Homework_10/Naive bayesian custom density/NVDA_mean_volatility_labels.csv\")"
      ],
      "metadata": {
        "id": "ZlLJX0Od6zC6"
      },
      "execution_count": 27,
      "outputs": []
    },
    {
      "cell_type": "code",
      "source": [
        "df.head()"
      ],
      "metadata": {
        "colab": {
          "base_uri": "https://localhost:8080/",
          "height": 204
        },
        "id": "slyY_W1w8J6q",
        "outputId": "8c1ddb7e-30a1-49f3-d745-893170fc607a"
      },
      "execution_count": 28,
      "outputs": [
        {
          "output_type": "execute_result",
          "data": {
            "text/plain": [
              "   Year  Week_Number  mean_return  volatility      Label\n",
              "0  2017            1      0.28275    2.110070  undefined\n",
              "1  2017            2      0.08460    2.299927  undefined\n",
              "2  2017            3      0.15750    2.164153  undefined\n",
              "3  2017            4      1.45160    0.704763  undefined\n",
              "4  2017            5      0.48560    2.413944  undefined"
            ],
            "text/html": [
              "\n",
              "  <div id=\"df-eb81cbdd-6a69-4e36-b32a-c891139e4107\">\n",
              "    <div class=\"colab-df-container\">\n",
              "      <div>\n",
              "<style scoped>\n",
              "    .dataframe tbody tr th:only-of-type {\n",
              "        vertical-align: middle;\n",
              "    }\n",
              "\n",
              "    .dataframe tbody tr th {\n",
              "        vertical-align: top;\n",
              "    }\n",
              "\n",
              "    .dataframe thead th {\n",
              "        text-align: right;\n",
              "    }\n",
              "</style>\n",
              "<table border=\"1\" class=\"dataframe\">\n",
              "  <thead>\n",
              "    <tr style=\"text-align: right;\">\n",
              "      <th></th>\n",
              "      <th>Year</th>\n",
              "      <th>Week_Number</th>\n",
              "      <th>mean_return</th>\n",
              "      <th>volatility</th>\n",
              "      <th>Label</th>\n",
              "    </tr>\n",
              "  </thead>\n",
              "  <tbody>\n",
              "    <tr>\n",
              "      <th>0</th>\n",
              "      <td>2017</td>\n",
              "      <td>1</td>\n",
              "      <td>0.28275</td>\n",
              "      <td>2.110070</td>\n",
              "      <td>undefined</td>\n",
              "    </tr>\n",
              "    <tr>\n",
              "      <th>1</th>\n",
              "      <td>2017</td>\n",
              "      <td>2</td>\n",
              "      <td>0.08460</td>\n",
              "      <td>2.299927</td>\n",
              "      <td>undefined</td>\n",
              "    </tr>\n",
              "    <tr>\n",
              "      <th>2</th>\n",
              "      <td>2017</td>\n",
              "      <td>3</td>\n",
              "      <td>0.15750</td>\n",
              "      <td>2.164153</td>\n",
              "      <td>undefined</td>\n",
              "    </tr>\n",
              "    <tr>\n",
              "      <th>3</th>\n",
              "      <td>2017</td>\n",
              "      <td>4</td>\n",
              "      <td>1.45160</td>\n",
              "      <td>0.704763</td>\n",
              "      <td>undefined</td>\n",
              "    </tr>\n",
              "    <tr>\n",
              "      <th>4</th>\n",
              "      <td>2017</td>\n",
              "      <td>5</td>\n",
              "      <td>0.48560</td>\n",
              "      <td>2.413944</td>\n",
              "      <td>undefined</td>\n",
              "    </tr>\n",
              "  </tbody>\n",
              "</table>\n",
              "</div>\n",
              "      <button class=\"colab-df-convert\" onclick=\"convertToInteractive('df-eb81cbdd-6a69-4e36-b32a-c891139e4107')\"\n",
              "              title=\"Convert this dataframe to an interactive table.\"\n",
              "              style=\"display:none;\">\n",
              "        \n",
              "  <svg xmlns=\"http://www.w3.org/2000/svg\" height=\"24px\"viewBox=\"0 0 24 24\"\n",
              "       width=\"24px\">\n",
              "    <path d=\"M0 0h24v24H0V0z\" fill=\"none\"/>\n",
              "    <path d=\"M18.56 5.44l.94 2.06.94-2.06 2.06-.94-2.06-.94-.94-2.06-.94 2.06-2.06.94zm-11 1L8.5 8.5l.94-2.06 2.06-.94-2.06-.94L8.5 2.5l-.94 2.06-2.06.94zm10 10l.94 2.06.94-2.06 2.06-.94-2.06-.94-.94-2.06-.94 2.06-2.06.94z\"/><path d=\"M17.41 7.96l-1.37-1.37c-.4-.4-.92-.59-1.43-.59-.52 0-1.04.2-1.43.59L10.3 9.45l-7.72 7.72c-.78.78-.78 2.05 0 2.83L4 21.41c.39.39.9.59 1.41.59.51 0 1.02-.2 1.41-.59l7.78-7.78 2.81-2.81c.8-.78.8-2.07 0-2.86zM5.41 20L4 18.59l7.72-7.72 1.47 1.35L5.41 20z\"/>\n",
              "  </svg>\n",
              "      </button>\n",
              "      \n",
              "  <style>\n",
              "    .colab-df-container {\n",
              "      display:flex;\n",
              "      flex-wrap:wrap;\n",
              "      gap: 12px;\n",
              "    }\n",
              "\n",
              "    .colab-df-convert {\n",
              "      background-color: #E8F0FE;\n",
              "      border: none;\n",
              "      border-radius: 50%;\n",
              "      cursor: pointer;\n",
              "      display: none;\n",
              "      fill: #1967D2;\n",
              "      height: 32px;\n",
              "      padding: 0 0 0 0;\n",
              "      width: 32px;\n",
              "    }\n",
              "\n",
              "    .colab-df-convert:hover {\n",
              "      background-color: #E2EBFA;\n",
              "      box-shadow: 0px 1px 2px rgba(60, 64, 67, 0.3), 0px 1px 3px 1px rgba(60, 64, 67, 0.15);\n",
              "      fill: #174EA6;\n",
              "    }\n",
              "\n",
              "    [theme=dark] .colab-df-convert {\n",
              "      background-color: #3B4455;\n",
              "      fill: #D2E3FC;\n",
              "    }\n",
              "\n",
              "    [theme=dark] .colab-df-convert:hover {\n",
              "      background-color: #434B5C;\n",
              "      box-shadow: 0px 1px 3px 1px rgba(0, 0, 0, 0.15);\n",
              "      filter: drop-shadow(0px 1px 2px rgba(0, 0, 0, 0.3));\n",
              "      fill: #FFFFFF;\n",
              "    }\n",
              "  </style>\n",
              "\n",
              "      <script>\n",
              "        const buttonEl =\n",
              "          document.querySelector('#df-eb81cbdd-6a69-4e36-b32a-c891139e4107 button.colab-df-convert');\n",
              "        buttonEl.style.display =\n",
              "          google.colab.kernel.accessAllowed ? 'block' : 'none';\n",
              "\n",
              "        async function convertToInteractive(key) {\n",
              "          const element = document.querySelector('#df-eb81cbdd-6a69-4e36-b32a-c891139e4107');\n",
              "          const dataTable =\n",
              "            await google.colab.kernel.invokeFunction('convertToInteractive',\n",
              "                                                     [key], {});\n",
              "          if (!dataTable) return;\n",
              "\n",
              "          const docLinkHtml = 'Like what you see? Visit the ' +\n",
              "            '<a target=\"_blank\" href=https://colab.research.google.com/notebooks/data_table.ipynb>data table notebook</a>'\n",
              "            + ' to learn more about interactive tables.';\n",
              "          element.innerHTML = '';\n",
              "          dataTable['output_type'] = 'display_data';\n",
              "          await google.colab.output.renderOutput(dataTable, element);\n",
              "          const docLink = document.createElement('div');\n",
              "          docLink.innerHTML = docLinkHtml;\n",
              "          element.appendChild(docLink);\n",
              "        }\n",
              "      </script>\n",
              "    </div>\n",
              "  </div>\n",
              "  "
            ]
          },
          "metadata": {},
          "execution_count": 28
        }
      ]
    },
    {
      "cell_type": "markdown",
      "source": [
        "Extracting data for both years."
      ],
      "metadata": {
        "id": "aRGQ3q-zBcCP"
      }
    },
    {
      "cell_type": "code",
      "source": [
        "year_1_data = df[ df[\"Year\"] == 2020 ]\n",
        "year_1_data = year_1_data.reset_index(drop=True)\n",
        "\n",
        "year_2_data = df[ df[\"Year\"] == 2021 ]\n",
        "year_2_data = year_2_data.reset_index(drop=True)"
      ],
      "metadata": {
        "id": "894lr5U18K6k"
      },
      "execution_count": 29,
      "outputs": []
    },
    {
      "cell_type": "markdown",
      "source": [
        "Training on year 1"
      ],
      "metadata": {
        "id": "exr6EheeIQJM"
      }
    },
    {
      "cell_type": "code",
      "source": [
        "#getting t features for green label class\n",
        "class_1 = year_1_data[ year_1_data[\"Label\"] == \"green\" ]\n",
        "#getting location and scale for mean_return and volatility for green label\n",
        "df_return_1, location_return_1, scale_return_1 = stats.t.fit( class_1[\"mean_return\"] )\n",
        "df_vol_1, location_vol_1, scale_vol_1 = stats.t.fit( class_1[\"volatility\"] )\n",
        "\n",
        "#getting t features for red label class\n",
        "class_2 = year_1_data[ year_1_data[\"Label\"] == \"red\" ]\n",
        "#getting location and scale for mean_return and volatility for red label\n",
        "df_return_2, location_return_2, scale_return_2 = stats.t.fit( class_2[\"mean_return\"] )\n",
        "df_vol_2, location_vol_2, scale_vol_2 = stats.t.fit( class_2[\"volatility\"] )"
      ],
      "metadata": {
        "id": "hxmSQRq_8ezu"
      },
      "execution_count": 30,
      "outputs": []
    },
    {
      "cell_type": "markdown",
      "source": [
        "Computing prior probabilites."
      ],
      "metadata": {
        "id": "N9xMStriFrzE"
      }
    },
    {
      "cell_type": "code",
      "source": [
        "#calculating prior probabilites for the classes in year 1\n",
        "total = year_1_data.shape[0]\n",
        "\n",
        "p_red = year_1_data[\"Label\"].value_counts()[\"red\"] / total\n",
        "p_green = year_1_data[\"Label\"].value_counts()[\"green\"] / total"
      ],
      "metadata": {
        "id": "vzY93k2tIpkf"
      },
      "execution_count": 31,
      "outputs": []
    },
    {
      "cell_type": "markdown",
      "source": [
        "function to experiment with different degrees of freedom."
      ],
      "metadata": {
        "id": "hRYcywYLEN4I"
      }
    },
    {
      "cell_type": "code",
      "source": [
        "def experiment_with_df(df,X_test_return,X_test_vol):\n",
        "\n",
        "  prob_return_green = stats.t.pdf(X_test_return,df,location_return_1, scale_return_1)\n",
        "  prob_vol_green = stats.t.pdf(X_test_vol,df,location_vol_1, scale_vol_1)\n",
        "\n",
        "  prob_return_red = stats.t.pdf(X_test_return,df,location_return_2, scale_return_2)\n",
        "  prob_vol_red = stats.t.pdf(X_test_vol,df,location_vol_2, scale_vol_2)\n",
        "\n",
        "  return prob_return_green, prob_vol_green, prob_return_red, prob_vol_red"
      ],
      "metadata": {
        "id": "6C9deJiCOKtn"
      },
      "execution_count": 32,
      "outputs": []
    },
    {
      "cell_type": "markdown",
      "source": [
        "function to label records based on the class they belong to, based on the probability computed using student t distribution used with naive bayes."
      ],
      "metadata": {
        "id": "CSeVtKQqEz5j"
      }
    },
    {
      "cell_type": "code",
      "source": [
        "def label_with_prob(pred_data):\n",
        "\n",
        "  #Creating empty column to put labels / reset labels to empty, if exists.\n",
        "  pred_data[\"Label\"] = \"\"\n",
        "\n",
        "  #labelling test set according to higher probability of occurence\n",
        "  for ind,row in pred_data.iterrows():\n",
        "\n",
        "    if pred_data[\"prob_red\"][ind] > pred_data[\"prob_green\"][ind]:\n",
        "      pred_data.loc[ind,\"Label\"] = \"red\"\n",
        "\n",
        "    elif pred_data[\"prob_red\"][ind] < pred_data[\"prob_green\"][ind]:\n",
        "      pred_data.loc[ind,\"Label\"] = \"green\"\n",
        "\n",
        "  return pred_data"
      ],
      "metadata": {
        "id": "IJ5pqPanEZwa"
      },
      "execution_count": 33,
      "outputs": []
    },
    {
      "cell_type": "markdown",
      "source": [
        "fucntion to compute accuracy and print accuracy for model with degrees of freedom equal to df."
      ],
      "metadata": {
        "id": "4TIvAFibbjsR"
      }
    },
    {
      "cell_type": "code",
      "source": [
        "def compute_accuracy(y_true,y_pred,df):\n",
        "  \n",
        "  #computing accuracy\n",
        "  accuracy = accuracy_score(y_true,y_pred)\n",
        "\n",
        "  accuracy_message = \"The accuracy with degrees of freedom \" + str(df) +\" is : \" + str(round(accuracy * 100, 2)) + \" %.\"\n",
        "\n",
        "  print(accuracy_message)"
      ],
      "metadata": {
        "id": "h8Erd8IiNVQV"
      },
      "execution_count": 34,
      "outputs": []
    },
    {
      "cell_type": "markdown",
      "source": [
        "function to compute confusion matrix, return false positive rate and true "
      ],
      "metadata": {
        "id": "nbpBp0VObtCN"
      }
    },
    {
      "cell_type": "code",
      "source": [
        "def compute_conf_mat(y_true,y_pred,df):\n",
        "\n",
        "  #computing confusion matrix\n",
        "  conf_mat = confusion_matrix(y_true,y_pred)\n",
        "\n",
        "  #computing true positive rate and false negative rate\n",
        "  tn, fp, fn, tp = confusion_matrix(y_true,y_pred).ravel()\n",
        "  #calcultaing true positive rate\n",
        "  tpr = tp/(tp+fn)\n",
        "  #calcultaing true negative rate\n",
        "  tnr = tn/(fp+tn)\n",
        "\n",
        "  #displaying confusion matrix\n",
        "  ConfusionMatrixDisplay.from_predictions(y_true,y_pred)\n",
        "\n",
        "  return tpr,tnr\n",
        "  "
      ],
      "metadata": {
        "id": "nO8vIlt_ZF2H"
      },
      "execution_count": 35,
      "outputs": []
    },
    {
      "cell_type": "markdown",
      "source": [
        "function to display true positive rate and true negative rate."
      ],
      "metadata": {
        "id": "7GZdZS-pa4l6"
      }
    },
    {
      "cell_type": "code",
      "source": [
        "def print_tpr_tnr(tpr,tnr):\n",
        "\n",
        "  #printing true positive rate and true negative rate\n",
        "  tpr_message = \"The true positive rate for model with degrees of freedom \" + str(df) +\" is : \" + str(round(tpr*100,2)) +\" %.\"\n",
        "  tnr_message = \"The true negative rate for model with degrees of freedom \" + str(df) +\" is : \" + str(round(tnr*100,2)) +\" %.\"\n",
        "\n",
        "  print(tpr_message)\n",
        "  print(\"\\n\")\n",
        "  print(tnr_message)\n"
      ],
      "metadata": {
        "id": "R22EWcM0fW5S"
      },
      "execution_count": 36,
      "outputs": []
    },
    {
      "cell_type": "markdown",
      "source": [
        "getting test data"
      ],
      "metadata": {
        "id": "ljQ43RVpn7rU"
      }
    },
    {
      "cell_type": "code",
      "source": [
        "X_test_return = year_2_data[\"mean_return\"]\n",
        "X_test_vol = year_2_data[\"volatility\"]"
      ],
      "metadata": {
        "id": "bpjdRQkin-hA"
      },
      "execution_count": 12,
      "outputs": []
    },
    {
      "cell_type": "markdown",
      "source": [
        "getting features for test set."
      ],
      "metadata": {
        "id": "AY9FG0JMCz8e"
      }
    },
    {
      "cell_type": "code",
      "source": [
        "year_2_pred = year_2_data[[\"Year\",\t\"Week_Number\",\t\"mean_return\",\t\"volatility\"]]\n",
        "year_2_pred.head()"
      ],
      "metadata": {
        "colab": {
          "base_uri": "https://localhost:8080/",
          "height": 204
        },
        "id": "kBJaECAttQJR",
        "outputId": "89f239fb-0fed-4369-da56-c1a6eba3a960"
      },
      "execution_count": 13,
      "outputs": [
        {
          "output_type": "execute_result",
          "data": {
            "text/plain": [
              "   Year  Week_Number  mean_return  volatility\n",
              "0  2021            1      0.41060    4.264350\n",
              "1  2021            2     -0.61780    2.158119\n",
              "2  2021            3      1.63475    2.093428\n",
              "3  2021            4     -1.06360    1.816845\n",
              "4  2021            5      0.91560    1.281591"
            ],
            "text/html": [
              "\n",
              "  <div id=\"df-13c12f0a-8ab4-4bcf-82da-346278ae58df\">\n",
              "    <div class=\"colab-df-container\">\n",
              "      <div>\n",
              "<style scoped>\n",
              "    .dataframe tbody tr th:only-of-type {\n",
              "        vertical-align: middle;\n",
              "    }\n",
              "\n",
              "    .dataframe tbody tr th {\n",
              "        vertical-align: top;\n",
              "    }\n",
              "\n",
              "    .dataframe thead th {\n",
              "        text-align: right;\n",
              "    }\n",
              "</style>\n",
              "<table border=\"1\" class=\"dataframe\">\n",
              "  <thead>\n",
              "    <tr style=\"text-align: right;\">\n",
              "      <th></th>\n",
              "      <th>Year</th>\n",
              "      <th>Week_Number</th>\n",
              "      <th>mean_return</th>\n",
              "      <th>volatility</th>\n",
              "    </tr>\n",
              "  </thead>\n",
              "  <tbody>\n",
              "    <tr>\n",
              "      <th>0</th>\n",
              "      <td>2021</td>\n",
              "      <td>1</td>\n",
              "      <td>0.41060</td>\n",
              "      <td>4.264350</td>\n",
              "    </tr>\n",
              "    <tr>\n",
              "      <th>1</th>\n",
              "      <td>2021</td>\n",
              "      <td>2</td>\n",
              "      <td>-0.61780</td>\n",
              "      <td>2.158119</td>\n",
              "    </tr>\n",
              "    <tr>\n",
              "      <th>2</th>\n",
              "      <td>2021</td>\n",
              "      <td>3</td>\n",
              "      <td>1.63475</td>\n",
              "      <td>2.093428</td>\n",
              "    </tr>\n",
              "    <tr>\n",
              "      <th>3</th>\n",
              "      <td>2021</td>\n",
              "      <td>4</td>\n",
              "      <td>-1.06360</td>\n",
              "      <td>1.816845</td>\n",
              "    </tr>\n",
              "    <tr>\n",
              "      <th>4</th>\n",
              "      <td>2021</td>\n",
              "      <td>5</td>\n",
              "      <td>0.91560</td>\n",
              "      <td>1.281591</td>\n",
              "    </tr>\n",
              "  </tbody>\n",
              "</table>\n",
              "</div>\n",
              "      <button class=\"colab-df-convert\" onclick=\"convertToInteractive('df-13c12f0a-8ab4-4bcf-82da-346278ae58df')\"\n",
              "              title=\"Convert this dataframe to an interactive table.\"\n",
              "              style=\"display:none;\">\n",
              "        \n",
              "  <svg xmlns=\"http://www.w3.org/2000/svg\" height=\"24px\"viewBox=\"0 0 24 24\"\n",
              "       width=\"24px\">\n",
              "    <path d=\"M0 0h24v24H0V0z\" fill=\"none\"/>\n",
              "    <path d=\"M18.56 5.44l.94 2.06.94-2.06 2.06-.94-2.06-.94-.94-2.06-.94 2.06-2.06.94zm-11 1L8.5 8.5l.94-2.06 2.06-.94-2.06-.94L8.5 2.5l-.94 2.06-2.06.94zm10 10l.94 2.06.94-2.06 2.06-.94-2.06-.94-.94-2.06-.94 2.06-2.06.94z\"/><path d=\"M17.41 7.96l-1.37-1.37c-.4-.4-.92-.59-1.43-.59-.52 0-1.04.2-1.43.59L10.3 9.45l-7.72 7.72c-.78.78-.78 2.05 0 2.83L4 21.41c.39.39.9.59 1.41.59.51 0 1.02-.2 1.41-.59l7.78-7.78 2.81-2.81c.8-.78.8-2.07 0-2.86zM5.41 20L4 18.59l7.72-7.72 1.47 1.35L5.41 20z\"/>\n",
              "  </svg>\n",
              "      </button>\n",
              "      \n",
              "  <style>\n",
              "    .colab-df-container {\n",
              "      display:flex;\n",
              "      flex-wrap:wrap;\n",
              "      gap: 12px;\n",
              "    }\n",
              "\n",
              "    .colab-df-convert {\n",
              "      background-color: #E8F0FE;\n",
              "      border: none;\n",
              "      border-radius: 50%;\n",
              "      cursor: pointer;\n",
              "      display: none;\n",
              "      fill: #1967D2;\n",
              "      height: 32px;\n",
              "      padding: 0 0 0 0;\n",
              "      width: 32px;\n",
              "    }\n",
              "\n",
              "    .colab-df-convert:hover {\n",
              "      background-color: #E2EBFA;\n",
              "      box-shadow: 0px 1px 2px rgba(60, 64, 67, 0.3), 0px 1px 3px 1px rgba(60, 64, 67, 0.15);\n",
              "      fill: #174EA6;\n",
              "    }\n",
              "\n",
              "    [theme=dark] .colab-df-convert {\n",
              "      background-color: #3B4455;\n",
              "      fill: #D2E3FC;\n",
              "    }\n",
              "\n",
              "    [theme=dark] .colab-df-convert:hover {\n",
              "      background-color: #434B5C;\n",
              "      box-shadow: 0px 1px 3px 1px rgba(0, 0, 0, 0.15);\n",
              "      filter: drop-shadow(0px 1px 2px rgba(0, 0, 0, 0.3));\n",
              "      fill: #FFFFFF;\n",
              "    }\n",
              "  </style>\n",
              "\n",
              "      <script>\n",
              "        const buttonEl =\n",
              "          document.querySelector('#df-13c12f0a-8ab4-4bcf-82da-346278ae58df button.colab-df-convert');\n",
              "        buttonEl.style.display =\n",
              "          google.colab.kernel.accessAllowed ? 'block' : 'none';\n",
              "\n",
              "        async function convertToInteractive(key) {\n",
              "          const element = document.querySelector('#df-13c12f0a-8ab4-4bcf-82da-346278ae58df');\n",
              "          const dataTable =\n",
              "            await google.colab.kernel.invokeFunction('convertToInteractive',\n",
              "                                                     [key], {});\n",
              "          if (!dataTable) return;\n",
              "\n",
              "          const docLinkHtml = 'Like what you see? Visit the ' +\n",
              "            '<a target=\"_blank\" href=https://colab.research.google.com/notebooks/data_table.ipynb>data table notebook</a>'\n",
              "            + ' to learn more about interactive tables.';\n",
              "          element.innerHTML = '';\n",
              "          dataTable['output_type'] = 'display_data';\n",
              "          await google.colab.output.renderOutput(dataTable, element);\n",
              "          const docLink = document.createElement('div');\n",
              "          docLink.innerHTML = docLinkHtml;\n",
              "          element.appendChild(docLink);\n",
              "        }\n",
              "      </script>\n",
              "    </div>\n",
              "  </div>\n",
              "  "
            ]
          },
          "metadata": {},
          "execution_count": 13
        }
      ]
    },
    {
      "cell_type": "markdown",
      "source": [
        "### degrees of freedom = 0.5."
      ],
      "metadata": {
        "id": "CmmtSmggtYor"
      }
    },
    {
      "cell_type": "code",
      "source": [
        "df = 0.5\n",
        "\n",
        "prob_return_green, prob_vol_green, prob_return_red, prob_vol_red = experiment_with_df(df,X_test_return,X_test_vol)\n",
        "\n",
        "#unnormalized probabilities\n",
        "\n",
        "posterior_green = p_green * prob_return_green * prob_vol_green\n",
        "posterior_red = p_red * prob_return_red * prob_vol_red\n",
        "\n",
        "normalized_green = posterior_green / ( posterior_green + posterior_red ) \n",
        "normalized_red = posterior_red / ( posterior_green + posterior_red )\n",
        "\n",
        "#resetting year_2_pred for new run\n",
        "year_2_pred = year_2_data[[\"Year\",\t\"Week_Number\",\t\"mean_return\",\t\"volatility\"]]\n",
        "\n",
        "#concating normalized values of probabilites for green class \n",
        "year_2_pred = pd.concat([year_2_pred,pd.DataFrame(normalized_green)],axis=1)\n",
        "\n",
        "#concating normalized values of probabilites for red class \n",
        "year_2_pred = pd.concat([year_2_pred,pd.DataFrame(normalized_red)],axis=1)\n",
        "\n",
        "#renaming column names\n",
        "year_2_pred.columns = [\"Year\",\t\"Week_Number\",\t\"mean_return\",\t\"volatility\",\"prob_green\",\"prob_red\"]\n",
        "\n",
        "year_2_pred = label_with_prob(year_2_pred)\n",
        "\n",
        "compute_accuracy(year_2_data[\"Label\"],year_2_pred[\"Label\"],df)"
      ],
      "metadata": {
        "colab": {
          "base_uri": "https://localhost:8080/"
        },
        "id": "HCF0I_jLMRiq",
        "outputId": "a871b265-a2ce-480b-e772-209534c3d25c"
      },
      "execution_count": 14,
      "outputs": [
        {
          "output_type": "stream",
          "name": "stdout",
          "text": [
            "The accuracy with degrees of freedom 0.5 is : 69.23 %.\n"
          ]
        }
      ]
    },
    {
      "cell_type": "code",
      "source": [
        "tpr_df_1,tnr_df_1 = compute_conf_mat(year_2_data[\"Label\"],year_2_pred[\"Label\"],df)"
      ],
      "metadata": {
        "colab": {
          "base_uri": "https://localhost:8080/",
          "height": 279
        },
        "id": "bdUq0p2mdFDH",
        "outputId": "e03b86e9-1f1a-452e-ff47-e179b10067f4"
      },
      "execution_count": 15,
      "outputs": [
        {
          "output_type": "display_data",
          "data": {
            "text/plain": [
              "<Figure size 432x288 with 2 Axes>"
            ],
            "image/png": "[encoded data removed]"
          },
          "metadata": {
            "needs_background": "light"
          }
        }
      ]
    },
    {
      "cell_type": "code",
      "source": [
        "print_tpr_tnr(tpr_df_1,tnr_df_1)"
      ],
      "metadata": {
        "colab": {
          "base_uri": "https://localhost:8080/"
        },
        "id": "gzW1XfLBf0Pk",
        "outputId": "1e2d5917-2c1c-4a5f-a32b-af7200389522"
      },
      "execution_count": 16,
      "outputs": [
        {
          "output_type": "stream",
          "name": "stdout",
          "text": [
            "The true positive rate for model with degrees of freedom 0.5 is : 56.67 %.\n",
            "\n",
            "\n",
            "The true negative rate for model with degrees of freedom 0.5 is : 86.36 %.\n"
          ]
        }
      ]
    },
    {
      "cell_type": "markdown",
      "source": [
        "###degrees of freedom 1."
      ],
      "metadata": {
        "id": "818B8u08GXFG"
      }
    },
    {
      "cell_type": "code",
      "source": [
        "df = 1\n",
        "prob_return_green, prob_vol_green, prob_return_red, prob_vol_red = experiment_with_df(1,X_test_return,X_test_vol)\n",
        "\n",
        "#unnormalized probabilities\n",
        "\n",
        "posterior_green = p_green * prob_return_green * prob_vol_green\n",
        "posterior_red = p_red * prob_return_red * prob_vol_red\n",
        "\n",
        "normalized_green = posterior_green / ( posterior_green + posterior_red ) \n",
        "normalized_red = posterior_red / ( posterior_green + posterior_red )\n",
        "\n",
        "#resetting year_2_pred for new run\n",
        "year_2_pred = year_2_data[[\"Year\",\t\"Week_Number\",\t\"mean_return\",\t\"volatility\"]]\n",
        "\n",
        "#concating normalized values of probabilites for green class \n",
        "year_2_pred = pd.concat([year_2_pred,pd.DataFrame(normalized_green)],axis=1)\n",
        "\n",
        "#concating normalized values of probabilites for red class \n",
        "year_2_pred = pd.concat([year_2_pred,pd.DataFrame(normalized_red)],axis=1)\n",
        "\n",
        "#renaming column names\n",
        "year_2_pred.columns = [\"Year\",\t\"Week_Number\",\t\"mean_return\",\t\"volatility\",\"prob_green\",\"prob_red\"]\n",
        "\n",
        "year_2_pred = label_with_prob(year_2_pred)\n",
        "\n",
        "compute_accuracy(year_2_data[\"Label\"],year_2_pred[\"Label\"],df)"
      ],
      "metadata": {
        "colab": {
          "base_uri": "https://localhost:8080/"
        },
        "id": "Hwql8t5ZEKZf",
        "outputId": "aca0bbf5-5bab-405b-91c2-e4d077dddc2a"
      },
      "execution_count": 17,
      "outputs": [
        {
          "output_type": "stream",
          "name": "stdout",
          "text": [
            "The accuracy with degrees of freedom 1 is : 73.08 %.\n"
          ]
        }
      ]
    },
    {
      "cell_type": "code",
      "source": [
        "tpr_df_2,tnr_df_2 = compute_conf_mat(year_2_data[\"Label\"],year_2_pred[\"Label\"],df)"
      ],
      "metadata": {
        "colab": {
          "base_uri": "https://localhost:8080/",
          "height": 283
        },
        "id": "CthjpjgMdFtp",
        "outputId": "778a5158-b12e-4189-96fd-46f559a99899"
      },
      "execution_count": 18,
      "outputs": [
        {
          "output_type": "display_data",
          "data": {
            "text/plain": [
              "<Figure size 432x288 with 2 Axes>"
            ],
            "image/png": "[encoded data removed]"
          },
          "metadata": {
            "needs_background": "light"
          }
        }
      ]
    },
    {
      "cell_type": "code",
      "source": [
        "print_tpr_tnr(tpr_df_2,tnr_df_2)"
      ],
      "metadata": {
        "colab": {
          "base_uri": "https://localhost:8080/"
        },
        "id": "AU-AvaFufu3X",
        "outputId": "72ba4018-2ad1-4d28-e6a8-b08d39334313"
      },
      "execution_count": 19,
      "outputs": [
        {
          "output_type": "stream",
          "name": "stdout",
          "text": [
            "The true positive rate for model with degrees of freedom 1 is : 60.0 %.\n",
            "\n",
            "\n",
            "The true negative rate for model with degrees of freedom 1 is : 90.91 %.\n"
          ]
        }
      ]
    },
    {
      "cell_type": "markdown",
      "source": [
        "###degrees of freedom 5."
      ],
      "metadata": {
        "id": "Vqib5-UnMEMo"
      }
    },
    {
      "cell_type": "code",
      "source": [
        "df = 5\n",
        "prob_return_green, prob_vol_green, prob_return_red, prob_vol_red = experiment_with_df(5,X_test_return,X_test_vol)\n",
        "\n",
        "#unnormalized probabilities\n",
        "\n",
        "posterior_green = p_green * prob_return_green * prob_vol_green\n",
        "posterior_red = p_red * prob_return_red * prob_vol_red\n",
        "\n",
        "normalized_green = posterior_green / ( posterior_green + posterior_red ) \n",
        "normalized_red = posterior_red / ( posterior_green + posterior_red )\n",
        "\n",
        "#resetting year_2_pred for new run\n",
        "year_2_pred = year_2_data[[\"Year\",\t\"Week_Number\",\t\"mean_return\",\t\"volatility\"]]\n",
        "\n",
        "#concating normalized values of probabilites for green class \n",
        "year_2_pred = pd.concat([year_2_pred,pd.DataFrame(normalized_green)],axis=1)\n",
        "\n",
        "#concating normalized values of probabilites for red class \n",
        "year_2_pred = pd.concat([year_2_pred,pd.DataFrame(normalized_red)],axis=1)\n",
        "\n",
        "#renaming column names\n",
        "year_2_pred.columns = [\"Year\",\t\"Week_Number\",\t\"mean_return\",\t\"volatility\",\"prob_green\",\"prob_red\"]\n",
        "\n",
        "year_2_pred = label_with_prob(year_2_pred)\n",
        "\n",
        "compute_accuracy(year_2_data[\"Label\"],year_2_pred[\"Label\"],df)"
      ],
      "metadata": {
        "colab": {
          "base_uri": "https://localhost:8080/"
        },
        "id": "sF-hzbZJHFKG",
        "outputId": "a3d8cad7-a267-4749-aee6-f103a82d32e1"
      },
      "execution_count": 20,
      "outputs": [
        {
          "output_type": "stream",
          "name": "stdout",
          "text": [
            "The accuracy with degrees of freedom 5 is : 75.0 %.\n"
          ]
        }
      ]
    },
    {
      "cell_type": "code",
      "source": [
        "tpr_df_3,tnr_df_3 = compute_conf_mat(year_2_data[\"Label\"],year_2_pred[\"Label\"],df)"
      ],
      "metadata": {
        "colab": {
          "base_uri": "https://localhost:8080/",
          "height": 283
        },
        "id": "FvILWzdSdGqu",
        "outputId": "1e73a5a0-a997-432c-96f9-7395453fad05"
      },
      "execution_count": 21,
      "outputs": [
        {
          "output_type": "display_data",
          "data": {
            "text/plain": [
              "<Figure size 432x288 with 2 Axes>"
            ],
            "image/png": "[encoded data removed]"
          },
          "metadata": {
            "needs_background": "light"
          }
        }
      ]
    },
    {
      "cell_type": "code",
      "source": [
        "print_tpr_tnr(tpr_df_3,tnr_df_3)"
      ],
      "metadata": {
        "colab": {
          "base_uri": "https://localhost:8080/"
        },
        "id": "_j2MLHqEdyQd",
        "outputId": "4b79a595-d004-4e2f-b739-b655c9efbf86"
      },
      "execution_count": 22,
      "outputs": [
        {
          "output_type": "stream",
          "name": "stdout",
          "text": [
            "The true positive rate for model with degrees of freedom 5 is : 63.33 %.\n",
            "\n",
            "\n",
            "The true negative rate for model with degrees of freedom 5 is : 90.91 %.\n"
          ]
        }
      ]
    },
    {
      "cell_type": "markdown",
      "source": [
        "### Q5."
      ],
      "metadata": {
        "id": "SJUFbAHwbcs5"
      }
    },
    {
      "cell_type": "markdown",
      "source": [
        "Trading strategies"
      ],
      "metadata": {
        "id": "JbR9IKERimCe"
      }
    },
    {
      "cell_type": "code",
      "source": [
        "#function to carry out inertia trading strategy\n",
        "def buy_and_hold(df,principal,end):\n",
        "\n",
        "    #quantity of shares bought at opening price\n",
        "    shares_bought = 0\n",
        "\n",
        "    #amount gained by selling stock at closing price\n",
        "    amount_gained = 0\n",
        "\n",
        "    #value achieved from selling stocks at closing price at the end of given period.\n",
        "    capital = 0 \n",
        "\n",
        "    #buying stocks at start opening price at the start of the year.\n",
        "    shares_bought = principal/df[\"Open\"][0]\n",
        "\n",
        "    #selling stock at its closing price\n",
        "    capital = shares_bought * df[\"Close\"][end]\n",
        "\n",
        "    return capital"
      ],
      "metadata": {
        "id": "B_akp8NUXC_F"
      },
      "execution_count": 24,
      "outputs": []
    },
    {
      "cell_type": "code",
      "source": [
        "#function to carry out buy with label weekly trading strategy\n",
        "def buy_with_labels(df,end):\n",
        "\n",
        "  #cash amount initially used to invest in stock market\n",
        "  initial_cash = 100\n",
        "\n",
        "  #quantity of shares bought at opening price\n",
        "  shares_bought = 0\n",
        "\n",
        "  #amount gained by selling stock at adjusted closing price\n",
        "  amount_gained = 0\n",
        "\n",
        "  #value achieved from selling stocks at closing price at the end of given period.\n",
        "  capital = 0 \n",
        "\n",
        "  #boolean variable to determine if . \n",
        "  invested = False\n",
        "\n",
        "  #iterating through dataframe\n",
        "  for index,row in df.iterrows():\n",
        " \n",
        "   #Finding first green week or green week after a red week ,and we dont have a position in market yet.\n",
        "    if df[\"Label\"][index] == \"green\" and invested ==False :\n",
        "      \n",
        "      #buying shares equal to the amount of cash we hold currently \n",
        "      shares_bought = initial_cash / df[\"Open\"][index]\n",
        "      \n",
        "      #as we have bought shares equal in evaluation to our cash initial cash = 0\n",
        "      initial_cash = 0\n",
        "\n",
        "      #we have a position in the market\n",
        "      invested = True\n",
        "\n",
        "    #Finding red week where we dont have a position\n",
        "    elif df[\"Label\"][index] == \"red\" and invested ==False :\n",
        "      \n",
        "      #we do nothing\n",
        "      continue\n",
        "\n",
        "    #conditions if we have put money in the market\n",
        "\n",
        "    #check to see we are not at the last day of trading.\n",
        "    if index!= end:\n",
        "\n",
        "      #if next week is red and current week is green\n",
        "      if invested == True and df[\"Label\"][index] == \"green\" and df[\"Label\"][index+1] == \"red\":\n",
        "\n",
        "        #selling stock at adjusted closing price at the end of the week\n",
        "        initial_cash += df[\"Adj Close\"][index] * shares_bought\n",
        "        \n",
        "        #all shares are sold\n",
        "        shares_bought = 0\n",
        "        \n",
        "        #we are no longer invested in the market.\n",
        "        invested = False\n",
        "\n",
        "      #if current week is green and (next week/next day) is green \n",
        "      elif invested == True and df[\"Label\"][index] == \"green\" and df[\"Label\"][index+1] == \"green\":\n",
        "\n",
        "        #do nothing\n",
        "        continue\n",
        "\n",
        "    #if we end our trading period while being invested in the market\n",
        "    if index == end and invested == True:\n",
        "        \n",
        "        #selling stock at adjusted closing price at the end of the week\n",
        "        initial_cash += df[\"Adj Close\"][index] * shares_bought\n",
        "        \n",
        "        #all shares are sold\n",
        "        shares_bought = 0\n",
        "\n",
        "        #we are no longer invested in the market.\n",
        "        invested = False\n",
        "  \n",
        "  #returning the updated cash\n",
        "  return initial_cash"
      ],
      "metadata": {
        "id": "PQiyskkdipF4"
      },
      "execution_count": 23,
      "outputs": []
    },
    {
      "cell_type": "markdown",
      "source": [
        "function to combine weekly predictions to daily data, to use for trading."
      ],
      "metadata": {
        "id": "U2O9aE73XO5M"
      }
    },
    {
      "cell_type": "code",
      "source": [
        "def label_daily_data(daily_data,weekly_data,weekly_labels):\n",
        "  \n",
        "  #weekly_data holds weekly data for year 2, weekly_labels holds predictions from Gaussian Naive Bayes model.\n",
        "  weekly_data = pd.concat([weekly_data,pd.DataFrame(weekly_labels)],axis=1)\n",
        "  \n",
        "  #renaming columns so that Label column can be changed from default(0) to Label.\n",
        "  weekly_data.columns = [\"Year\", \"Week_Number\",\t\"mean_return\",\t\"volatility\",\t\"Label\"]\n",
        "\n",
        "  daily_data = pd.merge(daily_data,weekly_data[[\"Week_Number\",\"Label\"]],on=\"Week_Number\")\n",
        "\n",
        "  return daily_data"
      ],
      "metadata": {
        "id": "tcqiZBlAi4cx"
      },
      "execution_count": 41,
      "outputs": []
    },
    {
      "cell_type": "code",
      "source": [
        "df_daily = pd.read_csv(\"/content/drive/MyDrive/Data Science Eugene Pinsky/Homework_10/Naive bayesian custom density/NVDA.csv\")\n",
        "\n",
        "year_2_data_daily = df_daily[ df_daily[\"Year\"] == 2021 ]\n",
        "\n",
        "year_2_data_daily = year_2_data_daily.reset_index(drop=True)\n",
        "\n",
        "year_2_data_daily.head()"
      ],
      "metadata": {
        "colab": {
          "base_uri": "https://localhost:8080/",
          "height": 540
        },
        "id": "oraxEDMeXZa_",
        "outputId": "bad1d569-eac9-4231-9565-13ca359219a3"
      },
      "execution_count": 45,
      "outputs": [
        {
          "output_type": "execute_result",
          "data": {
            "text/plain": [
              "                        Date  Year  Month  Day    Weekday  Week_Number  \\\n",
              "0  2021-01-04 00:00:00-05:00  2021      1    4     Monday            1   \n",
              "1  2021-01-05 00:00:00-05:00  2021      1    5    Tuesday            1   \n",
              "2  2021-01-06 00:00:00-05:00  2021      1    6  Wednesday            1   \n",
              "3  2021-01-07 00:00:00-05:00  2021      1    7   Thursday            1   \n",
              "4  2021-01-08 00:00:00-05:00  2021      1    8     Friday            1   \n",
              "\n",
              "  Year_Week    Open    High     Low   Close    Volume  Adj Close    Return  \\\n",
              "0   2021-01  131.04  136.52  129.62  131.13  56064000     130.93  0.004481   \n",
              "1   2021-01  131.00  134.43  130.87  134.05  32276000     133.84  0.022210   \n",
              "2   2021-01  132.23  132.45  125.86  126.14  58042400     125.95 -0.058953   \n",
              "3   2021-01  129.68  133.78  128.87  133.44  46148000     133.23  0.057830   \n",
              "4   2021-01  133.62  134.21  130.42  132.77  29252800     132.56 -0.005040   \n",
              "\n",
              "     Short_MA   Long_MA  \n",
              "0  131.436429  132.4336  \n",
              "1  131.505000  132.4432  \n",
              "2  130.972857  132.2492  \n",
              "3  131.045000  132.2904  \n",
              "4  130.998571  132.2672  "
            ],
            "text/html": [
              "\n",
              "  <div id=\"df-59f03b4b-51e4-4d2f-bed2-e6c3dbabcfba\">\n",
              "    <div class=\"colab-df-container\">\n",
              "      <div>\n",
              "<style scoped>\n",
              "    .dataframe tbody tr th:only-of-type {\n",
              "        vertical-align: middle;\n",
              "    }\n",
              "\n",
              "    .dataframe tbody tr th {\n",
              "        vertical-align: top;\n",
              "    }\n",
              "\n",
              "    .dataframe thead th {\n",
              "        text-align: right;\n",
              "    }\n",
              "</style>\n",
              "<table border=\"1\" class=\"dataframe\">\n",
              "  <thead>\n",
              "    <tr style=\"text-align: right;\">\n",
              "      <th></th>\n",
              "      <th>Date</th>\n",
              "      <th>Year</th>\n",
              "      <th>Month</th>\n",
              "      <th>Day</th>\n",
              "      <th>Weekday</th>\n",
              "      <th>Week_Number</th>\n",
              "      <th>Year_Week</th>\n",
              "      <th>Open</th>\n",
              "      <th>High</th>\n",
              "      <th>Low</th>\n",
              "      <th>Close</th>\n",
              "      <th>Volume</th>\n",
              "      <th>Adj Close</th>\n",
              "      <th>Return</th>\n",
              "      <th>Short_MA</th>\n",
              "      <th>Long_MA</th>\n",
              "    </tr>\n",
              "  </thead>\n",
              "  <tbody>\n",
              "    <tr>\n",
              "      <th>0</th>\n",
              "      <td>2021-01-04 00:00:00-05:00</td>\n",
              "      <td>2021</td>\n",
              "      <td>1</td>\n",
              "      <td>4</td>\n",
              "      <td>Monday</td>\n",
              "      <td>1</td>\n",
              "      <td>2021-01</td>\n",
              "      <td>131.04</td>\n",
              "      <td>136.52</td>\n",
              "      <td>129.62</td>\n",
              "      <td>131.13</td>\n",
              "      <td>56064000</td>\n",
              "      <td>130.93</td>\n",
              "      <td>0.004481</td>\n",
              "      <td>131.436429</td>\n",
              "      <td>132.4336</td>\n",
              "    </tr>\n",
              "    <tr>\n",
              "      <th>1</th>\n",
              "      <td>2021-01-05 00:00:00-05:00</td>\n",
              "      <td>2021</td>\n",
              "      <td>1</td>\n",
              "      <td>5</td>\n",
              "      <td>Tuesday</td>\n",
              "      <td>1</td>\n",
              "      <td>2021-01</td>\n",
              "      <td>131.00</td>\n",
              "      <td>134.43</td>\n",
              "      <td>130.87</td>\n",
              "      <td>134.05</td>\n",
              "      <td>32276000</td>\n",
              "      <td>133.84</td>\n",
              "      <td>0.022210</td>\n",
              "      <td>131.505000</td>\n",
              "      <td>132.4432</td>\n",
              "    </tr>\n",
              "    <tr>\n",
              "      <th>2</th>\n",
              "      <td>2021-01-06 00:00:00-05:00</td>\n",
              "      <td>2021</td>\n",
              "      <td>1</td>\n",
              "      <td>6</td>\n",
              "      <td>Wednesday</td>\n",
              "      <td>1</td>\n",
              "      <td>2021-01</td>\n",
              "      <td>132.23</td>\n",
              "      <td>132.45</td>\n",
              "      <td>125.86</td>\n",
              "      <td>126.14</td>\n",
              "      <td>58042400</td>\n",
              "      <td>125.95</td>\n",
              "      <td>-0.058953</td>\n",
              "      <td>130.972857</td>\n",
              "      <td>132.2492</td>\n",
              "    </tr>\n",
              "    <tr>\n",
              "      <th>3</th>\n",
              "      <td>2021-01-07 00:00:00-05:00</td>\n",
              "      <td>2021</td>\n",
              "      <td>1</td>\n",
              "      <td>7</td>\n",
              "      <td>Thursday</td>\n",
              "      <td>1</td>\n",
              "      <td>2021-01</td>\n",
              "      <td>129.68</td>\n",
              "      <td>133.78</td>\n",
              "      <td>128.87</td>\n",
              "      <td>133.44</td>\n",
              "      <td>46148000</td>\n",
              "      <td>133.23</td>\n",
              "      <td>0.057830</td>\n",
              "      <td>131.045000</td>\n",
              "      <td>132.2904</td>\n",
              "    </tr>\n",
              "    <tr>\n",
              "      <th>4</th>\n",
              "      <td>2021-01-08 00:00:00-05:00</td>\n",
              "      <td>2021</td>\n",
              "      <td>1</td>\n",
              "      <td>8</td>\n",
              "      <td>Friday</td>\n",
              "      <td>1</td>\n",
              "      <td>2021-01</td>\n",
              "      <td>133.62</td>\n",
              "      <td>134.21</td>\n",
              "      <td>130.42</td>\n",
              "      <td>132.77</td>\n",
              "      <td>29252800</td>\n",
              "      <td>132.56</td>\n",
              "      <td>-0.005040</td>\n",
              "      <td>130.998571</td>\n",
              "      <td>132.2672</td>\n",
              "    </tr>\n",
              "  </tbody>\n",
              "</table>\n",
              "</div>\n",
              "      <button class=\"colab-df-convert\" onclick=\"convertToInteractive('df-59f03b4b-51e4-4d2f-bed2-e6c3dbabcfba')\"\n",
              "              title=\"Convert this dataframe to an interactive table.\"\n",
              "              style=\"display:none;\">\n",
              "        \n",
              "  <svg xmlns=\"http://www.w3.org/2000/svg\" height=\"24px\"viewBox=\"0 0 24 24\"\n",
              "       width=\"24px\">\n",
              "    <path d=\"M0 0h24v24H0V0z\" fill=\"none\"/>\n",
              "    <path d=\"M18.56 5.44l.94 2.06.94-2.06 2.06-.94-2.06-.94-.94-2.06-.94 2.06-2.06.94zm-11 1L8.5 8.5l.94-2.06 2.06-.94-2.06-.94L8.5 2.5l-.94 2.06-2.06.94zm10 10l.94 2.06.94-2.06 2.06-.94-2.06-.94-.94-2.06-.94 2.06-2.06.94z\"/><path d=\"M17.41 7.96l-1.37-1.37c-.4-.4-.92-.59-1.43-.59-.52 0-1.04.2-1.43.59L10.3 9.45l-7.72 7.72c-.78.78-.78 2.05 0 2.83L4 21.41c.39.39.9.59 1.41.59.51 0 1.02-.2 1.41-.59l7.78-7.78 2.81-2.81c.8-.78.8-2.07 0-2.86zM5.41 20L4 18.59l7.72-7.72 1.47 1.35L5.41 20z\"/>\n",
              "  </svg>\n",
              "      </button>\n",
              "      \n",
              "  <style>\n",
              "    .colab-df-container {\n",
              "      display:flex;\n",
              "      flex-wrap:wrap;\n",
              "      gap: 12px;\n",
              "    }\n",
              "\n",
              "    .colab-df-convert {\n",
              "      background-color: #E8F0FE;\n",
              "      border: none;\n",
              "      border-radius: 50%;\n",
              "      cursor: pointer;\n",
              "      display: none;\n",
              "      fill: #1967D2;\n",
              "      height: 32px;\n",
              "      padding: 0 0 0 0;\n",
              "      width: 32px;\n",
              "    }\n",
              "\n",
              "    .colab-df-convert:hover {\n",
              "      background-color: #E2EBFA;\n",
              "      box-shadow: 0px 1px 2px rgba(60, 64, 67, 0.3), 0px 1px 3px 1px rgba(60, 64, 67, 0.15);\n",
              "      fill: #174EA6;\n",
              "    }\n",
              "\n",
              "    [theme=dark] .colab-df-convert {\n",
              "      background-color: #3B4455;\n",
              "      fill: #D2E3FC;\n",
              "    }\n",
              "\n",
              "    [theme=dark] .colab-df-convert:hover {\n",
              "      background-color: #434B5C;\n",
              "      box-shadow: 0px 1px 3px 1px rgba(0, 0, 0, 0.15);\n",
              "      filter: drop-shadow(0px 1px 2px rgba(0, 0, 0, 0.3));\n",
              "      fill: #FFFFFF;\n",
              "    }\n",
              "  </style>\n",
              "\n",
              "      <script>\n",
              "        const buttonEl =\n",
              "          document.querySelector('#df-59f03b4b-51e4-4d2f-bed2-e6c3dbabcfba button.colab-df-convert');\n",
              "        buttonEl.style.display =\n",
              "          google.colab.kernel.accessAllowed ? 'block' : 'none';\n",
              "\n",
              "        async function convertToInteractive(key) {\n",
              "          const element = document.querySelector('#df-59f03b4b-51e4-4d2f-bed2-e6c3dbabcfba');\n",
              "          const dataTable =\n",
              "            await google.colab.kernel.invokeFunction('convertToInteractive',\n",
              "                                                     [key], {});\n",
              "          if (!dataTable) return;\n",
              "\n",
              "          const docLinkHtml = 'Like what you see? Visit the ' +\n",
              "            '<a target=\"_blank\" href=https://colab.research.google.com/notebooks/data_table.ipynb>data table notebook</a>'\n",
              "            + ' to learn more about interactive tables.';\n",
              "          element.innerHTML = '';\n",
              "          dataTable['output_type'] = 'display_data';\n",
              "          await google.colab.output.renderOutput(dataTable, element);\n",
              "          const docLink = document.createElement('div');\n",
              "          docLink.innerHTML = docLinkHtml;\n",
              "          element.appendChild(docLink);\n",
              "        }\n",
              "      </script>\n",
              "    </div>\n",
              "  </div>\n",
              "  "
            ]
          },
          "metadata": {},
          "execution_count": 45
        }
      ]
    },
    {
      "cell_type": "markdown",
      "source": [
        "training with best degrees of freedom = 5, i.e the best df."
      ],
      "metadata": {
        "id": "2gwb46nxYKeN"
      }
    },
    {
      "cell_type": "code",
      "source": [
        "df = 5\n",
        "prob_return_green, prob_vol_green, prob_return_red, prob_vol_red = experiment_with_df(5,X_test_return,X_test_vol)\n",
        "\n",
        "#unnormalized probabilities\n",
        "\n",
        "posterior_green = p_green * prob_return_green * prob_vol_green\n",
        "posterior_red = p_red * prob_return_red * prob_vol_red\n",
        "\n",
        "normalized_green = posterior_green / ( posterior_green + posterior_red ) \n",
        "normalized_red = posterior_red / ( posterior_green + posterior_red )\n",
        "\n",
        "#resetting year_2_pred for new run\n",
        "year_2_pred = year_2_data[[\"Year\",\t\"Week_Number\",\t\"mean_return\",\t\"volatility\"]]\n",
        "\n",
        "#concating normalized values of probabilites for green class \n",
        "year_2_pred = pd.concat([year_2_pred,pd.DataFrame(normalized_green)],axis=1)\n",
        "\n",
        "#concating normalized values of probabilites for red class \n",
        "year_2_pred = pd.concat([year_2_pred,pd.DataFrame(normalized_red)],axis=1)\n",
        "\n",
        "#renaming column names\n",
        "year_2_pred.columns = [\"Year\",\t\"Week_Number\",\t\"mean_return\",\t\"volatility\",\"prob_green\",\"prob_red\"]\n",
        "\n",
        "year_2_pred = label_with_prob(year_2_pred)\n",
        "\n",
        "compute_accuracy(year_2_data[\"Label\"],year_2_pred[\"Label\"],df)"
      ],
      "metadata": {
        "colab": {
          "base_uri": "https://localhost:8080/"
        },
        "id": "Cm1V73WUYn_U",
        "outputId": "eb7cf081-cdb4-488f-c4eb-6970672efe59"
      },
      "execution_count": 37,
      "outputs": [
        {
          "output_type": "stream",
          "name": "stdout",
          "text": [
            "The accuracy with degrees of freedom 5 is : 75.0 %.\n"
          ]
        }
      ]
    },
    {
      "cell_type": "markdown",
      "source": [
        "merging labelled weekly data with daily data."
      ],
      "metadata": {
        "id": "pJxbDua9ZjBE"
      }
    },
    {
      "cell_type": "code",
      "source": [
        "year_2_data_daily = label_daily_data(year_2_data_daily,year_2_pred[[\"Year\",\t\"Week_Number\",\t\"mean_return\",\t\"volatility\"]],year_2_pred[[\"Label\"]])\n",
        "year_2_data_daily.tail()"
      ],
      "metadata": {
        "colab": {
          "base_uri": "https://localhost:8080/",
          "height": 540
        },
        "id": "nj_Ox7O6YEdx",
        "outputId": "d6daf5e4-bfef-48ac-d1f4-5926d789dd13"
      },
      "execution_count": 46,
      "outputs": [
        {
          "output_type": "execute_result",
          "data": {
            "text/plain": [
              "                          Date  Year  Month  Day    Weekday  Week_Number  \\\n",
              "246  2021-12-23 00:00:00-05:00  2021     12   23   Thursday           51   \n",
              "247  2021-12-27 00:00:00-05:00  2021     12   27     Monday           52   \n",
              "248  2021-12-28 00:00:00-05:00  2021     12   28    Tuesday           52   \n",
              "249  2021-12-29 00:00:00-05:00  2021     12   29  Wednesday           52   \n",
              "250  2021-12-30 00:00:00-05:00  2021     12   30   Thursday           52   \n",
              "\n",
              "    Year_Week    Open    High     Low   Close    Volume  Adj Close    Return  \\\n",
              "246   2021-51  297.55  300.59  294.31  296.40  34302200     296.20  0.008163   \n",
              "247   2021-52  296.60  310.87  296.40  309.45  40368600     309.24  0.044029   \n",
              "248   2021-52  313.12  313.30  300.12  303.22  42059100     303.01 -0.020133   \n",
              "249   2021-52  302.73  305.48  293.66  300.01  34313900     299.81 -0.010586   \n",
              "250   2021-52  298.27  304.57  295.40  295.86  30886400     295.66 -0.013833   \n",
              "\n",
              "       Short_MA   Long_MA  Label  \n",
              "246  295.482857  284.7548  green  \n",
              "247  296.130714  286.5938  green  \n",
              "248  294.627857  288.2852  green  \n",
              "249  293.325714  289.8406  green  \n",
              "250  292.680714  291.2994  green  "
            ],
            "text/html": [
              "\n",
              "  <div id=\"df-1c02c3ef-b90b-43f1-8e96-97be23024432\">\n",
              "    <div class=\"colab-df-container\">\n",
              "      <div>\n",
              "<style scoped>\n",
              "    .dataframe tbody tr th:only-of-type {\n",
              "        vertical-align: middle;\n",
              "    }\n",
              "\n",
              "    .dataframe tbody tr th {\n",
              "        vertical-align: top;\n",
              "    }\n",
              "\n",
              "    .dataframe thead th {\n",
              "        text-align: right;\n",
              "    }\n",
              "</style>\n",
              "<table border=\"1\" class=\"dataframe\">\n",
              "  <thead>\n",
              "    <tr style=\"text-align: right;\">\n",
              "      <th></th>\n",
              "      <th>Date</th>\n",
              "      <th>Year</th>\n",
              "      <th>Month</th>\n",
              "      <th>Day</th>\n",
              "      <th>Weekday</th>\n",
              "      <th>Week_Number</th>\n",
              "      <th>Year_Week</th>\n",
              "      <th>Open</th>\n",
              "      <th>High</th>\n",
              "      <th>Low</th>\n",
              "      <th>Close</th>\n",
              "      <th>Volume</th>\n",
              "      <th>Adj Close</th>\n",
              "      <th>Return</th>\n",
              "      <th>Short_MA</th>\n",
              "      <th>Long_MA</th>\n",
              "      <th>Label</th>\n",
              "    </tr>\n",
              "  </thead>\n",
              "  <tbody>\n",
              "    <tr>\n",
              "      <th>246</th>\n",
              "      <td>2021-12-23 00:00:00-05:00</td>\n",
              "      <td>2021</td>\n",
              "      <td>12</td>\n",
              "      <td>23</td>\n",
              "      <td>Thursday</td>\n",
              "      <td>51</td>\n",
              "      <td>2021-51</td>\n",
              "      <td>297.55</td>\n",
              "      <td>300.59</td>\n",
              "      <td>294.31</td>\n",
              "      <td>296.40</td>\n",
              "      <td>34302200</td>\n",
              "      <td>296.20</td>\n",
              "      <td>0.008163</td>\n",
              "      <td>295.482857</td>\n",
              "      <td>284.7548</td>\n",
              "      <td>green</td>\n",
              "    </tr>\n",
              "    <tr>\n",
              "      <th>247</th>\n",
              "      <td>2021-12-27 00:00:00-05:00</td>\n",
              "      <td>2021</td>\n",
              "      <td>12</td>\n",
              "      <td>27</td>\n",
              "      <td>Monday</td>\n",
              "      <td>52</td>\n",
              "      <td>2021-52</td>\n",
              "      <td>296.60</td>\n",
              "      <td>310.87</td>\n",
              "      <td>296.40</td>\n",
              "      <td>309.45</td>\n",
              "      <td>40368600</td>\n",
              "      <td>309.24</td>\n",
              "      <td>0.044029</td>\n",
              "      <td>296.130714</td>\n",
              "      <td>286.5938</td>\n",
              "      <td>green</td>\n",
              "    </tr>\n",
              "    <tr>\n",
              "      <th>248</th>\n",
              "      <td>2021-12-28 00:00:00-05:00</td>\n",
              "      <td>2021</td>\n",
              "      <td>12</td>\n",
              "      <td>28</td>\n",
              "      <td>Tuesday</td>\n",
              "      <td>52</td>\n",
              "      <td>2021-52</td>\n",
              "      <td>313.12</td>\n",
              "      <td>313.30</td>\n",
              "      <td>300.12</td>\n",
              "      <td>303.22</td>\n",
              "      <td>42059100</td>\n",
              "      <td>303.01</td>\n",
              "      <td>-0.020133</td>\n",
              "      <td>294.627857</td>\n",
              "      <td>288.2852</td>\n",
              "      <td>green</td>\n",
              "    </tr>\n",
              "    <tr>\n",
              "      <th>249</th>\n",
              "      <td>2021-12-29 00:00:00-05:00</td>\n",
              "      <td>2021</td>\n",
              "      <td>12</td>\n",
              "      <td>29</td>\n",
              "      <td>Wednesday</td>\n",
              "      <td>52</td>\n",
              "      <td>2021-52</td>\n",
              "      <td>302.73</td>\n",
              "      <td>305.48</td>\n",
              "      <td>293.66</td>\n",
              "      <td>300.01</td>\n",
              "      <td>34313900</td>\n",
              "      <td>299.81</td>\n",
              "      <td>-0.010586</td>\n",
              "      <td>293.325714</td>\n",
              "      <td>289.8406</td>\n",
              "      <td>green</td>\n",
              "    </tr>\n",
              "    <tr>\n",
              "      <th>250</th>\n",
              "      <td>2021-12-30 00:00:00-05:00</td>\n",
              "      <td>2021</td>\n",
              "      <td>12</td>\n",
              "      <td>30</td>\n",
              "      <td>Thursday</td>\n",
              "      <td>52</td>\n",
              "      <td>2021-52</td>\n",
              "      <td>298.27</td>\n",
              "      <td>304.57</td>\n",
              "      <td>295.40</td>\n",
              "      <td>295.86</td>\n",
              "      <td>30886400</td>\n",
              "      <td>295.66</td>\n",
              "      <td>-0.013833</td>\n",
              "      <td>292.680714</td>\n",
              "      <td>291.2994</td>\n",
              "      <td>green</td>\n",
              "    </tr>\n",
              "  </tbody>\n",
              "</table>\n",
              "</div>\n",
              "      <button class=\"colab-df-convert\" onclick=\"convertToInteractive('df-1c02c3ef-b90b-43f1-8e96-97be23024432')\"\n",
              "              title=\"Convert this dataframe to an interactive table.\"\n",
              "              style=\"display:none;\">\n",
              "        \n",
              "  <svg xmlns=\"http://www.w3.org/2000/svg\" height=\"24px\"viewBox=\"0 0 24 24\"\n",
              "       width=\"24px\">\n",
              "    <path d=\"M0 0h24v24H0V0z\" fill=\"none\"/>\n",
              "    <path d=\"M18.56 5.44l.94 2.06.94-2.06 2.06-.94-2.06-.94-.94-2.06-.94 2.06-2.06.94zm-11 1L8.5 8.5l.94-2.06 2.06-.94-2.06-.94L8.5 2.5l-.94 2.06-2.06.94zm10 10l.94 2.06.94-2.06 2.06-.94-2.06-.94-.94-2.06-.94 2.06-2.06.94z\"/><path d=\"M17.41 7.96l-1.37-1.37c-.4-.4-.92-.59-1.43-.59-.52 0-1.04.2-1.43.59L10.3 9.45l-7.72 7.72c-.78.78-.78 2.05 0 2.83L4 21.41c.39.39.9.59 1.41.59.51 0 1.02-.2 1.41-.59l7.78-7.78 2.81-2.81c.8-.78.8-2.07 0-2.86zM5.41 20L4 18.59l7.72-7.72 1.47 1.35L5.41 20z\"/>\n",
              "  </svg>\n",
              "      </button>\n",
              "      \n",
              "  <style>\n",
              "    .colab-df-container {\n",
              "      display:flex;\n",
              "      flex-wrap:wrap;\n",
              "      gap: 12px;\n",
              "    }\n",
              "\n",
              "    .colab-df-convert {\n",
              "      background-color: #E8F0FE;\n",
              "      border: none;\n",
              "      border-radius: 50%;\n",
              "      cursor: pointer;\n",
              "      display: none;\n",
              "      fill: #1967D2;\n",
              "      height: 32px;\n",
              "      padding: 0 0 0 0;\n",
              "      width: 32px;\n",
              "    }\n",
              "\n",
              "    .colab-df-convert:hover {\n",
              "      background-color: #E2EBFA;\n",
              "      box-shadow: 0px 1px 2px rgba(60, 64, 67, 0.3), 0px 1px 3px 1px rgba(60, 64, 67, 0.15);\n",
              "      fill: #174EA6;\n",
              "    }\n",
              "\n",
              "    [theme=dark] .colab-df-convert {\n",
              "      background-color: #3B4455;\n",
              "      fill: #D2E3FC;\n",
              "    }\n",
              "\n",
              "    [theme=dark] .colab-df-convert:hover {\n",
              "      background-color: #434B5C;\n",
              "      box-shadow: 0px 1px 3px 1px rgba(0, 0, 0, 0.15);\n",
              "      filter: drop-shadow(0px 1px 2px rgba(0, 0, 0, 0.3));\n",
              "      fill: #FFFFFF;\n",
              "    }\n",
              "  </style>\n",
              "\n",
              "      <script>\n",
              "        const buttonEl =\n",
              "          document.querySelector('#df-1c02c3ef-b90b-43f1-8e96-97be23024432 button.colab-df-convert');\n",
              "        buttonEl.style.display =\n",
              "          google.colab.kernel.accessAllowed ? 'block' : 'none';\n",
              "\n",
              "        async function convertToInteractive(key) {\n",
              "          const element = document.querySelector('#df-1c02c3ef-b90b-43f1-8e96-97be23024432');\n",
              "          const dataTable =\n",
              "            await google.colab.kernel.invokeFunction('convertToInteractive',\n",
              "                                                     [key], {});\n",
              "          if (!dataTable) return;\n",
              "\n",
              "          const docLinkHtml = 'Like what you see? Visit the ' +\n",
              "            '<a target=\"_blank\" href=https://colab.research.google.com/notebooks/data_table.ipynb>data table notebook</a>'\n",
              "            + ' to learn more about interactive tables.';\n",
              "          element.innerHTML = '';\n",
              "          dataTable['output_type'] = 'display_data';\n",
              "          await google.colab.output.renderOutput(dataTable, element);\n",
              "          const docLink = document.createElement('div');\n",
              "          docLink.innerHTML = docLinkHtml;\n",
              "          element.appendChild(docLink);\n",
              "        }\n",
              "      </script>\n",
              "    </div>\n",
              "  </div>\n",
              "  "
            ]
          },
          "metadata": {},
          "execution_count": 46
        }
      ]
    },
    {
      "cell_type": "markdown",
      "source": [
        "Trading strategies results."
      ],
      "metadata": {
        "id": "hp5AxbERZsVp"
      }
    },
    {
      "cell_type": "markdown",
      "source": [
        "Buy and hold"
      ],
      "metadata": {
        "id": "7x6bKAZIZu_T"
      }
    },
    {
      "cell_type": "code",
      "source": [
        "capital = buy_and_hold(year_2_data_daily,100,len(year_2_data_daily)-1)\n",
        "print(\"The capital from investing 100 dollars in buy and hold is as follows: \" + str(round(capital,2)))"
      ],
      "metadata": {
        "colab": {
          "base_uri": "https://localhost:8080/"
        },
        "id": "j12GOTodZuce",
        "outputId": "c5e2b532-ab10-40d8-f6d9-d8c5a0425371"
      },
      "execution_count": 47,
      "outputs": [
        {
          "output_type": "stream",
          "name": "stdout",
          "text": [
            "The capital from investing 100 dollars in buy and hold is as follows: 225.78\n"
          ]
        }
      ]
    },
    {
      "cell_type": "markdown",
      "source": [
        "Buy with labels"
      ],
      "metadata": {
        "id": "kIA7bhp9Zwet"
      }
    },
    {
      "cell_type": "code",
      "source": [
        "#return on investment\n",
        "roi = buy_with_labels(year_2_data_daily,len(year_2_data_daily)-1)\n",
        "print(\"The cash with us after investing using buy with labels strategy is: \"+str(round(roi,2)))"
      ],
      "metadata": {
        "colab": {
          "base_uri": "https://localhost:8080/"
        },
        "id": "C4l7qbAdZxlV",
        "outputId": "6c391809-0614-4f6e-8b79-d165ce675391"
      },
      "execution_count": 48,
      "outputs": [
        {
          "output_type": "stream",
          "name": "stdout",
          "text": [
            "The cash with us after investing using buy with labels strategy is: 497.37\n"
          ]
        }
      ]
    }
  ]
}